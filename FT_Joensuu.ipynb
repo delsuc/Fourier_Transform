{
 "cells": [
  {
   "cell_type": "markdown",
   "metadata": {},
   "source": [
    "# Fourier transform for Mass Spectrometry course\n",
    "*Marc-André Delsuc - Joensuu August 2018*\n",
    "\n",
    "This course is realized in python in the Jupyter-notebook environment.\n",
    "\n",
    "## *For the Fourier Transform course*\n",
    "I will be using a live python computing environment.\n",
    "\n",
    "**If you want to play with me**, you'll need\n",
    "\n",
    "- Anaconda Python distribution:  **https://www.anaconda.com/**\n",
    "\n",
    "download and install\n",
    "\n",
    "- the python code: **https://github.com/delsuc/Fourier_Transform** just dowload the whole stuff\n",
    "\n",
    "unzip the archive\n",
    "\n",
    "go to the folder, then type\n",
    "    > jupyter notebook\n",
    "\n",
    "that should make it\n",
    "\n",
    "## Organisation :\n",
    "- [jupyter environment](Jupyter_environment.ipynb)\n",
    "first contacts, a glimpse on python (you can find a longer presentation on [github.com/delsuc](https://github.com/delsuc/MemoBio2015/blob/master/Presentation.ipynb) )\n",
    "- [Fourier transform: definitions, basic properties](Definition_Properties.ipynb)\n",
    "basis of Fourier transform\n",
    "- [basic FT-MS processing](Basic_FT.ipynb) an interactive practical on the fundamentals of Fourier transform\n",
    "- [advanced FT-MS processing](FTICR_1.ipynb), a complete processing of a FT-ICR dataset\n",
    " "
   ]
  },
  {
   "cell_type": "code",
   "execution_count": null,
   "metadata": {},
   "outputs": [],
   "source": []
  }
 ],
 "metadata": {
  "anaconda-cloud": {},
  "kernelspec": {
   "display_name": "Python 3",
   "language": "python",
   "name": "python3"
  },
  "language_info": {
   "codemirror_mode": {
    "name": "ipython",
    "version": 3
   },
   "file_extension": ".py",
   "mimetype": "text/x-python",
   "name": "python",
   "nbconvert_exporter": "python",
   "pygments_lexer": "ipython3",
   "version": "3.6.4"
  }
 },
 "nbformat": 4,
 "nbformat_minor": 2
}
