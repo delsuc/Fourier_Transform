{
 "cells": [
  {
   "cell_type": "markdown",
   "metadata": {},
   "source": [
    "# Fourier transform for Mass Spectrometry course\n",
    "*Marc-André Delsuc - Joensuu August 2018*\n",
    "\n",
    "This course is realized in python in the Jupyter-notebook environment.\n",
    "\n",
    "## *For the Fourier Transform course*\n",
    "I will be using a live python computing environment.\n",
    "\n",
    "**If you want to play with the program**, you'll need\n",
    "\n",
    "- Anaconda Python distribution:  **https://www.anaconda.com/**\n",
    "\n",
    "download and install\n",
    "\n",
    "- the python code: **https://github.com/delsuc/Fourier_Transform** just download the whole stuff\n",
    "\n",
    "unzip the archive\n",
    "\n",
    "go to the folder, then type\n",
    "    > jupyter notebook\n",
    "\n",
    "that should make it\n",
    "\n",
    "## Organisation :\n",
    "- [jupyter environment](Jupyter_environment.ipynb)\n",
    "first contacts, a glimpse on python (you can find a longer presentation on [github.com/delsuc](https://github.com/delsuc/MemoBio2015/blob/master/Presentation.ipynb) )\n",
    "- [Fourier transform: definitions, basic properties](Definition_Properties.ipynb)\n",
    "basis of Fourier transform\n",
    "- [basic FT-MS processing](Basic_FT.ipynb) an interactive practical on the fundamentals of Fourier transform\n",
    "- [advanced FT-MS processing](FTICR_1.ipynb), a complete processing of a FT-ICR dataset\n",
    " "
   ]
  }
 ],
 "metadata": {
  "anaconda-cloud": {},
  "kernelspec": {
   "display_name": "Python 3",
   "language": "python",
   "name": "python3"
  },
  "language_info": {
   "codemirror_mode": {
    "name": "ipython",
    "version": 3
   },
   "file_extension": ".py",
   "mimetype": "text/x-python",
   "name": "python",
   "nbconvert_exporter": "python",
   "pygments_lexer": "ipython3",
   "version": "3.6.8"
  },
  "varInspector": {
   "cols": {
    "lenName": 16,
    "lenType": 16,
    "lenVar": 40
   },
   "kernels_config": {
    "python": {
     "delete_cmd_postfix": "",
     "delete_cmd_prefix": "del ",
     "library": "var_list.py",
     "varRefreshCmd": "print(var_dic_list())"
    },
    "r": {
     "delete_cmd_postfix": ") ",
     "delete_cmd_prefix": "rm(",
     "library": "var_list.r",
     "varRefreshCmd": "cat(var_dic_list()) "
    }
   },
   "types_to_exclude": [
    "module",
    "function",
    "builtin_function_or_method",
    "instance",
    "_Feature"
   ],
   "window_display": false
  }
 },
 "nbformat": 4,
 "nbformat_minor": 2
}
