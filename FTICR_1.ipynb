{
 "cells": [
  {
   "cell_type": "markdown",
   "metadata": {},
   "source": [
    "# Example of processing FT-ICR data\n",
    "\n",
    "First load some libraries"
   ]
  },
  {
   "cell_type": "code",
   "execution_count": 1,
   "metadata": {},
   "outputs": [],
   "source": [
    "from __future__ import print_function, division\n",
    "import array\n",
    "import os.path as op\n",
    "import numpy as np\n",
    "\n",
    "import matplotlib as mpl\n",
    "import matplotlib.pylab as plt\n",
    "%matplotlib inline"
   ]
  },
  {
   "cell_type": "markdown",
   "metadata": {},
   "source": [
    "locate the data-set which should be in the repository"
   ]
  },
  {
   "cell_type": "code",
   "execution_count": 2,
   "metadata": {},
   "outputs": [
    {
     "name": "stdout",
     "output_type": "stream",
     "text": [
      "\u001b[34mWesley_nanoLCMS04042012.m\u001b[m\u001b[m/ \u001b[31manalysis.baf_xtr\u001b[m\u001b[m*\r\n",
      "\u001b[31manalysis.baf\u001b[m\u001b[m*              \u001b[31mdesktop.ini\u001b[m\u001b[m*\r\n",
      "\u001b[31manalysis.baf_idx\u001b[m\u001b[m*          \u001b[31mfid\u001b[m\u001b[m*\r\n"
     ]
    }
   ],
   "source": [
    "ls files/FTICR-Files/080617-insulin_2M_MS_000001.d"
   ]
  },
  {
   "cell_type": "markdown",
   "metadata": {},
   "source": [
    "so now we can read it"
   ]
  },
  {
   "cell_type": "code",
   "execution_count": 3,
   "metadata": {},
   "outputs": [],
   "source": [
    "BASE = 'files/FTICR-Files/ESI_pos_Ubiquitin_000006.d'"
   ]
  },
  {
   "cell_type": "code",
   "execution_count": 4,
   "metadata": {},
   "outputs": [],
   "source": [
    "F = open(  op.join(BASE, 'fid'), 'rb')\n",
    "tbuf = F.read()\n",
    "fid = np.array(array.array('i',tbuf))\n",
    "F.close()"
   ]
  },
  {
   "cell_type": "code",
   "execution_count": 5,
   "metadata": {},
   "outputs": [
    {
     "data": {
      "text/plain": [
       "4194304"
      ]
     },
     "execution_count": 5,
     "metadata": {},
     "output_type": "execute_result"
    }
   ],
   "source": [
    "len(fid)"
   ]
  },
  {
   "cell_type": "code",
   "execution_count": 6,
   "metadata": {},
   "outputs": [
    {
     "data": {
      "text/plain": [
       "array([ 1137,   125,  1623,   952,  -138,  -366,  -857, -1464, -1604,\n",
       "       -1247], dtype=int32)"
      ]
     },
     "execution_count": 6,
     "metadata": {},
     "output_type": "execute_result"
    }
   ],
   "source": [
    "fid[1000:1010]"
   ]
  },
  {
   "cell_type": "code",
   "execution_count": 7,
   "metadata": {},
   "outputs": [
    {
     "data": {
      "text/plain": [
       "[<matplotlib.lines.Line2D at 0x1123757b8>]"
      ]
     },
     "execution_count": 7,
     "metadata": {},
     "output_type": "execute_result"
    },
    {
     "data": {
      "image/png": "[encoded data removed]",
      "text/plain": [
       "<Figure size 432x288 with 1 Axes>"
      ]
     },
     "metadata": {},
     "output_type": "display_data"
    }
   ],
   "source": [
    "plt.plot(fid)"
   ]
  },
  {
   "cell_type": "markdown",
   "metadata": {},
   "source": [
    "### Fourier processing \n",
    "*small complication*\n",
    "\n",
    "There are 2 fft packages available\n",
    " - `numpy.fft`\n",
    "   - simple, basic, efficient\n",
    " - `scipy.fftpack`\n",
    "   - slightly faster, more complex\n",
    "\n",
    "we are going to use `numpy.fft`"
   ]
  },
  {
   "cell_type": "code",
   "execution_count": 8,
   "metadata": {},
   "outputs": [],
   "source": [
    "sp = np.fft.fft(fid)"
   ]
  },
  {
   "cell_type": "code",
   "execution_count": 9,
   "metadata": {},
   "outputs": [
    {
     "name": "stdout",
     "output_type": "stream",
     "text": [
      "(-70742.64832249525+217578.94774257578j)\n"
     ]
    },
    {
     "data": {
      "text/plain": [
       "4194304"
      ]
     },
     "execution_count": 9,
     "metadata": {},
     "output_type": "execute_result"
    }
   ],
   "source": [
    "print (sp[10])\n",
    "len(sp)"
   ]
  },
  {
   "cell_type": "code",
   "execution_count": 10,
   "metadata": {},
   "outputs": [],
   "source": [
    "# default size of the figures\n",
    "mpl.rcParams['figure.figsize'] = [10.0,8.0]\n",
    "# this helps matplotlib to draw the huge vectors we're using (4-8Mpoints)\n",
    "mpl.rcParams['agg.path.chunksize'] = 100000"
   ]
  },
  {
   "cell_type": "code",
   "execution_count": 11,
   "metadata": {},
   "outputs": [
    {
     "name": "stderr",
     "output_type": "stream",
     "text": [
      "/Users/mad/anaconda3/lib/python3.6/site-packages/numpy/core/numeric.py:492: ComplexWarning: Casting complex values to real discards the imaginary part\n",
      "  return array(a, dtype, copy=False, order=order)\n"
     ]
    },
    {
     "data": {
      "text/plain": [
       "[<matplotlib.lines.Line2D at 0x11eff89b0>]"
      ]
     },
     "execution_count": 11,
     "metadata": {},
     "output_type": "execute_result"
    },
    {
     "data": {
      "image/png": "[encoded data removed]",
      "text/plain": [
       "<Figure size 720x576 with 1 Axes>"
      ]
     },
     "metadata": {},
     "output_type": "display_data"
    }
   ],
   "source": [
    "plt.plot(sp)"
   ]
  },
  {
   "cell_type": "markdown",
   "metadata": {},
   "source": [
    "3 remarks\n",
    " - imaginary discarded (eventually silently)\n",
    " - phase\n",
    " - symetry\n",
    "\n",
    "1 syntax remark"
   ]
  },
  {
   "cell_type": "code",
   "execution_count": 12,
   "metadata": {},
   "outputs": [
    {
     "name": "stdout",
     "output_type": "stream",
     "text": [
      "(-2681443+0j)\n"
     ]
    },
    {
     "data": {
      "text/plain": [
       "2097153"
      ]
     },
     "execution_count": 12,
     "metadata": {},
     "output_type": "execute_result"
    }
   ],
   "source": [
    "from numpy.fft import fft, rfft\n",
    "sp = rfft(fid)\n",
    "print (sp[0])\n",
    "len(sp)"
   ]
  },
  {
   "cell_type": "code",
   "execution_count": 13,
   "metadata": {},
   "outputs": [
    {
     "data": {
      "text/plain": [
       "[<matplotlib.lines.Line2D at 0x145a8b898>]"
      ]
     },
     "execution_count": 13,
     "metadata": {},
     "output_type": "execute_result"
    },
    {
     "data": {
      "image/png": "[encoded data removed]",
      "text/plain": [
       "<Figure size 720x576 with 1 Axes>"
      ]
     },
     "metadata": {},
     "output_type": "display_data"
    }
   ],
   "source": [
    "plt.plot(abs(sp))     # absolute value is modulus"
   ]
  },
  {
   "cell_type": "code",
   "execution_count": 14,
   "metadata": {},
   "outputs": [
    {
     "data": {
      "text/plain": [
       "[<matplotlib.lines.Line2D at 0x14bae25f8>]"
      ]
     },
     "execution_count": 14,
     "metadata": {},
     "output_type": "execute_result"
    },
    {
     "data": {
      "image/png": "[encoded data removed]",
      "text/plain": [
       "<Figure size 720x576 with 1 Axes>"
      ]
     },
     "metadata": {},
     "output_type": "display_data"
    }
   ],
   "source": [
    "# let's zoom in\n",
    "plt.plot(abs(sp[720000:722000]))"
   ]
  },
  {
   "cell_type": "code",
   "execution_count": 15,
   "metadata": {},
   "outputs": [
    {
     "name": "stderr",
     "output_type": "stream",
     "text": [
      "/Users/mad/anaconda3/lib/python3.6/site-packages/numpy/core/numeric.py:492: ComplexWarning: Casting complex values to real discards the imaginary part\n",
      "  return array(a, dtype, copy=False, order=order)\n"
     ]
    },
    {
     "data": {
      "text/plain": [
       "[<matplotlib.lines.Line2D at 0x14dda0b70>]"
      ]
     },
     "execution_count": 15,
     "metadata": {},
     "output_type": "execute_result"
    },
    {
     "data": {
      "image/png": "[encoded data removed]",
      "text/plain": [
       "<Figure size 720x576 with 1 Axes>"
      ]
     },
     "metadata": {},
     "output_type": "display_data"
    },
    {
     "data": {
      "image/png": "[encoded data removed]",
      "text/plain": [
       "<Figure size 720x576 with 1 Axes>"
      ]
     },
     "metadata": {},
     "output_type": "display_data"
    }
   ],
   "source": [
    "# without the abs() we see the phase rotating\n",
    "plt.plot(sp[720000:722000])\n",
    "plt.figure()\n",
    "# we rotate by 90° the phase\n",
    "plt.plot(1j*sp[720000:722000])\n"
   ]
  },
  {
   "cell_type": "markdown",
   "metadata": {},
   "source": [
    "## 2 possible improvements\n",
    " - improved resolution by apodisation\n",
    " - recovery of the full resolution by zerofilling\n",
    " \n",
    " ### apodisation"
   ]
  },
  {
   "cell_type": "code",
   "execution_count": 16,
   "metadata": {},
   "outputs": [
    {
     "data": {
      "text/plain": [
       "[<matplotlib.lines.Line2D at 0x14dc21e10>]"
      ]
     },
     "execution_count": 16,
     "metadata": {},
     "output_type": "execute_result"
    },
    {
     "data": {
      "image/png": "[encoded data removed]",
      "text/plain": [
       "<Figure size 720x576 with 1 Axes>"
      ]
     },
     "metadata": {},
     "output_type": "display_data"
    }
   ],
   "source": [
    "plt.plot(np.hamming(100))\n"
   ]
  },
  {
   "cell_type": "markdown",
   "metadata": {},
   "source": [
    "there is also `blackman` `hanning`  `bartlett`..."
   ]
  },
  {
   "cell_type": "code",
   "execution_count": 17,
   "metadata": {},
   "outputs": [],
   "source": [
    "sp2 = rfft( np.hamming(len(fid))*fid )"
   ]
  },
  {
   "cell_type": "code",
   "execution_count": 18,
   "metadata": {},
   "outputs": [
    {
     "data": {
      "text/plain": [
       "[<matplotlib.lines.Line2D at 0x152112470>]"
      ]
     },
     "execution_count": 18,
     "metadata": {},
     "output_type": "execute_result"
    },
    {
     "data": {
      "image/png": "[encoded data removed]",
      "text/plain": [
       "<Figure size 720x576 with 1 Axes>"
      ]
     },
     "metadata": {},
     "output_type": "display_data"
    },
    {
     "data": {
      "image/png": "[encoded data removed]",
      "text/plain": [
       "<Figure size 720x576 with 1 Axes>"
      ]
     },
     "metadata": {},
     "output_type": "display_data"
    }
   ],
   "source": [
    "plt.plot(abs(sp2))\n",
    "plt.figure()\n",
    "plt.plot(abs(sp2[720000:722000]))"
   ]
  },
  {
   "cell_type": "markdown",
   "metadata": {},
   "source": [
    "Notice how lineshape is improved, and the isotopic pattern intensities restored\n",
    "\n",
    "We can superimpose both processing, zooming on a line you can see that FWHM is sligthly worse when apodized.\n",
    "\n",
    "Theory is 1.5 for hamming window, but does not really show here."
   ]
  },
  {
   "cell_type": "code",
   "execution_count": 19,
   "metadata": {},
   "outputs": [
    {
     "name": "stderr",
     "output_type": "stream",
     "text": [
      "/Users/mad/anaconda3/lib/python3.6/site-packages/numpy/core/numeric.py:492: ComplexWarning: Casting complex values to real discards the imaginary part\n",
      "  return array(a, dtype, copy=False, order=order)\n"
     ]
    },
    {
     "data": {
      "text/plain": [
       "<matplotlib.legend.Legend at 0x1583011d0>"
      ]
     },
     "execution_count": 19,
     "metadata": {},
     "output_type": "execute_result"
    },
    {
     "data": {
      "image/png": "[encoded data removed]",
      "text/plain": [
       "<Figure size 720x576 with 1 Axes>"
      ]
     },
     "metadata": {},
     "output_type": "display_data"
    }
   ],
   "source": [
    "plt.plot(abs(sp)/max(sp), label=\"no apodisation\")\n",
    "plt.plot(abs(sp2)/max(sp2), label=\"HAmming apodisation\")\n",
    "plt.xlim(721050,721080)\n",
    "plt.legend()"
   ]
  },
  {
   "cell_type": "markdown",
   "metadata": {},
   "source": [
    "### zerofilling\n",
    "\n",
    "zerofilling consists in adding zero at the end of the FID to interpolate points in the spectrum and smooth the result\n",
    "\n",
    "( and an example of slighlty different numpy arithmetics)"
   ]
  },
  {
   "cell_type": "code",
   "execution_count": 20,
   "metadata": {},
   "outputs": [],
   "source": [
    "n = len(fid)\n",
    "fidzf = np.zeros(2*n)\n"
   ]
  },
  {
   "cell_type": "code",
   "execution_count": 21,
   "metadata": {},
   "outputs": [
    {
     "data": {
      "text/plain": [
       "[<matplotlib.lines.Line2D at 0x167d86eb8>]"
      ]
     },
     "execution_count": 21,
     "metadata": {},
     "output_type": "execute_result"
    },
    {
     "data": {
      "image/png": "[encoded data removed]",
      "text/plain": [
       "<Figure size 720x576 with 1 Axes>"
      ]
     },
     "metadata": {},
     "output_type": "display_data"
    }
   ],
   "source": [
    "fidzf[:n] = fid[:]\n",
    "fidzf[:n] *= np.hamming(n)\n",
    "spzf = abs(rfft( fidzf ))\n",
    "plt.plot(abs(spzf[2*720000:2*722000]))"
   ]
  },
  {
   "cell_type": "markdown",
   "metadata": {},
   "source": [
    "lineshape and isotopic pattern intensities further improved !"
   ]
  },
  {
   "cell_type": "code",
   "execution_count": 22,
   "metadata": {},
   "outputs": [
    {
     "data": {
      "text/plain": [
       "<matplotlib.legend.Legend at 0x179e237b8>"
      ]
     },
     "execution_count": 22,
     "metadata": {},
     "output_type": "execute_result"
    },
    {
     "data": {
      "image/png": "[encoded data removed]",
      "text/plain": [
       "<Figure size 720x576 with 2 Axes>"
      ]
     },
     "metadata": {},
     "output_type": "display_data"
    }
   ],
   "source": [
    "plt.subplot(211)\n",
    "plt.plot(abs(sp2[721100:721200]), label='direct')\n",
    "plt.legend()\n",
    "plt.subplot(212)\n",
    "plt.plot(abs(spzf[2*721100:2*721200]), label='with zerofilling')\n",
    "plt.legend()"
   ]
  },
  {
   "cell_type": "markdown",
   "metadata": {},
   "source": [
    "# m/z Calibration\n",
    "In FT-ICR, the frequency $f$ depends on the magnetic field $B_o$ the charge $z$ and the mass $m$ :\n",
    "$$ f = \\frac{B_o z}{m} \\quad \\Rightarrow \\quad  m/z = \\frac{B_o}{f}$$\n",
    "We are going to use a sligthly extended equation which takes cares of experimental imperfections:\n",
    "$$ m/z = \\frac{M_1}{M_2+f}$$\n",
    "where $M_1$ and $M_2$ are constants determined precisely by a calibration procedure\n",
    "\n",
    "### parameter files\n",
    "FT-ICR parameters are stored in the .method files"
   ]
  },
  {
   "cell_type": "code",
   "execution_count": 23,
   "metadata": {},
   "outputs": [
    {
     "name": "stdout",
     "output_type": "stream",
     "text": [
      "\u001b[31mfiles/FTICR-Files/ESI_pos_Ubiquitin_000006.d/ESI_pos_150_3000.m/apexAcquisition.method\u001b[m\u001b[m*\r\n"
     ]
    }
   ],
   "source": [
    "ls 'files/FTICR-Files/ESI_pos_Ubiquitin_000006.d/ESI_pos_150_3000.m/apexAcquisition.method'"
   ]
  },
  {
   "cell_type": "code",
   "execution_count": 24,
   "metadata": {},
   "outputs": [
    {
     "name": "stdout",
     "output_type": "stream",
     "text": [
      "<?xml version='1.0' encoding='UTF-8'?>\r",
      "\r\n",
      "<method version=\"Apex_4_alpha\">\r",
      "\r\n",
      "\r",
      "\r\n",
      "<methodmetadata>\r",
      "\r\n",
      "<primarykey>\r",
      "\r\n",
      "  <methodfilepath>D:\\Data\\Training_June_2010\\ESI_pos_Ubiquitin_000006.d\\ESI_pos_150_3000.m\\apexAcquisition.method</methodfilepath>\r",
      "\r\n",
      "  <!-- Actual file that method was originally loaded from -->\r",
      "\r\n",
      "  <methodloadfromfile>D:\\Data\\Training_June_2010\\ESI_pos_Ubiquitin_000005.d\\ESI_pos_150_3000.m\\apexAcquisition.method</methodloadfromfile>\r",
      "\r\n",
      "  <datarootpath>D:\\Data</datarootpath>\r",
      "\r\n",
      "  <methodname>ESI_pos_150_3000</methodname>\r",
      "\r\n",
      "  <username>Administrator</username>\r",
      "\r\n",
      "  <samplename>100 fmol</samplename>\r",
      "\r\n",
      "  <sampledescription></sampledescription>\r",
      "\r\n",
      "  <date>Jun_29_2010 11:07:53.234</date>\r",
      "\r\n",
      "  <userlevel>EXPERT</userlevel>\r",
      "\r\n",
      "  <!--  HystarName = [] -->\r",
      "\r\n",
      "</primarykey>\r",
      "\r\n",
      "<version><versionname>ApexControl 1.5.0.42.8 (May 21, 2010)</versionname></version>\r",
      "\r\n",
      "</methodmetadata>\r",
      "\r\n",
      "\r",
      "\r\n",
      "\r",
      "\r\n",
      "<!-- BEGIN Time-Slice table expIndex=0 -->\r",
      "\r\n",
      "<timeslicetable  slices=\"6\" type=\"\">\r",
      "\r\n",
      "\t<param name=\"Oct1_Trap\"><value t=\"0\">0.0</value>\r",
      "\r\n",
      "\t\t<value t=\"2\">8.0</value>\r",
      "\r\n",
      "\t</param>\r",
      "\r\n",
      "\t<param name=\"CC_EntranceBiasT\"><value t=\"0\">0.0</value></param>\r",
      "\r\n",
      "\t<param name=\"CC_EntranceBiasX\"><value t=\"0\">0.5</value></param>\r",
      "\r\n",
      "\t<param name=\"CC_EntranceLensT\"><value t=\"0\">3.8</value>\r",
      "\r\n",
      "\t\t<value t=\"1\">0.0</value>\r",
      "\r\n",
      "\t\t<value t=\"5\">3.8</value>\r",
      "\r\n",
      "\t</param>\r",
      "\r\n",
      "\t<param name=\"CC_EntranceLensX\"><value t=\"0\">20.0</value></param>\r",
      "\r\n",
      "\t<param name=\"CC_ExitLensT\"><value t=\"0\">15.0</value>\r",
      "\r\n",
      "\t\t<value t=\"1\">0.0</value>\r",
      "\r\n",
      "\t\t<value t=\"5\">15.0</value>\r",
      "\r\n",
      "\t</param>\r",
      "\r\n",
      "\t<param name=\"CC_ExitLensX\"><value t=\"0\">-20.0</value></param>\r",
      "\r\n",
      "\t<param name=\"CC_FocusLens\"><value t=\"0\">-15.0</value>\r",
      "\r\n",
      "\t\t<value t=\"2\">50.0</value>\r",
      "\r\n",
      "\t</param>\r",
      "\r\n",
      "\t<param name=\"DEV2\"><value t=\"0\">10.0</value></param>\r",
      "\r\n",
      "\t<param name=\"EV1\"><value t=\"0\">-8.0</value></param>\r",
      "\r\n",
      "\t<param name=\"EV2\"><value t=\"0\">-1.0</value></param>\r",
      "\r\n",
      "\t<param name=\"Oct1_Bias2\"><value t=\"0\">2.5</value>\r",
      "\r\n",
      "\t\t<value t=\"2\">-0.8</value>\r",
      "\r\n",
      "\t</param>\r",
      "\r\n",
      "\t<param name=\"Oct1_Bias_L\"><value t=\"0\">3.0</value>\r",
      "\r\n",
      "\t\t<value t=\"2\">-100.0</value>\r",
      "\r\n",
      "\t</param>\r",
      "\r\n",
      "\t<param name=\"Oct1_Extract\"><value t=\"0\">0.0</value>\r",
      "\r\n",
      "\t\t<value t=\"1\">8.0</value>\r",
      "\r\n",
      "\t</param>\r",
      "\r\n",
      "\t<param name=\"Oct1_PartitionLens\"><value t=\"0\">2.5</value>\r",
      "\r\n",
      "\t\t<value t=\"2\">-0.7</value>\r",
      "\r\n",
      "\t</param>\r",
      "\r\n",
      "\t<param name=\"Oct1_RFAmp\"><value t=\"0\">350.0</value>\r",
      "\r\n",
      "\t\t<value t=\"1\">240.0</value>\r",
      "\r\n",
      "\t\t<value t=\"2\">200.0</value>\r",
      "\r\n",
      "\t</param>\r",
      "\r\n",
      "\t<param name=\"PV1\"><value t=\"0\">0.55</value></param>\r",
      "\r\n",
      "\t<param name=\"PV2\"><value t=\"0\">0.45</value></param>\r",
      "\r\n",
      "\t<param name=\"Q1Mass\"><value t=\"0\">857.0</value>\r",
      "\r\n",
      "\t\t<value t=\"2\">202.0</value>\r",
      "\r\n",
      "\t</param>\r",
      "\r\n",
      "\t<param name=\"Q1Res\"><value t=\"0\">0.0</value></param>\r",
      "\r\n",
      "\t<param name=\"Q1_Bias\"><value t=\"0\">0.0</value></param>\r",
      "\r\n",
      "\t<param name=\"Q1_EntranceLens\"><value t=\"0\">-1.0</value>\r",
      "\r\n",
      "\t\t<value t=\"2\">5.0</value>\r",
      "\r\n",
      "\t</param>\r",
      "\r\n",
      "\t<param name=\"Q1_ExitLens\"><value t=\"0\">4.0</value>\r",
      "\r\n",
      "\t\t<value t=\"2\">-1.7</value>\r",
      "\r\n",
      "\t</param>\r",
      "\r\n",
      "\t<param name=\"Q1_Focus\"><value t=\"0\">-120.0</value>\r",
      "\r\n",
      "\t\t<value t=\"2\">100.0</value>\r",
      "\r\n",
      "\t</param>\r",
      "\r\n",
      "\t<param name=\"Q1_PostFilter\"><value t=\"0\">0.0</value></param>\r",
      "\r\n",
      "\t<param name=\"Q1_PreFilter\"><value t=\"0\">0.0</value></param>\r",
      "\r\n",
      "\t<param name=\"S_Skimmer2_L\"><value t=\"0\">5.0</value>\r",
      "\r\n",
      "\t\t<value t=\"2\">-5.4</value>\r",
      "\r\n",
      "\t</param>\r",
      "\r\n",
      "\t<param name=\"Xfer_Bias\"><value t=\"0\">-50.0</value></param>\r",
      "\r\n",
      "\t<param name=\"Xfer_EntranceLens\"><value t=\"0\">-30.0</value></param>\r",
      "\r\n",
      "\t<param name=\"Xfer_ExitLens\"><value t=\"0\">-15.0</value></param>\r",
      "\r\n",
      "\t<param name=\"Xfer_Lens_1\"><value t=\"0\">-60.0</value></param>\r",
      "\r\n",
      "\t<param name=\"Xfer_Lens_2\"><value t=\"0\">-10.0</value></param>\r",
      "\r\n",
      "\t<param name=\"Xfer_Lens_3\"><value t=\"0\">-50.0</value></param>\r",
      "\r\n",
      "</timeslicetable>\r",
      "\r\n",
      "<!-- END Time-Slice table  -->\r",
      "\r\n",
      "\r",
      "\r\n",
      "<!-- BEGIN Time-Slice table expIndex=1 -->\r",
      "\r\n",
      "<timeslicetable  slices=\"6\" type=\"\">\r",
      "\r\n",
      "\t<param name=\"CC_EntranceBiasT\"><value t=\"0\">0.5</value>\r",
      "\r\n",
      "\t\t<value t=\"1\">0.0</value>\r",
      "\r\n",
      "\t\t<value t=\"5\">0.5</value>\r",
      "\r\n",
      "\t</param>\r",
      "\r\n",
      "\t<param name=\"CC_EntranceBiasX\"><value t=\"0\">-0.6</value></param>\r",
      "\r\n",
      "\t<param name=\"CC_EntranceLensT\"><value t=\"0\">-2.3</value>\r",
      "\r\n",
      "\t\t<value t=\"1\">0.0</value>\r",
      "\r\n",
      "\t\t<value t=\"5\">-2.3</value>\r",
      "\r\n",
      "\t</param>\r",
      "\r\n",
      "\t<param name=\"CC_EntranceLensX\"><value t=\"0\">-10.0</value></param>\r",
      "\r\n",
      "\t<param name=\"CC_ExitLensT\"><value t=\"0\">-15.0</value>\r",
      "\r\n",
      "\t\t<value t=\"1\">0.0</value>\r",
      "\r\n",
      "\t\t<value t=\"5\">-15.0</value>\r",
      "\r\n",
      "\t</param>\r",
      "\r\n",
      "\t<param name=\"CC_ExitLensX\"><value t=\"0\">20.0</value></param>\r",
      "\r\n",
      "\t<param name=\"CC_FocusLens\"><value t=\"0\">-15.0</value>\r",
      "\r\n",
      "\t\t<value t=\"2\">50.0</value>\r",
      "\r\n",
      "\t</param>\r",
      "\r\n",
      "\t<param name=\"DEV2\"><value t=\"0\">1.0</value></param>\r",
      "\r\n",
      "\t<param name=\"EV1\"><value t=\"0\">8.0</value></param>\r",
      "\r\n",
      "\t<param name=\"EV2\"><value t=\"0\">5.0</value></param>\r",
      "\r\n",
      "\t<param name=\"Oct1_Bias2\"><value t=\"0\">2.5</value>\r",
      "\r\n",
      "\t\t<value t=\"2\">-0.8</value>\r",
      "\r\n",
      "\t</param>\r",
      "\r\n",
      "\t<param name=\"Oct1_Bias_L\"><value t=\"0\">3.0</value>\r",
      "\r\n",
      "\t\t<value t=\"2\">-100.0</value>\r",
      "\r\n",
      "\t</param>\r",
      "\r\n",
      "\t<param name=\"Oct1_Extract\"><value t=\"0\">-24.0</value>\r",
      "\r\n",
      "\t\t<value t=\"2\">8.0</value>\r",
      "\r\n",
      "\t</param>\r",
      "\r\n",
      "\t<param name=\"Oct1_PartitionLens\"><value t=\"0\">2.5</value>\r",
      "\r\n",
      "\t\t<value t=\"2\">-0.7</value>\r",
      "\r\n",
      "\t</param>\r",
      "\r\n",
      "\t<param name=\"Oct1_RFAmp\"><value t=\"0\">240.0</value>\r",
      "\r\n",
      "\t\t<value t=\"2\">200.0</value>\r",
      "\r\n",
      "\t</param>\r",
      "\r\n",
      "\t<param name=\"Oct1_Trap\"><value t=\"0\">0.0</value>\r",
      "\r\n",
      "\t\t<value t=\"2\">8.0</value>\r",
      "\r\n",
      "\t</param>\r",
      "\r\n",
      "\t<param name=\"PV1\"><value t=\"0\">-0.5</value></param>\r",
      "\r\n",
      "\t<param name=\"PV2\"><value t=\"0\">-0.6</value></param>\r",
      "\r\n",
      "\t<param name=\"Q1Mass\"><value t=\"0\">857.0</value>\r",
      "\r\n",
      "\t\t<value t=\"2\">202.0</value>\r",
      "\r\n",
      "\t</param>\r",
      "\r\n",
      "\t<param name=\"Q1Res\"><value t=\"0\">0.0</value></param>\r",
      "\r\n",
      "\t<param name=\"Q1_Bias\"><value t=\"0\">0.0</value></param>\r",
      "\r\n",
      "\t<param name=\"Q1_EntranceLens\"><value t=\"0\">-1.0</value>\r",
      "\r\n",
      "\t\t<value t=\"2\">5.0</value>\r",
      "\r\n",
      "\t</param>\r",
      "\r\n",
      "\t<param name=\"Q1_ExitLens\"><value t=\"0\">4.0</value>\r",
      "\r\n",
      "\t\t<value t=\"2\">-1.7</value>\r",
      "\r\n",
      "\t</param>\r",
      "\r\n",
      "\t<param name=\"Q1_Focus\"><value t=\"0\">-120.0</value>\r",
      "\r\n",
      "\t\t<value t=\"2\">100.0</value>\r",
      "\r\n",
      "\t</param>\r",
      "\r\n",
      "\t<param name=\"Q1_PostFilter\"><value t=\"0\">0.0</value></param>\r",
      "\r\n",
      "\t<param name=\"Q1_PreFilter\"><value t=\"0\">0.0</value></param>\r",
      "\r\n",
      "\t<param name=\"S_Skimmer2_L\"><value t=\"0\">5.0</value>\r",
      "\r\n",
      "\t\t<value t=\"2\">-5.4</value>\r",
      "\r\n",
      "\t</param>\r",
      "\r\n",
      "\t<param name=\"Xfer_Bias\"><value t=\"0\">24.0</value></param>\r",
      "\r\n",
      "\t<param name=\"Xfer_EntranceLens\"><value t=\"0\">16.0</value></param>\r",
      "\r",
      "\r\n",
      "\t<param name=\"Xfer_ExitLens\"><value t=\"0\">13.0</value></param>\r",
      "\r\n",
      "\t<param name=\"Xfer_Lens_1\"><value t=\"0\">44.0</value></param>\r",
      "\r\n",
      "\t<param name=\"Xfer_Lens_2\"><value t=\"0\">11.0</value></param>\r",
      "\r\n",
      "\t<param name=\"Xfer_Lens_3\"><value t=\"0\">40.0</value></param>\r",
      "\r\n",
      "</timeslicetable>\r",
      "\r\n",
      "<!-- END Time-Slice table  -->\r",
      "\r\n",
      "\r",
      "\r\n",
      "\r",
      "\r\n",
      "<paramlist>\r",
      "\r\n",
      "<param name=\"AMS_ActiveExclusion\"><value>0</value></param>\r",
      "\r\n",
      "<param name=\"AMS_BasePeak\"><value>0</value></param>\r",
      "\r\n",
      "<param name=\"AMS_ChargeStateTolerance\"><value>0.0</value></param>\r",
      "\r\n",
      "<param name=\"AMS_CollisionalActivationEnabled\"><value>1</value></param>\r",
      "\r\n",
      "<param name=\"AMS_DynamicExclusion\"><value>0</value></param>\r",
      "\r\n",
      "<param name=\"AMS_EXCL_Masses\"><value>&lt;masslistarray&gt;&lt;masslist starttime=\"0.0\"&gt;&lt;/masslist&gt;&lt;/masslistarray&gt;</value></param>\r",
      "\r\n",
      "<param name=\"AMS_EnergyFile\"><value>\t\t1: 0.027   17.044\t\t2: 0.0386  -3.5576\t\t3: 0.0291  -1.0453\t\t4: 0.0291  -1.0453\t\t5: 0.0291  -1.0453\t\t6: 0.0291  -1.0453\t\t</value></param>\r",
      "\r\n",
      "<param name=\"AMS_ExcludeAfter\"><value>1</value></param>\r",
      "\r\n",
      "<param name=\"AMS_FixedCollisionVoltage\"><value>-16.0</value></param>\r",
      "\r\n",
      "<param name=\"AMS_FixedCollisionVoltageEnabled\"><value>1</value></param>\r",
      "\r\n",
      "<param name=\"AMS_FractionatedFIA\"><value>0</value></param>\r",
      "\r\n",
      "<param name=\"AMS_FragmentationMode\"><value>0</value></param>\r",
      "\r\n",
      "<param name=\"AMS_INCL_Masses\"><value>&lt;masslistarray&gt;&lt;masslist starttime=\"0.0\"&gt;&lt;/masslist&gt;&lt;/masslistarray&gt;</value></param>\r",
      "\r\n",
      "<param name=\"AMS_IsolationEnabled\"><value>0</value></param>\r",
      "\r\n",
      "<param name=\"AMS_MSMSBoostEnabled\"><value>0</value></param>\r",
      "\r\n",
      "<param name=\"AMS_MSMSDuration\"><value>4.0</value></param>\r",
      "\r\n",
      "<param name=\"AMS_MassAccuracy\"><value>20.0</value></param>\r",
      "\r\n",
      "<param name=\"AMS_MaxNumParentIons\"><value>1</value></param>\r",
      "\r\n",
      "<param name=\"AMS_MaxThreshold\"><value>1.0E38</value></param>\r",
      "\r\n",
      "<param name=\"AMS_MinThreshold\"><value>0.0</value></param>\r",
      "\r\n",
      "<param name=\"AMS_PreferMultiplyCharged\"><value>1</value></param>\r",
      "\r\n",
      "<param name=\"AMS_Priority_Masses\"><value>&lt;masslistarray&gt;&lt;masslist starttime=\"0.0\"&gt;&lt;/masslist&gt;&lt;/masslistarray&gt;</value></param>\r",
      "\r\n",
      "<param name=\"AMS_ReleaseAfter\"><value>1.0</value></param>\r",
      "\r\n",
      "<param name=\"AMS_SourceQuench\"><value>1</value></param>\r",
      "\r\n",
      "<param name=\"AMS_ThresholdSelectionMode\"><value>0</value></param>\r",
      "\r\n",
      "<param name=\"AMS_UI_FragmentationType_Selection\"><value>0</value></param>\r",
      "\r\n",
      "<param name=\"API_APCI_HVSW\"><value>0</value></param>\r",
      "\r\n",
      "<param name=\"API_CapillaryEntrance\"><value>4500.0</value></param>\r",
      "\r\n",
      "<param name=\"API_CoronadNeedle\"><value>0.0</value></param>\r",
      "\r\n",
      "<param name=\"API_DivertVale_Position\"><value>1</value></param>\r",
      "\r\n",
      "<param name=\"API_DivertVale_Type\"><value>1</value></param>\r",
      "\r\n",
      "<param name=\"API_DryGasFlow\"><value>4.0</value></param>\r",
      "\r\n",
      "<param name=\"API_DryGasSW\"><value>1</value></param>\r",
      "\r\n",
      "<param name=\"API_DryGasTemp\"><value>220.0</value></param>\r",
      "\r\n",
      "<param name=\"API_DryGasTempSW\"><value>1</value></param>\r",
      "\r\n",
      "<param name=\"API_ESI_HVSW\"><value>1</value></param>\r",
      "\r\n",
      "<param name=\"API_NebGasFlow\"><value>1.2</value></param>\r",
      "\r\n",
      "<param name=\"API_NebGasTemp\"><value>0.0</value></param>\r",
      "\r\n",
      "<param name=\"API_NebSW\"><value>1</value></param>\r",
      "\r\n",
      "<param name=\"API_NebTempSW\"><value>0</value></param>\r",
      "\r\n",
      "<param name=\"API_Polarity\"><value>0</value></param>\r",
      "\r\n",
      "<param name=\"API_SourceType\"><value>1</value></param>\r",
      "\r\n",
      "<param name=\"API_SprayShield\"><value>-500.0</value></param>\r",
      "\r\n",
      "<param name=\"API_SyringeFlowRate\"><value>120.0</value></param>\r",
      "\r\n",
      "<param name=\"API_SyringeRateUnit\"><value>1</value></param>\r",
      "\r\n",
      "<param name=\"AQSmode\"><value>0</value></param>\r",
      "\r\n",
      "<param name=\"AQ_mod\"><value>0</value></param>\r",
      "\r\n",
      "<param name=\"AZURA_Enable\"><value>0</value></param>\r",
      "\r\n",
      "<param name=\"Add_Lock_Mass\"><value>0</value></param>\r",
      "\r\n",
      "<param name=\"Aperture_State\"><value>0</value></param>\r",
      "\r\n",
      "<param name=\"AqDSize\"><value>1048576</value></param>\r",
      "\r\n",
      "<param name=\"BC_mod\"><value>1</value></param>\r",
      "\r\n",
      "<param name=\"BF1\"><value>0.0</value></param>\r",
      "\r\n",
      "<param name=\"BYTORDA\"><value>0</value></param>\r",
      "\r\n",
      "<param name=\"BYTORDP\"><value>0</value></param>\r",
      "\r\n",
      "<param name=\"CC_EntranceBiasT\"><value>0.0</value></param>\r",
      "\r\n",
      "<param name=\"CC_EntranceBiasX\"><value>0.5</value></param>\r",
      "\r\n",
      "<param name=\"CC_EntranceLensT\"><value>3.8</value></param>\r",
      "\r\n",
      "<param name=\"CC_EntranceLensX\"><value>20.0</value></param>\r",
      "\r\n",
      "<param name=\"CC_ExitLensT\"><value>15.0</value></param>\r",
      "\r\n",
      "<param name=\"CC_ExitLensX\"><value>-20.0</value></param>\r",
      "\r\n",
      "<param name=\"CC_FocusLens\"><value>-15.0</value></param>\r",
      "\r\n",
      "<param name=\"CC_GasBypass\"><value>0</value></param>\r",
      "\r\n",
      "<param name=\"CC_GasFlow\"><value>32.0</value></param>\r",
      "\r\n",
      "<param name=\"CC_GasFlushSW\"><value>0</value></param>\r",
      "\r\n",
      "<param name=\"CC_GasFlushTime\"><value>1.1</value></param>\r",
      "\r\n",
      "<param name=\"CC_GasSW\"><value>1</value></param>\r",
      "\r\n",
      "<param name=\"CC_RFAmp\"><value>1400.0</value></param>\r",
      "\r\n",
      "<param name=\"CC_RF_Freq\"><value>1.0</value></param>\r",
      "\r\n",
      "<param name=\"CFDGTYP\"><value>0</value></param>\r",
      "\r\n",
      "<param name=\"CFRGTYP\"><value>7</value></param>\r",
      "\r\n",
      "<param name=\"CLDATE\"><value>Tue Jun 29 11:06:44 2010</value></param>\r",
      "\r\n",
      "<param name=\"CLPTS\"><value>7</value></param>\r",
      "\r\n",
      "<param name=\"CLSTAT\"><value>2</value></param>\r",
      "\r\n",
      "<param name=\"CLUPA_0\"><value>25.0</value></param>\r",
      "\r\n",
      "<param name=\"CLUPA_1\"><value>25.0</value></param>\r",
      "\r\n",
      "<param name=\"CLUPA_2\"><value>25.0</value></param>\r",
      "\r\n",
      "<param name=\"CLUPA_3\"><value>25.0</value></param>\r",
      "\r\n",
      "<param name=\"CNST_0\"><value>1.0</value></param>\r",
      "\r\n",
      "<param name=\"CNST_1\"><value>1.0</value></param>\r",
      "\r\n",
      "<param name=\"CNST_10\"><value>1.0</value></param>\r",
      "\r\n",
      "<param name=\"CNST_11\"><value>1.0</value></param>\r",
      "\r\n",
      "<param name=\"CNST_12\"><value>1.0</value></param>\r",
      "\r\n",
      "<param name=\"CNST_13\"><value>1.0</value></param>\r",
      "\r\n",
      "<param name=\"CNST_14\"><value>1.0</value></param>\r",
      "\r\n",
      "<param name=\"CNST_15\"><value>1.0</value></param>\r",
      "\r\n",
      "<param name=\"CNST_16\"><value>1.0</value></param>\r",
      "\r\n",
      "<param name=\"CNST_17\"><value>1.0</value></param>\r",
      "\r\n",
      "<param name=\"CNST_18\"><value>1.0</value></param>\r",
      "\r\n",
      "<param name=\"CNST_19\"><value>1.0</value></param>\r",
      "\r\n",
      "<param name=\"CNST_2\"><value>1.0</value></param>\r",
      "\r\n",
      "<param name=\"CNST_20\"><value>1.0</value></param>\r",
      "\r\n",
      "<param name=\"CNST_21\"><value>1.0</value></param>\r",
      "\r\n",
      "<param name=\"CNST_22\"><value>1.0</value></param>\r",
      "\r\n",
      "<param name=\"CNST_23\"><value>1.0</value></param>\r",
      "\r\n",
      "<param name=\"CNST_24\"><value>1.0</value></param>\r",
      "\r\n",
      "<param name=\"CNST_25\"><value>1.0</value></param>\r",
      "\r\n",
      "<param name=\"CNST_26\"><value>1.0</value></param>\r",
      "\r\n",
      "<param name=\"CNST_27\"><value>1.0</value></param>\r",
      "\r\n",
      "<param name=\"CNST_28\"><value>1.0</value></param>\r",
      "\r\n",
      "<param name=\"CNST_29\"><value>1.0</value></param>\r",
      "\r\n",
      "<param name=\"CNST_3\"><value>1.0</value></param>\r",
      "\r\n",
      "<param name=\"CNST_30\"><value>1.0</value></param>\r",
      "\r\n",
      "<param name=\"CNST_31\"><value>1.0</value></param>\r",
      "\r\n",
      "<param name=\"CNST_4\"><value>1.0</value></param>\r",
      "\r\n",
      "<param name=\"CNST_5\"><value>1.0</value></param>\r",
      "\r\n",
      "<param name=\"CNST_6\"><value>1.0</value></param>\r",
      "\r\n",
      "<param name=\"CNST_7\"><value>1.0</value></param>\r",
      "\r\n",
      "<param name=\"CNST_8\"><value>1.0</value></param>\r",
      "\r\n",
      "<param name=\"CNST_9\"><value>1.0</value></param>\r",
      "\r\n",
      "<param name=\"COROFFS\"><value>0.0</value></param>\r",
      "\r\n",
      "<param name=\"C_MsmsE\"><value>0.0</value></param>\r",
      "\r\n",
      "<param name=\"Calibration\"><value>ubiq12/714.726700/714.726713/714.726772/0.101220/343678,ubiq11/779.610300/779.610268/779.610267/0.041713/440147,ubiq10/857.470600/857.470619/857.470534/0.077533/425161,ubiq9/952.633200/952.633371/952.633160/0.042390/393951,ubiq8/1071.586400/1071.586753/1071.586353/0.044266/351134,ubiq7/1224.526300/1224.526991/1224.526294/0.005143/303320,null/null/null/null/null/null</value></param>\r",
      "\r\n",
      "<param name=\"Calmet\"><value>4</value></param>\r",
      "\r\n",
      "<param name=\"CorrLst_0\"><value>-1.0</value></param>\r",
      "\r\n",
      "<param name=\"CorrLst_1\"><value>-1.0</value></param>\r",
      "\r\n",
      "<param name=\"CorrLst_10\"><value>-1.0</value></param>\r",
      "\r\n",
      "<param name=\"CorrLst_11\"><value>-1.0</value></param>\r",
      "\r\n",
      "<param name=\"CorrLst_12\"><value>-1.0</value></param>\r",
      "\r\n",
      "<param name=\"CorrLst_13\"><value>-1.0</value></param>\r",
      "\r\n",
      "<param name=\"CorrLst_14\"><value>-1.0</value></param>\r",
      "\r\n",
      "<param name=\"CorrLst_15\"><value>-1.0</value></param>\r",
      "\r\n",
      "<param name=\"CorrLst_2\"><value>-1.0</value></param>\r",
      "\r\n",
      "<param name=\"CorrLst_3\"><value>-1.0</value></param>\r",
      "\r\n",
      "<param name=\"CorrLst_4\"><value>-1.0</value></param>\r",
      "\r\n",
      "<param name=\"CorrLst_5\"><value>-1.0</value></param>\r",
      "\r\n",
      "<param name=\"CorrLst_6\"><value>-1.0</value></param>\r",
      "\r\n",
      "<param name=\"CorrLst_7\"><value>-1.0</value></param>\r",
      "\r\n",
      "<param name=\"CorrLst_8\"><value>-1.0</value></param>\r",
      "\r\n",
      "<param name=\"CorrLst_9\"><value>-1.0</value></param>\r",
      "\r\n",
      "<param name=\"CorrLst_MS3_0\"><value>-1.0</value></param>\r",
      "\r\n",
      "<param name=\"CorrLst_MS3_1\"><value>-1.0</value></param>\r",
      "\r\n",
      "<param name=\"CorrLst_MS3_10\"><value>-1.0</value></param>\r",
      "\r\n",
      "<param name=\"CorrLst_MS3_11\"><value>-1.0</value></param>\r",
      "\r\n",
      "<param name=\"CorrLst_MS3_12\"><value>-1.0</value></param>\r",
      "\r\n",
      "<param name=\"CorrLst_MS3_13\"><value>-1.0</value></param>\r",
      "\r\n",
      "<param name=\"CorrLst_MS3_14\"><value>-1.0</value></param>\r",
      "\r\n",
      "<param name=\"CorrLst_MS3_15\"><value>-1.0</value></param>\r",
      "\r\n",
      "<param name=\"CorrLst_MS3_2\"><value>-1.0</value></param>\r",
      "\r\n",
      "<param name=\"CorrLst_MS3_3\"><value>-1.0</value></param>\r",
      "\r\n",
      "<param name=\"CorrLst_MS3_4\"><value>-1.0</value></param>\r",
      "\r\n",
      "<param name=\"CorrLst_MS3_5\"><value>-1.0</value></param>\r",
      "\r\n",
      "<param name=\"CorrLst_MS3_6\"><value>-1.0</value></param>\r",
      "\r\n",
      "<param name=\"CorrLst_MS3_7\"><value>-1.0</value></param>\r",
      "\r\n",
      "<param name=\"CorrLst_MS3_8\"><value>-1.0</value></param>\r",
      "\r\n",
      "<param name=\"CorrLst_MS3_9\"><value>-1.0</value></param>\r",
      "\r\n",
      "<param name=\"CorrLst_MS4_0\"><value>-1.0</value></param>\r",
      "\r\n",
      "<param name=\"CorrLst_MS4_1\"><value>-1.0</value></param>\r",
      "\r\n",
      "<param name=\"CorrLst_MS4_10\"><value>-1.0</value></param>\r",
      "\r\n",
      "<param name=\"CorrLst_MS4_11\"><value>-1.0</value></param>\r",
      "\r\n",
      "<param name=\"CorrLst_MS4_12\"><value>-1.0</value></param>\r",
      "\r\n",
      "<param name=\"CorrLst_MS4_13\"><value>-1.0</value></param>\r",
      "\r\n",
      "<param name=\"CorrLst_MS4_14\"><value>-1.0</value></param>\r",
      "\r\n",
      "<param name=\"CorrLst_MS4_15\"><value>-1.0</value></param>\r",
      "\r\n",
      "<param name=\"CorrLst_MS4_2\"><value>-1.0</value></param>\r",
      "\r\n",
      "<param name=\"CorrLst_MS4_3\"><value>-1.0</value></param>\r",
      "\r\n",
      "<param name=\"CorrLst_MS4_4\"><value>-1.0</value></param>\r",
      "\r\n",
      "<param name=\"CorrLst_MS4_5\"><value>-1.0</value></param>\r",
      "\r\n",
      "<param name=\"CorrLst_MS4_6\"><value>-1.0</value></param>\r",
      "\r\n",
      "<param name=\"CorrLst_MS4_7\"><value>-1.0</value></param>\r",
      "\r\n",
      "<param name=\"CorrLst_MS4_8\"><value>-1.0</value></param>\r",
      "\r\n",
      "<param name=\"CorrLst_MS4_9\"><value>-1.0</value></param>\r",
      "\r\n",
      "<param name=\"DE\"><value>3500.0</value></param>\r",
      "\r\n",
      "<param name=\"DECIM\"><value>32</value></param>\r",
      "\r\n",
      "<param name=\"DEV2\"><value>10.0</value></param>\r",
      "\r\n",
      "<param name=\"DIGMOD\"><value>1</value></param>\r",
      "\r\n",
      "<param name=\"DIGTYP\"><value>12</value></param>\r",
      "\r\n",
      "<param name=\"DM\"><value>1</value></param>\r",
      "\r\n",
      "<param name=\"DR\"><value>19</value></param>\r",
      "\r\n",
      "<param name=\"DRU_DataMode\"><value>0</value></param>\r",
      "\r\n",
      "<param name=\"DS\"><value>0</value></param>\r",
      "\r\n",
      "<param name=\"DSPFIRM\"><value>3</value></param>\r",
      "\r\n",
      "<param name=\"DSPFVS\"><value>0</value></param>\r",
      "\r\n",
      "<param name=\"DW\"><value>0.1</value></param>\r",
      "\r\n",
      "<param name=\"D_0\"><value>0.0010</value></param>\r",
      "\r\n",
      "<param name=\"D_1\"><value>0.0050</value></param>\r",
      "\r\n",
      "<param name=\"D_10\"><value>0.1</value></param>\r",
      "\r\n",
      "<param name=\"D_11\"><value>0.01</value></param>\r",
      "\r\n",
      "<param name=\"D_12\"><value>0.01</value></param>\r",
      "\r\n",
      "<param name=\"D_13\"><value>0.0010</value></param>\r",
      "\r\n",
      "<param name=\"D_14\"><value>0.01</value></param>\r",
      "\r\n",
      "<param name=\"D_15\"><value>0.0010</value></param>\r",
      "\r\n",
      "<param name=\"D_16\"><value>0.01</value></param>\r",
      "\r\n",
      "<param name=\"D_17\"><value>0.01</value></param>\r",
      "\r\n",
      "<param name=\"D_18\"><value>0.01</value></param>\r",
      "\r\n",
      "<param name=\"D_19\"><value>0.02</value></param>\r",
      "\r\n",
      "<param name=\"D_2\"><value>8.0000004E-4</value></param>\r",
      "\r\n",
      "<param name=\"D_20\"><value>0.05</value></param>\r",
      "\r\n",
      "<param name=\"D_21\"><value>0.01</value></param>\r",
      "\r\n",
      "<param name=\"D_22\"><value>0.02</value></param>\r",
      "\r\n",
      "<param name=\"D_23\"><value>0.05</value></param>\r",
      "\r\n",
      "<param name=\"D_24\"><value>1.0E-7</value></param>\r",
      "\r\n",
      "<param name=\"D_25\"><value>0.0050</value></param>\r",
      "\r\n",
      "<param name=\"D_26\"><value>1.0E-7</value></param>\r",
      "\r\n",
      "<param name=\"D_27\"><value>0.0010</value></param>\r",
      "\r\n",
      "<param name=\"D_28\"><value>0.0050</value></param>\r",
      "\r\n",
      "<param name=\"D_29\"><value>0.0010</value></param>\r",
      "\r\n",
      "<param name=\"D_3\"><value>0.01</value></param>\r",
      "\r\n",
      "<param name=\"D_30\"><value>0.0020</value></param>\r",
      "\r\n",
      "<param name=\"D_31\"><value>0.0020</value></param>\r",
      "\r\n",
      "<param name=\"D_4\"><value>0.01</value></param>\r",
      "\r\n",
      "<param name=\"D_5\"><value>0.0010</value></param>\r",
      "\r\n",
      "<param name=\"D_6\"><value>0.05</value></param>\r",
      "\r\n",
      "<param name=\"D_7\"><value>1.0E-4</value></param>\r",
      "\r\n",
      "<param name=\"D_8\"><value>0.01</value></param>\r",
      "\r\n",
      "<param name=\"D_9\"><value>0.05</value></param>\r",
      "\r\n",
      "<param name=\"DataDep\"><value>0</value></param>\r",
      "\r\n",
      "<param name=\"ECD\"><value>0</value></param>\r",
      "\r\n",
      "<param name=\"ECDLens\"><value>10.0</value></param>\r",
      "\r\n",
      "<param name=\"ECD_EC\"><value>0.0</value></param>\r",
      "\r\n",
      "<param name=\"ECD_MS3\"><value>0</value></param>\r",
      "\r\n",
      "<param name=\"ECD_MS4\"><value>0</value></param>\r",
      "\r\n",
      "<param name=\"EM\"><value>1</value></param>\r",
      "\r\n",
      "<param name=\"ETD_OnOffSW\"><value>0</value></param>\r",
      "\r\n",
      "<param name=\"EV1\"><value>-8.0</value></param>\r",
      "\r\n",
      "<param name=\"EV2\"><value>-1.0</value></param>\r",
      "\r\n",
      "<param name=\"EXC_AMP\"><value>100.0</value></param>\r",
      "\r\n",
      "<param name=\"EXC_CTL\"><value>1</value></param>\r",
      "\r\n",
      "<param name=\"EXC_RAD\"><value>100.0</value></param>\r",
      "\r\n",
      "<param name=\"EXC_hi\"><value>3000.0</value></param>\r",
      "\r\n",
      "<param name=\"EXC_low\"><value>294.82916</value></param>\r",
      "\r\n",
      "<param name=\"Experiment_Table_Index\"><value>0</value></param>\r",
      "\r\n",
      "<param name=\"FQ1LIST\"><value>freqlist1</value></param>\r",
      "\r\n",
      "<param name=\"FQ2LIST\"><value>freqlist2</value></param>\r",
      "\r\n",
      "<param name=\"FQ3LIST\"><value>freqlist3</value></param>\r",
      "\r\n",
      "<param name=\"FQ4LIST\"><value>freqlist4</value></param>\r",
      "\r\n",
      "<param name=\"FQ5LIST\"><value>freqlist5</value></param>\r",
      "\r\n",
      "<param name=\"FQ6LIST\"><value>freqlist6</value></param>\r",
      "\r\n",
      "<param name=\"FQ7LIST\"><value>freqlist7</value></param>\r",
      "\r\n",
      "<param name=\"FQ8LIST\"><value>freqlist8</value></param>\r",
      "\r\n",
      "<param name=\"FR_low\"><value>61417.34443538279</value></param>\r",
      "\r\n",
      "<param name=\"FW\"><value>1.0E8</value></param>\r",
      "\r\n",
      "<param name=\"FidSum\"><value>8192</value></param>\r",
      "\r\n",
      "<param name=\"GB\"><value>0.7</value></param>\r",
      "\r\n",
      "<param name=\"HEC\"><value>0.0</value></param>\r",
      "\r\n",
      "<param name=\"HES\"><value>0.0</value></param>\r",
      "\r\n",
      "<param name=\"HexCenterFreq\"><value>5000.0</value></param>\r",
      "\r\n",
      "<param name=\"Hy_path\"><value>no</value></param>\r",
      "\r\n",
      "<param name=\"ICC_LowerPeakSumLimit\"><value>5.0E8</value></param>\r",
      "\r\n",
      "<param name=\"ICC_StartReactionLevel\"><value>85.0</value></param>\r",
      "\r\n",
      "<param name=\"ICC_UpperPeakSumLimit\"><value>5.0E9</value></param>\r",
      "\r\n",
      "<param name=\"IHEF\"><value>0.0</value></param>\r",
      "\r\n",
      "<param name=\"IHEF_toggle\"><value>0</value></param>\r",
      "\r\n",
      "<param name=\"IIE\"><value>1.0</value></param>\r",
      "\r\n",
      "<param name=\"IM\"><value>1</value></param>\r",
      "\r\n",
      "<param name=\"INP_0\"><value>0.0</value></param>\r",
      "\r\n",
      "<param name=\"INP_1\"><value>0.0</value></param>\r",
      "\r\n",
      "<param name=\"INP_10\"><value>0.0</value></param>\r",
      "\r\n",
      "<param name=\"INP_11\"><value>0.0</value></param>\r",
      "\r\n",
      "<param name=\"INP_12\"><value>0.0</value></param>\r",
      "\r\n",
      "<param name=\"INP_13\"><value>0.0</value></param>\r",
      "\r\n",
      "<param name=\"INP_14\"><value>0.0</value></param>\r",
      "\r\n",
      "<param name=\"INP_15\"><value>0.0</value></param>\r",
      "\r\n",
      "<param name=\"INP_16\"><value>0.0</value></param>\r",
      "\r\n",
      "<param name=\"INP_17\"><value>0.0</value></param>\r",
      "\r\n",
      "<param name=\"INP_18\"><value>0.0</value></param>\r",
      "\r\n",
      "<param name=\"INP_19\"><value>0.0</value></param>\r",
      "\r\n",
      "<param name=\"INP_2\"><value>0.0</value></param>\r",
      "\r\n",
      "<param name=\"INP_20\"><value>0.0</value></param>\r",
      "\r\n",
      "<param name=\"INP_21\"><value>0.0</value></param>\r",
      "\r\n",
      "<param name=\"INP_22\"><value>0.0</value></param>\r",
      "\r\n",
      "<param name=\"INP_23\"><value>0.0</value></param>\r",
      "\r\n",
      "<param name=\"INP_24\"><value>0.0</value></param>\r",
      "\r\n",
      "<param name=\"INP_25\"><value>0.0</value></param>\r",
      "\r\n",
      "<param name=\"INP_26\"><value>0.0</value></param>\r",
      "\r\n",
      "<param name=\"INP_27\"><value>0.0</value></param>\r",
      "\r\n",
      "<param name=\"INP_28\"><value>0.0</value></param>\r",
      "\r\n",
      "<param name=\"INP_29\"><value>0.0</value></param>\r",
      "\r\n",
      "<param name=\"INP_3\"><value>0.0</value></param>\r",
      "\r\n",
      "<param name=\"INP_30\"><value>0.0</value></param>\r",
      "\r\n",
      "<param name=\"INP_31\"><value>0.0</value></param>\r",
      "\r\n",
      "<param name=\"INP_4\"><value>0.0</value></param>\r",
      "\r\n",
      "<param name=\"INP_5\"><value>0.0</value></param>\r",
      "\r\n",
      "<param name=\"INP_6\"><value>0.0</value></param>\r",
      "\r\n",
      "<param name=\"INP_7\"><value>0.0</value></param>\r",
      "\r\n",
      "<param name=\"INP_8\"><value>0.0</value></param>\r",
      "\r\n",
      "<param name=\"INP_9\"><value>0.0</value></param>\r",
      "\r\n",
      "<param name=\"INSTRUM\"><value></value></param>\r",
      "\r\n",
      "<param name=\"IN_0\"><value>0.0010</value></param>\r",
      "\r\n",
      "<param name=\"IN_1\"><value>0.0010</value></param>\r",
      "\r\n",
      "<param name=\"IN_10\"><value>0.0010</value></param>\r",
      "\r\n",
      "<param name=\"IN_11\"><value>0.0010</value></param>\r",
      "\r\n",
      "<param name=\"IN_12\"><value>0.0010</value></param>\r",
      "\r\n",
      "<param name=\"IN_13\"><value>0.0010</value></param>\r",
      "\r\n",
      "<param name=\"IN_14\"><value>0.0010</value></param>\r",
      "\r\n",
      "<param name=\"IN_15\"><value>0.0010</value></param>\r",
      "\r\n",
      "<param name=\"IN_16\"><value>0.0010</value></param>\r",
      "\r\n",
      "<param name=\"IN_17\"><value>0.0010</value></param>\r",
      "\r\n",
      "<param name=\"IN_18\"><value>0.0010</value></param>\r",
      "\r\n",
      "<param name=\"IN_19\"><value>0.0010</value></param>\r",
      "\r\n",
      "<param name=\"IN_2\"><value>0.0010</value></param>\r",
      "\r\n",
      "<param name=\"IN_20\"><value>0.0010</value></param>\r",
      "\r\n",
      "<param name=\"IN_21\"><value>0.0010</value></param>\r",
      "\r\n",
      "<param name=\"IN_22\"><value>0.0010</value></param>\r",
      "\r\n",
      "<param name=\"IN_23\"><value>0.0010</value></param>\r",
      "\r\n",
      "<param name=\"IN_24\"><value>0.0010</value></param>\r",
      "\r\n",
      "<param name=\"IN_25\"><value>0.0010</value></param>\r",
      "\r\n",
      "<param name=\"IN_26\"><value>0.0010</value></param>\r",
      "\r\n",
      "<param name=\"IN_27\"><value>0.0010</value></param>\r",
      "\r\n",
      "<param name=\"IN_28\"><value>0.0010</value></param>\r",
      "\r\n",
      "<param name=\"IN_29\"><value>0.0010</value></param>\r",
      "\r\n",
      "<param name=\"IN_3\"><value>0.0010</value></param>\r",
      "\r\n",
      "<param name=\"IN_30\"><value>0.0010</value></param>\r",
      "\r\n",
      "<param name=\"IN_31\"><value>0.0010</value></param>\r",
      "\r\n",
      "<param name=\"IN_4\"><value>0.0010</value></param>\r",
      "\r\n",
      "<param name=\"IN_5\"><value>0.0010</value></param>\r",
      "\r\n",
      "<param name=\"IN_6\"><value>0.0010</value></param>\r",
      "\r\n",
      "<param name=\"IN_7\"><value>0.0010</value></param>\r",
      "\r\n",
      "<param name=\"IN_8\"><value>0.0010</value></param>\r",
      "\r\n",
      "<param name=\"IN_9\"><value>0.0010</value></param>\r",
      "\r\n",
      "<param name=\"IN_CELL_ISOLATION\"><value>0</value></param>\r",
      "\r\n",
      "<param name=\"IN_CELL_ISOLATION_MODE\"><value>0</value></param>\r",
      "\r\n",
      "<param name=\"IN_CELL_ISOLATION_MODE_MS3\"><value>0</value></param>\r",
      "\r\n",
      "<param name=\"IN_CELL_ISOLATION_MODE_MS4\"><value>0</value></param>\r",
      "\r\n",
      "<param name=\"IN_CELL_ISOLATION_MS3\"><value>0</value></param>\r",
      "\r\n",
      "<param name=\"IN_CELL_ISOLATION_MS4\"><value>0</value></param>\r",
      "\r\n",
      "<param name=\"IN_CELL_MSN_STATE\"><value>0</value></param>\r",
      "\r\n",
      "<param name=\"IRMPD\"><value>0</value></param>\r",
      "\r\n",
      "<param name=\"IRMPD_MS3\"><value>0</value></param>\r",
      "\r\n",
      "<param name=\"IRMPD_MS4\"><value>0</value></param>\r",
      "\r\n",
      "<param name=\"IRMPD_Power\"><value>0.0</value></param>\r",
      "\r\n",
      "<param name=\"IccAux1\"><value>0.0</value></param>\r",
      "\r\n",
      "<param name=\"IccAux2\"><value>0.0</value></param>\r",
      "\r\n",
      "<param name=\"IccAux3\"><value>0.0</value></param>\r",
      "\r\n",
      "<param name=\"IccAux4\"><value>0.0</value></param>\r",
      "\r\n",
      "<param name=\"InSource_Frag_Energy\"><value>90.0</value></param>\r",
      "\r\n",
      "<param name=\"IonChargeControl\"><value>0</value></param>\r",
      "\r\n",
      "<param name=\"Ion_Mirror_RFAmp\"><value>170.0</value></param>\r",
      "\r\n",
      "<param name=\"IsCID\"><value>0</value></param>\r",
      "\r\n",
      "<param name=\"IsolationNotch_0\"><value>4.0</value></param>\r",
      "\r\n",
      "<param name=\"IsolationNotch_1\"><value>5.0</value></param>\r",
      "\r\n",
      "<param name=\"IsolationNotch_2\"><value>5.03</value></param>\r",
      "\r\n",
      "<param name=\"IsolationNotch_3\"><value>-1.0</value></param>\r",
      "\r\n",
      "<param name=\"JHIGH_0\"><value>3000.0</value></param>\r",
      "\r\n",
      "<param name=\"JHIGH_1\"><value>3000.0</value></param>\r",
      "\r\n",
      "<param name=\"JHIGH_2\"><value>3000.0</value></param>\r",
      "\r\n",
      "<param name=\"JHIGH_3\"><value>1800.0</value></param>\r",
      "\r\n",
      "<param name=\"JLOW_0\"><value>100.0</value></param>\r",
      "\r\n",
      "<param name=\"JLOW_1\"><value>100.0</value></param>\r",
      "\r\n",
      "<param name=\"JLOW_2\"><value>100.0</value></param>\r",
      "\r\n",
      "<param name=\"JLOW_3\"><value>90.0</value></param>\r",
      "\r\n",
      "<param name=\"JRAD\"><value>250.0</value></param>\r",
      "\r\n",
      "<param name=\"JSB_0\"><value>2000.0625</value></param>\r",
      "\r\n",
      "<param name=\"JSB_1\"><value>3000.0</value></param>\r",
      "\r\n",
      "<param name=\"JSB_2\"><value>2000.0</value></param>\r",
      "\r\n",
      "<param name=\"JSB_3\"><value>2000.0</value></param>\r",
      "\r\n",
      "<param name=\"JSHA_0\"><value>20.0</value></param>\r",
      "\r\n",
      "<param name=\"JSHA_1\"><value>20.0</value></param>\r",
      "\r\n",
      "<param name=\"JSHA_2\"><value>20.0</value></param>\r",
      "\r\n",
      "<param name=\"JSHA_3\"><value>20.0</value></param>\r",
      "\r\n",
      "<param name=\"JSWA_0\"><value>100.0</value></param>\r",
      "\r\n",
      "<param name=\"JSWA_1\"><value>100.0</value></param>\r",
      "\r\n",
      "<param name=\"JSWA_2\"><value>100.0</value></param>\r",
      "\r\n",
      "<param name=\"JSWA_3\"><value>100.0</value></param>\r",
      "\r\n",
      "<param name=\"LB\"><value>-0.2</value></param>\r",
      "\r\n",
      "<param name=\"LCRunTime\"><value>15.0</value></param>\r",
      "\r\n",
      "<param name=\"LC_mode\"><value>0</value></param>\r",
      "\r\n",
      "<param name=\"L_0\"><value>313</value></param>\r",
      "\r\n",
      "<param name=\"L_1\"><value>1348</value></param>\r",
      "\r\n",
      "<param name=\"L_10\"><value>1</value></param>\r",
      "\r\n",
      "<param name=\"L_11\"><value>1</value></param>\r",
      "\r\n",
      "<param name=\"L_12\"><value>311</value></param>\r",
      "\r\n",
      "<param name=\"L_13\"><value>1</value></param>\r",
      "\r\n",
      "<param name=\"L_14\"><value>1</value></param>\r",
      "\r\n",
      "<param name=\"L_15\"><value>1</value></param>\r",
      "\r\n",
      "<param name=\"L_16\"><value>1</value></param>\r",
      "\r\n",
      "<param name=\"L_17\"><value>1</value></param>\r",
      "\r\n",
      "<param name=\"L_18\"><value>332</value></param>\r",
      "\r\n",
      "<param name=\"L_19\"><value>1</value></param>\r",
      "\r\n",
      "<param name=\"L_2\"><value>399</value></param>\r",
      "\r\n",
      "<param name=\"L_20\"><value>1</value></param>\r",
      "\r\n",
      "<param name=\"L_21\"><value>1</value></param>\r",
      "\r\n",
      "<param name=\"L_22\"><value>1</value></param>\r",
      "\r\n",
      "<param name=\"L_23\"><value>1</value></param>\r",
      "\r\n",
      "<param name=\"L_24\"><value>1</value></param>\r",
      "\r\n",
      "<param name=\"L_25\"><value>1</value></param>\r",
      "\r\n",
      "<param name=\"L_26\"><value>1</value></param>\r",
      "\r\n",
      "<param name=\"L_27\"><value>1</value></param>\r",
      "\r\n",
      "<param name=\"L_28\"><value>200</value></param>\r",
      "\r\n",
      "<param name=\"L_29\"><value>20</value></param>\r",
      "\r\n",
      "<param name=\"L_3\"><value>1</value></param>\r",
      "\r\n",
      "<param name=\"L_30\"><value>1</value></param>\r",
      "\r\n",
      "<param name=\"L_31\"><value>1585</value></param>\r",
      "\r\n",
      "<param name=\"L_4\"><value>1</value></param>\r",
      "\r\n",
      "<param name=\"L_5\"><value>1</value></param>\r",
      "\r\n",
      "<param name=\"L_6\"><value>311</value></param>\r",
      "\r\n",
      "<param name=\"L_7\"><value>1</value></param>\r",
      "\r\n",
      "<param name=\"L_8\"><value>1</value></param>\r",
      "\r\n",
      "<param name=\"L_9\"><value>1</value></param>\r",
      "\r\n",
      "<param name=\"LaserAttn\"><value>46.0</value></param>\r",
      "\r\n",
      "<param name=\"M1LIST\"><value>se__curr_m1</value></param>\r",
      "\r\n",
      "<param name=\"MAXI\"><value>1.12</value></param>\r",
      "\r\n",
      "<param name=\"MAXPKS\"><value>2000</value></param>\r",
      "\r\n",
      "<param name=\"MI\"><value>0.0010</value></param>\r",
      "\r\n",
      "<param name=\"ML1\"><value>1.8427001783361462E8</value></param>\r",
      "\r\n",
      "<param name=\"ML2\"><value>5.039161102310875</value></param>\r",
      "\r\n",
      "<param name=\"ML3\"><value>0.0</value></param>\r",
      "\r\n",
      "<param name=\"MTP_LaserPowerOffset\"><value>40</value></param>\r",
      "\r\n",
      "<param name=\"MTP_LaserPowerRange\"><value>30</value></param>\r",
      "\r\n",
      "<param name=\"MTP_RANDOM_WALK_ENABLE\"><value>0</value></param>\r",
      "\r\n",
      "<param name=\"MTP_SCAN_PER_GRID\"><value>1</value></param>\r",
      "\r\n",
      "<param name=\"MTP_SPOT_DIAMETER\"><value>2000.0</value></param>\r",
      "\r\n",
      "<param name=\"MW_cent\"><value>857.0</value></param>\r",
      "\r\n",
      "<param name=\"MW_high\"><value>3000.0</value></param>\r",
      "\r\n",
      "<param name=\"MW_low\"><value>294.8291748735983</value></param>\r",
      "\r\n",
      "<param name=\"MW_range\"><value>40.04728798105975</value></param>\r",
      "\r\n",
      "<param name=\"Mass_Tolerance\"><value>1.0</value></param>\r",
      "\r\n",
      "<param name=\"Min_Intensity_Absolute\"><value>100000.0</value></param>\r",
      "\r\n",
      "<param name=\"Min_Intensity_Relative\"><value>0.0</value></param>\r",
      "\r\n",
      "<param name=\"NBL\"><value>1</value></param>\r",
      "\r\n",
      "<param name=\"NCI_Chamber\"><value>-4.0</value></param>\r",
      "\r\n",
      "<param name=\"NCI_Emission_Current\"><value>3.0</value></param>\r",
      "\r\n",
      "<param name=\"NCI_Filament_Selection\"><value>0</value></param>\r",
      "\r\n",
      "<param name=\"NCI_FocusLens\"><value>-6.7</value></param>\r",
      "\r\n",
      "<param name=\"NCI_GateLensBlock\"><value>-20.0</value></param>\r",
      "\r\n",
      "<param name=\"NCI_GateLensPass\"><value>85.0</value></param>\r",
      "\r\n",
      "<param name=\"NCI_Ionization_Energy\"><value>70.0</value></param>\r",
      "\r\n",
      "<param name=\"NCI_Max_Emission\"><value>10.0</value></param>\r",
      "\r\n",
      "<param name=\"NCI_MethaneFlow\"><value>17.0</value></param>\r",
      "\r\n",
      "<param name=\"NCI_MethaneFlushSW\"><value>0</value></param>\r",
      "\r\n",
      "<param name=\"NCI_ReagentTuneSW\"><value>0</value></param>\r",
      "\r\n",
      "<param name=\"NCI_Source_Temp\"><value>60.0</value></param>\r",
      "\r\n",
      "<param name=\"NCI_TransferLens\"><value>5.3</value></param>\r",
      "\r\n",
      "<param name=\"NC_proc\"><value>0</value></param>\r",
      "\r\n",
      "<param name=\"NOISE\"><value>0.0</value></param>\r",
      "\r\n",
      "<param name=\"NS\"><value>16</value></param>\r",
      "\r\n",
      "<param name=\"NS_status\"><value>5</value></param>\r",
      "\r\n",
      "<param name=\"NTB_actExclusionResolution\"><value>5.0</value></param>\r",
      "\r\n",
      "<param name=\"NTB_exclSingleChargedIons\"><value>0</value></param>\r",
      "\r\n",
      "<param name=\"NTB_exclUnknownAndSingleChargedIons\"><value>0</value></param>\r",
      "\r\n",
      "<param name=\"NTB_fillUpPrecursorsFromDynExclusion\"><value>0</value></param>\r",
      "\r\n",
      "<param name=\"NTB_maxChargeState\"><value>30</value></param>\r",
      "\r\n",
      "<param name=\"NTB_preferDoubleChargedIons\"><value>0</value></param>\r",
      "\r\n",
      "<param name=\"NTB_relThreshold\"><value>0.01</value></param>\r",
      "\r\n",
      "<param name=\"NTB_strictActExclTime\"><value>0</value></param>\r",
      "\r\n",
      "<param name=\"NoisPct\"><value>1.3</value></param>\r",
      "\r\n",
      "<param name=\"O1\"><value>373917.3444353828</value></param>\r",
      "\r\n",
      "<param name=\"Oct1_Bias2\"><value>2.5</value></param>\r",
      "\r\n",
      "<param name=\"Oct1_Bias2_Delta\"><value>0.0</value></param>\r",
      "\r\n",
      "<param name=\"Oct1_Bias_H\"><value>2.5</value></param>\r",
      "\r\n",
      "<param name=\"Oct1_Bias_L\"><value>3.0</value></param>\r",
      "\r\n",
      "<param name=\"Oct1_Extract\"><value>0.0</value></param>\r",
      "\r\n",
      "<param name=\"Oct1_PartitionLens\"><value>2.5</value></param>\r",
      "\r\n",
      "<param name=\"Oct1_RFAmp\"><value>350.0</value></param>\r",
      "\r\n",
      "<param name=\"Oct1_RF_Freq\"><value>0.0</value></param>\r",
      "\r\n",
      "<param name=\"Oct1_Trap\"><value>0.0</value></param>\r",
      "\r\n",
      "<param name=\"PAPS\"><value>1</value></param>\r",
      "\r\n",
      "<param name=\"PATCHNO\"><value>A7</value></param>\r",
      "\r\n",
      "<param name=\"PC\"><value>2.0</value></param>\r",
      "\r\n",
      "<param name=\"PHC0\"><value>0.0</value></param>\r",
      "\r\n",
      "<param name=\"PHC1\"><value>0.0</value></param>\r",
      "\r\n",
      "<param name=\"PH_mod\"><value>2</value></param>\r",
      "\r\n",
      "<param name=\"PI_0\"><value>749.4</value></param>\r",
      "\r\n",
      "<param name=\"PI_1\"><value>429.0</value></param>\r",
      "\r\n",
      "<param name=\"PI_2\"><value>401.0</value></param>\r",
      "\r\n",
      "<param name=\"PI_3\"><value>424.219</value></param>\r",
      "\r\n",
      "<param name=\"PIoff_0\"><value>-500.0</value></param>\r",
      "\r\n",
      "<param name=\"PIoff_1\"><value>-1000.0</value></param>\r",
      "\r\n",
      "<param name=\"PIoff_2\"><value>-1000.0</value></param>\r",
      "\r\n",
      "<param name=\"PIoff_3\"><value>500.0</value></param>\r",
      "\r\n",
      "<param name=\"PL_0\"><value>90.0</value></param>\r",
      "\r\n",
      "<param name=\"PL_1\"><value>120.0</value></param>\r",
      "\r\n",
      "<param name=\"PL_10\"><value>120.0</value></param>\r",
      "\r\n",
      "<param name=\"PL_11\"><value>120.0</value></param>\r",
      "\r\n",
      "<param name=\"PL_12\"><value>26.9</value></param>\r",
      "\r\n",
      "<param name=\"PL_13\"><value>29.794708</value></param>\r",
      "\r\n",
      "<param name=\"PL_14\"><value>27.863136</value></param>\r",
      "\r\n",
      "<param name=\"PL_15\"><value>120.0</value></param>\r",
      "\r\n",
      "<param name=\"PL_16\"><value>120.0</value></param>\r",
      "\r\n",
      "<param name=\"PL_17\"><value>120.0</value></param>\r",
      "\r\n",
      "<param name=\"PL_18\"><value>34.307144</value></param>\r",
      "\r\n",
      "<param name=\"PL_19\"><value>9.5</value></param>\r",
      "\r\n",
      "<param name=\"PL_2\"><value>120.0</value></param>\r",
      "\r\n",
      "<param name=\"PL_20\"><value>120.0</value></param>\r",
      "\r\n",
      "<param name=\"PL_21\"><value>120.0</value></param>\r",
      "\r\n",
      "<param name=\"PL_22\"><value>120.0</value></param>\r",
      "\r\n",
      "<param name=\"PL_23\"><value>35.0</value></param>\r",
      "\r\n",
      "<param name=\"PL_24\"><value>120.0</value></param>\r",
      "\r\n",
      "<param name=\"PL_25\"><value>120.0</value></param>\r",
      "\r\n",
      "<param name=\"PL_26\"><value>120.0</value></param>\r",
      "\r\n",
      "<param name=\"PL_27\"><value>120.0</value></param>\r",
      "\r\n",
      "<param name=\"PL_28\"><value>120.0</value></param>\r",
      "\r\n",
      "<param name=\"PL_29\"><value>120.0</value></param>\r",
      "\r\n",
      "<param name=\"PL_3\"><value>9.863137</value></param>\r",
      "\r\n",
      "<param name=\"PL_30\"><value>120.0</value></param>\r",
      "\r\n",
      "<param name=\"PL_31\"><value>120.0</value></param>\r",
      "\r\n",
      "<param name=\"PL_4\"><value>19.931568</value></param>\r",
      "\r\n",
      "<param name=\"PL_5\"><value>120.0</value></param>\r",
      "\r\n",
      "<param name=\"PL_6\"><value>120.0</value></param>\r",
      "\r\n",
      "<param name=\"PL_7\"><value>19.931568</value></param>\r",
      "\r\n",
      "<param name=\"PL_8\"><value>33.038116</value></param>\r",
      "\r\n",
      "<param name=\"PL_9\"><value>21.950132</value></param>\r",
      "\r\n",
      "<param name=\"PP_meth\"><value>0</value></param>\r",
      "\r\n",
      "<param name=\"PULPROG\"><value>BASIC</value></param>\r",
      "\r\n",
      "<param name=\"PULSED_VALVE_1_MS3\"><value>0</value></param>\r",
      "\r\n",
      "<param name=\"PULSED_VALVE_1_MS4\"><value>0</value></param>\r",
      "\r\n",
      "<param name=\"PULSED_VALVE_1_ON\"><value>0</value></param>\r",
      "\r\n",
      "<param name=\"PULSED_VALVE_2_MS3\"><value>0</value></param>\r",
      "\r\n",
      "<param name=\"PULSED_VALVE_2_MS4\"><value>0</value></param>\r",
      "\r\n",
      "<param name=\"PULSED_VALVE_2_ON\"><value>0</value></param>\r",
      "\r\n",
      "<param name=\"PV1\"><value>0.55</value></param>\r",
      "\r\n",
      "<param name=\"PV2\"><value>0.45</value></param>\r",
      "\r\n",
      "<param name=\"P_0\"><value>3000.0</value></param>\r",
      "\r\n",
      "<param name=\"P_1\"><value>5000.0</value></param>\r",
      "\r\n",
      "<param name=\"P_10\"><value>0.1</value></param>\r",
      "\r\n",
      "<param name=\"P_11\"><value>0.1</value></param>\r",
      "\r\n",
      "<param name=\"P_12\"><value>5000.0</value></param>\r",
      "\r\n",
      "<param name=\"P_13\"><value>200000.0</value></param>\r",
      "\r\n",
      "<param name=\"P_14\"><value>300.0</value></param>\r",
      "\r\n",
      "<param name=\"P_15\"><value>0.1</value></param>\r",
      "\r\n",
      "<param name=\"P_16\"><value>0.1</value></param>\r",
      "\r\n",
      "<param name=\"P_17\"><value>0.1</value></param>\r",
      "\r\n",
      "<param name=\"P_18\"><value>250000.0</value></param>\r",
      "\r\n",
      "<param name=\"P_19\"><value>300.0</value></param>\r",
      "\r\n",
      "<param name=\"P_2\"><value>1750.0</value></param>\r",
      "\r\n",
      "<param name=\"P_20\"><value>0.1</value></param>\r",
      "\r\n",
      "<param name=\"P_21\"><value>0.1</value></param>\r",
      "\r\n",
      "<param name=\"P_22\"><value>0.1</value></param>\r",
      "\r\n",
      "<param name=\"P_23\"><value>250000.0</value></param>\r",
      "\r\n",
      "<param name=\"P_24\"><value>0.1</value></param>\r",
      "\r\n",
      "<param name=\"P_25\"><value>5.0</value></param>\r",
      "\r\n",
      "<param name=\"P_26\"><value>20000.0</value></param>\r",
      "\r\n",
      "<param name=\"P_27\"><value>0.1</value></param>\r",
      "\r\n",
      "<param name=\"P_28\"><value>0.1</value></param>\r",
      "\r\n",
      "<param name=\"P_29\"><value>20000.0</value></param>\r",
      "\r\n",
      "<param name=\"P_3\"><value>20.0</value></param>\r",
      "\r\n",
      "<param name=\"P_30\"><value>61422.630616765826</value></param>\r",
      "\r\n",
      "<param name=\"P_31\"><value>0.1</value></param>\r",
      "\r\n",
      "<param name=\"P_4\"><value>300.0</value></param>\r",
      "\r\n",
      "<param name=\"P_5\"><value>600000.0</value></param>\r",
      "\r\n",
      "<param name=\"P_6\"><value>120.0</value></param>\r",
      "\r\n",
      "<param name=\"P_7\"><value>158465.0</value></param>\r",
      "\r\n",
      "<param name=\"P_8\"><value>200000.0</value></param>\r",
      "\r\n",
      "<param name=\"P_9\"><value>300.0</value></param>\r",
      "\r\n",
      "<param name=\"Polarity\"><value>0</value></param>\r",
      "\r\n",
      "<param name=\"Polarity_Alternate\"><value>0</value></param>\r",
      "\r\n",
      "<param name=\"Q1CID\"><value>0</value></param>\r",
      "\r\n",
      "<param name=\"Q1DC\"><value>0</value></param>\r",
      "\r\n",
      "<param name=\"Q1Mass\"><value>857.0</value></param>\r",
      "\r\n",
      "<param name=\"Q1Res\"><value>0.0</value></param>\r",
      "\r\n",
      "<param name=\"Q1Res_TimeSlice01\"><value>10.0</value></param>\r",
      "\r\n",
      "<param name=\"Q1Res_TimeSlice25\"><value>0.0</value></param>\r",
      "\r\n",
      "<param name=\"Q1_Bias\"><value>0.0</value></param>\r",
      "\r\n",
      "<param name=\"Q1_EntranceLens\"><value>-1.0</value></param>\r",
      "\r\n",
      "<param name=\"Q1_ExitLens\"><value>4.0</value></param>\r",
      "\r\n",
      "<param name=\"Q1_Focus\"><value>-120.0</value></param>\r",
      "\r\n",
      "<param name=\"Q1_FocusOffset\"><value>0.0</value></param>\r",
      "\r\n",
      "<param name=\"Q1_Frag_Energy\"><value>0.0</value></param>\r",
      "\r\n",
      "<param name=\"Q1_PostFilter\"><value>0.0</value></param>\r",
      "\r\n",
      "<param name=\"Q1_PreFilter\"><value>0.0</value></param>\r",
      "\r\n",
      "<param name=\"Q1_Shell\"><value>0.0</value></param>\r",
      "\r\n",
      "<param name=\"QFSCU_OPMODE\"><value></value></param>\r",
      "\r\n",
      "<param name=\"QFSCU_OVERWRITE\"><value>294.90/3.00/294.70/2.70/502.352/43.000,294.90/5.00/295.10/5.10/501.280/42.626,294.90/10.00/295.00/10.30/497.878/41.711,294.90/20.00/294.40/21.80/490.543/39.767,566.90/3.00/566.80/3.40/962.161/83.288,566.90/5.00/567.00/4.90/961.259/82.955,566.90/10.00/567.00/9.80/958.326/82.067,566.90/20.00/566.90/20.70/951.346/80.211,838.80/3.00/838.70/3.20/1421.698/123.551,838.80/5.00/838.70/5.10/1420.390/123.164,838.80/10.00/838.90/9.70/1417.254/122.246,838.80/20.00/838.90/20.10/1411.636/120.615,1110.80/3.00/1110.60/2.50/1881.598/163.989,1110.80/5.00/1110.90/5.00/1880.142/163.454,1110.80/10.00/1110.80/9.70/1876.835/162.527,1110.80/20.00/1110.90/20.50/1870.267/160.642,1382.70/3.00/1382.50/3.40/2340.487/204.071,1382.70/5.00/1382.50/5.30/2339.203/203.638,1382.70/10.00/1382.80/9.70/2336.847/202.809,1382.70/20.00/1382.50/21.00/2329.115/200.674,1654.70/3.00/1654.60/3.10/2800.082/244.365,1654.70/5.00/1654.80/4.50/2799.101/243.967,1654.70/10.00/1654.90/9.80/2795.902/242.965,1654.70/20.00/1654.70/19.80/2789.455/241.151,1926.60/3.00/1926.70/2.70/3259.756/284.607,1926.60/5.00/1926.70/4.70/3258.533/284.099,1926.60/10.00/1926.80/9.90/3255.647/282.844,1926.60/20.00/1926.50/19.70/3249.031/281.286</value></param>\r",
      "\r\n",
      "<param name=\"QFSCU_STORE\"><value></value></param>\r",
      "\r\n",
      "<param name=\"QFSCU_TABLE\"><value></value></param>\r",
      "\r\n",
      "<param name=\"REVERSE\"><value>1</value></param>\r",
      "\r\n",
      "<param name=\"RGAIN\"><value>0</value></param>\r",
      "\r\n",
      "<param name=\"Reservoir_1_Pressure\"><value>10.0</value></param>\r",
      "\r\n",
      "<param name=\"Reservoir_2_Pressure\"><value>1.0E-4</value></param>\r",
      "\r\n",
      "<param name=\"Reverse_ETDSW\"><value>0</value></param>\r",
      "\r\n",
      "<param name=\"RxFilter\"><value>2</value></param>\r",
      "\r\n",
      "<param name=\"RxGain\"><value>1</value></param>\r",
      "\r\n",
      "<param name=\"RxMode\"><value>1</value></param>\r",
      "\r\n",
      "<param name=\"SEL_0\"><value>0.5</value></param>\r",
      "\r\n",
      "<param name=\"SEL_1\"><value>0.5</value></param>\r",
      "\r\n",
      "<param name=\"SEL_2\"><value>0.5</value></param>\r",
      "\r\n",
      "<param name=\"SEL_3\"><value>0.5</value></param>\r",
      "\r\n",
      "<param name=\"SFO1\"><value>0.37391734443538277</value></param>\r",
      "\r\n",
      "<param name=\"SI\"><value>8388608</value></param>\r",
      "\r\n",
      "<param name=\"SN_Fact\"><value>0.5</value></param>\r",
      "\r",
      "\r\n",
      "<param name=\"SORI\"><value>0</value></param>\r",
      "\r\n",
      "<param name=\"SORI_MS3\"><value>0</value></param>\r",
      "\r\n",
      "<param name=\"SORI_MS4\"><value>0</value></param>\r",
      "\r\n",
      "<param name=\"SPNAM0\"><value>FTMS_Excite</value></param>\r",
      "\r\n",
      "<param name=\"SPNAM1\"><value>FTMS_Excite</value></param>\r",
      "\r\n",
      "<param name=\"SPNAM10\"><value>gauss</value></param>\r",
      "\r\n",
      "<param name=\"SPNAM11\"><value>gauss</value></param>\r",
      "\r\n",
      "<param name=\"SPNAM12\"><value>gauss</value></param>\r",
      "\r\n",
      "<param name=\"SPNAM13\"><value>gauss</value></param>\r",
      "\r\n",
      "<param name=\"SPNAM14\"><value>gauss</value></param>\r",
      "\r\n",
      "<param name=\"SPNAM15\"><value>gauss</value></param>\r",
      "\r\n",
      "<param name=\"SPNAM2\"><value>gauss</value></param>\r",
      "\r\n",
      "<param name=\"SPNAM3\"><value>gauss</value></param>\r",
      "\r\n",
      "<param name=\"SPNAM4\"><value>gauss</value></param>\r",
      "\r\n",
      "<param name=\"SPNAM5\"><value>gauss</value></param>\r",
      "\r\n",
      "<param name=\"SPNAM6\"><value>gauss</value></param>\r",
      "\r\n",
      "<param name=\"SPNAM7\"><value>gauss</value></param>\r",
      "\r\n",
      "<param name=\"SPNAM8\"><value>gauss</value></param>\r",
      "\r\n",
      "<param name=\"SPNAM9\"><value>gauss</value></param>\r",
      "\r\n",
      "<param name=\"SPOFFS_0\"><value>0.0</value></param>\r",
      "\r\n",
      "<param name=\"SPOFFS_1\"><value>0.0</value></param>\r",
      "\r\n",
      "<param name=\"SPOFFS_10\"><value>0.0</value></param>\r",
      "\r\n",
      "<param name=\"SPOFFS_11\"><value>0.0</value></param>\r",
      "\r\n",
      "<param name=\"SPOFFS_12\"><value>0.0</value></param>\r",
      "\r\n",
      "<param name=\"SPOFFS_13\"><value>0.0</value></param>\r",
      "\r\n",
      "<param name=\"SPOFFS_14\"><value>0.0</value></param>\r",
      "\r\n",
      "<param name=\"SPOFFS_15\"><value>0.0</value></param>\r",
      "\r\n",
      "<param name=\"SPOFFS_2\"><value>0.0</value></param>\r",
      "\r\n",
      "<param name=\"SPOFFS_3\"><value>0.0</value></param>\r",
      "\r\n",
      "<param name=\"SPOFFS_4\"><value>0.0</value></param>\r",
      "\r\n",
      "<param name=\"SPOFFS_5\"><value>0.0</value></param>\r",
      "\r\n",
      "<param name=\"SPOFFS_6\"><value>0.0</value></param>\r",
      "\r\n",
      "<param name=\"SPOFFS_7\"><value>0.0</value></param>\r",
      "\r\n",
      "<param name=\"SPOFFS_8\"><value>0.0</value></param>\r",
      "\r\n",
      "<param name=\"SPOFFS_9\"><value>0.0</value></param>\r",
      "\r\n",
      "<param name=\"SP_0\"><value>120.0</value></param>\r",
      "\r\n",
      "<param name=\"SP_1\"><value>150.0</value></param>\r",
      "\r\n",
      "<param name=\"SP_10\"><value>150.0</value></param>\r",
      "\r\n",
      "<param name=\"SP_11\"><value>150.0</value></param>\r",
      "\r\n",
      "<param name=\"SP_12\"><value>150.0</value></param>\r",
      "\r\n",
      "<param name=\"SP_13\"><value>150.0</value></param>\r",
      "\r\n",
      "<param name=\"SP_14\"><value>150.0</value></param>\r",
      "\r\n",
      "<param name=\"SP_15\"><value>150.0</value></param>\r",
      "\r\n",
      "<param name=\"SP_2\"><value>150.0</value></param>\r",
      "\r\n",
      "<param name=\"SP_3\"><value>150.0</value></param>\r",
      "\r\n",
      "<param name=\"SP_4\"><value>150.0</value></param>\r",
      "\r\n",
      "<param name=\"SP_5\"><value>150.0</value></param>\r",
      "\r\n",
      "<param name=\"SP_6\"><value>150.0</value></param>\r",
      "\r\n",
      "<param name=\"SP_7\"><value>150.0</value></param>\r",
      "\r\n",
      "<param name=\"SP_8\"><value>150.0</value></param>\r",
      "\r\n",
      "<param name=\"SP_9\"><value>150.0</value></param>\r",
      "\r\n",
      "<param name=\"SSB\"><value>0.0</value></param>\r",
      "\r\n",
      "<param name=\"SW\"><value>1671492.4014657661</value></param>\r",
      "\r\n",
      "<param name=\"SW_h\"><value>625000.0</value></param>\r",
      "\r\n",
      "<param name=\"SW_h_Broadband\"><value>625000.0</value></param>\r",
      "\r\n",
      "<param name=\"SW_h_Narrowband\"><value>10288.065843621398</value></param>\r",
      "\r\n",
      "<param name=\"S_CapillaryExit_H\"><value>200.0</value></param>\r",
      "\r\n",
      "<param name=\"S_CapillaryExit_L\"><value>200.0</value></param>\r",
      "\r\n",
      "<param name=\"S_Deflector_L\"><value>220.0</value></param>\r",
      "\r\n",
      "<param name=\"S_Funnel1_DC\"><value>150.0</value></param>\r",
      "\r\n",
      "<param name=\"S_Funnel2_DC\"><value>6.0</value></param>\r",
      "\r\n",
      "<param name=\"S_Funnel_RF\"><value>200.0</value></param>\r",
      "\r\n",
      "<param name=\"S_MaldiPlate_L\"><value>0.0</value></param>\r",
      "\r\n",
      "<param name=\"S_Skimmer1\"><value>10.0</value></param>\r",
      "\r\n",
      "<param name=\"S_Skimmer2_H\"><value>5.0</value></param>\r",
      "\r\n",
      "<param name=\"S_Skimmer2_L\"><value>5.0</value></param>\r",
      "\r\n",
      "<param name=\"SaveFid\"><value>1</value></param>\r",
      "\r\n",
      "<param name=\"SaveScanSpectrum\"><value>1</value></param>\r",
      "\r\n",
      "<param name=\"SwpDir\"><value>0</value></param>\r",
      "\r\n",
      "<param name=\"SwpEnabled_0\"><value>0</value></param>\r",
      "\r\n",
      "<param name=\"SwpEnabled_1\"><value>0</value></param>\r",
      "\r\n",
      "<param name=\"SwpEnabled_2\"><value>0</value></param>\r",
      "\r\n",
      "<param name=\"SwpEnabled_3\"><value>0</value></param>\r",
      "\r\n",
      "<param name=\"SwpHigh_0\"><value>10.0</value></param>\r",
      "\r\n",
      "<param name=\"SwpHigh_1\"><value>10.0</value></param>\r",
      "\r\n",
      "<param name=\"SwpHigh_2\"><value>10.0</value></param>\r",
      "\r\n",
      "<param name=\"SwpHigh_3\"><value>10.0</value></param>\r",
      "\r\n",
      "<param name=\"SwpLow_0\"><value>10.0</value></param>\r",
      "\r\n",
      "<param name=\"SwpLow_1\"><value>10.0</value></param>\r",
      "\r\n",
      "<param name=\"SwpLow_2\"><value>10.0</value></param>\r",
      "\r\n",
      "<param name=\"SwpLow_3\"><value>10.0</value></param>\r",
      "\r\n",
      "<param name=\"SwpRate_0\"><value>500.0</value></param>\r",
      "\r\n",
      "<param name=\"SwpRate_1\"><value>500.0</value></param>\r",
      "\r\n",
      "<param name=\"SwpRate_2\"><value>500.0</value></param>\r",
      "\r\n",
      "<param name=\"SwpRate_3\"><value>500.0</value></param>\r",
      "\r\n",
      "<param name=\"SwpTime_0\"><value>0.01</value></param>\r",
      "\r\n",
      "<param name=\"SwpTime_1\"><value>0.01</value></param>\r",
      "\r\n",
      "<param name=\"SwpTime_2\"><value>0.01</value></param>\r",
      "\r\n",
      "<param name=\"SwpTime_3\"><value>0.01</value></param>\r",
      "\r\n",
      "<param name=\"TD\"><value>4194304</value></param>\r",
      "\r\n",
      "<param name=\"TD_Broadband\"><value>4194304</value></param>\r",
      "\r\n",
      "<param name=\"TD_Narrowband\"><value>65536</value></param>\r",
      "\r\n",
      "<param name=\"TDeff\"><value>0</value></param>\r",
      "\r\n",
      "<param name=\"TDoff\"><value>0</value></param>\r",
      "\r\n",
      "<param name=\"TILT\"><value>1</value></param>\r",
      "\r\n",
      "<param name=\"TgTyp\"><value>MSP 96</value></param>\r",
      "\r\n",
      "<param name=\"VCLIST\"><value>se__curr_vc</value></param>\r",
      "\r\n",
      "<param name=\"VD\"><value>0.0</value></param>\r",
      "\r\n",
      "<param name=\"VDLIST\"><value>reagent_1</value></param>\r",
      "\r\n",
      "<param name=\"VP\"><value>0.0</value></param>\r",
      "\r\n",
      "<param name=\"VPLIST\"><value>PPPPPPPPPPPPPPP</value></param>\r",
      "\r\n",
      "<param name=\"VPV1_0\"><value>1.0</value></param>\r",
      "\r\n",
      "<param name=\"VPV1_1\"><value>1.0</value></param>\r",
      "\r\n",
      "<param name=\"VPV1_10\"><value>0.0</value></param>\r",
      "\r\n",
      "<param name=\"VPV1_11\"><value>0.0</value></param>\r",
      "\r\n",
      "<param name=\"VPV1_12\"><value>0.0</value></param>\r",
      "\r\n",
      "<param name=\"VPV1_13\"><value>0.0</value></param>\r",
      "\r\n",
      "<param name=\"VPV1_14\"><value>0.0</value></param>\r",
      "\r\n",
      "<param name=\"VPV1_15\"><value>0.0</value></param>\r",
      "\r\n",
      "<param name=\"VPV1_16\"><value>0.0</value></param>\r",
      "\r\n",
      "<param name=\"VPV1_17\"><value>0.0</value></param>\r",
      "\r\n",
      "<param name=\"VPV1_18\"><value>0.0</value></param>\r",
      "\r\n",
      "<param name=\"VPV1_19\"><value>0.0</value></param>\r",
      "\r\n",
      "<param name=\"VPV1_2\"><value>0.0</value></param>\r",
      "\r\n",
      "<param name=\"VPV1_20\"><value>0.0</value></param>\r",
      "\r\n",
      "<param name=\"VPV1_21\"><value>0.0</value></param>\r",
      "\r\n",
      "<param name=\"VPV1_22\"><value>0.0</value></param>\r",
      "\r\n",
      "<param name=\"VPV1_23\"><value>0.0</value></param>\r",
      "\r\n",
      "<param name=\"VPV1_24\"><value>0.0</value></param>\r",
      "\r\n",
      "<param name=\"VPV1_25\"><value>0.0</value></param>\r",
      "\r\n",
      "<param name=\"VPV1_26\"><value>0.0</value></param>\r",
      "\r\n",
      "<param name=\"VPV1_27\"><value>0.0</value></param>\r",
      "\r\n",
      "<param name=\"VPV1_28\"><value>0.0</value></param>\r",
      "\r\n",
      "<param name=\"VPV1_29\"><value>0.0</value></param>\r",
      "\r\n",
      "<param name=\"VPV1_3\"><value>0.0</value></param>\r",
      "\r\n",
      "<param name=\"VPV1_30\"><value>0.0</value></param>\r",
      "\r\n",
      "<param name=\"VPV1_31\"><value>0.0</value></param>\r",
      "\r\n",
      "<param name=\"VPV1_4\"><value>0.0</value></param>\r",
      "\r\n",
      "<param name=\"VPV1_5\"><value>0.0</value></param>\r",
      "\r\n",
      "<param name=\"VPV1_6\"><value>0.0</value></param>\r",
      "\r\n",
      "<param name=\"VPV1_7\"><value>0.0</value></param>\r",
      "\r\n",
      "<param name=\"VPV1_8\"><value>0.0</value></param>\r",
      "\r\n",
      "<param name=\"VPV1_9\"><value>0.0</value></param>\r",
      "\r\n",
      "<param name=\"VPV2_0\"><value>1.0</value></param>\r",
      "\r\n",
      "<param name=\"VPV2_1\"><value>1.0</value></param>\r",
      "\r\n",
      "<param name=\"VPV2_10\"><value>0.0</value></param>\r",
      "\r\n",
      "<param name=\"VPV2_11\"><value>0.0</value></param>\r",
      "\r\n",
      "<param name=\"VPV2_12\"><value>0.0</value></param>\r",
      "\r\n",
      "<param name=\"VPV2_13\"><value>0.0</value></param>\r",
      "\r\n",
      "<param name=\"VPV2_14\"><value>0.0</value></param>\r",
      "\r\n",
      "<param name=\"VPV2_15\"><value>0.0</value></param>\r",
      "\r\n",
      "<param name=\"VPV2_16\"><value>0.0</value></param>\r",
      "\r\n",
      "<param name=\"VPV2_17\"><value>0.0</value></param>\r",
      "\r\n",
      "<param name=\"VPV2_18\"><value>0.0</value></param>\r",
      "\r\n",
      "<param name=\"VPV2_19\"><value>0.0</value></param>\r",
      "\r\n",
      "<param name=\"VPV2_2\"><value>0.0</value></param>\r",
      "\r\n",
      "<param name=\"VPV2_20\"><value>0.0</value></param>\r",
      "\r\n",
      "<param name=\"VPV2_21\"><value>0.0</value></param>\r",
      "\r\n",
      "<param name=\"VPV2_22\"><value>0.0</value></param>\r",
      "\r\n",
      "<param name=\"VPV2_23\"><value>0.0</value></param>\r",
      "\r\n",
      "<param name=\"VPV2_24\"><value>0.0</value></param>\r",
      "\r\n",
      "<param name=\"VPV2_25\"><value>0.0</value></param>\r",
      "\r\n",
      "<param name=\"VPV2_26\"><value>0.0</value></param>\r",
      "\r\n",
      "<param name=\"VPV2_27\"><value>0.0</value></param>\r",
      "\r\n",
      "<param name=\"VPV2_28\"><value>0.0</value></param>\r",
      "\r\n",
      "<param name=\"VPV2_29\"><value>0.0</value></param>\r",
      "\r\n",
      "<param name=\"VPV2_3\"><value>0.0</value></param>\r",
      "\r\n",
      "<param name=\"VPV2_30\"><value>0.0</value></param>\r",
      "\r\n",
      "<param name=\"VPV2_31\"><value>0.0</value></param>\r",
      "\r\n",
      "<param name=\"VPV2_4\"><value>0.0</value></param>\r",
      "\r\n",
      "<param name=\"VPV2_5\"><value>0.0</value></param>\r",
      "\r\n",
      "<param name=\"VPV2_6\"><value>0.0</value></param>\r",
      "\r\n",
      "<param name=\"VPV2_7\"><value>0.0</value></param>\r",
      "\r\n",
      "<param name=\"VPV2_8\"><value>0.0</value></param>\r",
      "\r\n",
      "<param name=\"VPV2_9\"><value>0.0</value></param>\r",
      "\r\n",
      "<param name=\"VSTEP_0\"><value>0</value></param>\r",
      "\r\n",
      "<param name=\"VSTEP_1\"><value>0</value></param>\r",
      "\r\n",
      "<param name=\"VSTEP_10\"><value>0</value></param>\r",
      "\r\n",
      "<param name=\"VSTEP_11\"><value>0</value></param>\r",
      "\r\n",
      "<param name=\"VSTEP_12\"><value>0</value></param>\r",
      "\r\n",
      "<param name=\"VSTEP_13\"><value>0</value></param>\r",
      "\r\n",
      "<param name=\"VSTEP_14\"><value>0</value></param>\r",
      "\r\n",
      "<param name=\"VSTEP_15\"><value>0</value></param>\r",
      "\r\n",
      "<param name=\"VSTEP_16\"><value>0</value></param>\r",
      "\r\n",
      "<param name=\"VSTEP_17\"><value>0</value></param>\r",
      "\r\n",
      "<param name=\"VSTEP_18\"><value>0</value></param>\r",
      "\r\n",
      "<param name=\"VSTEP_19\"><value>0</value></param>\r",
      "\r\n",
      "<param name=\"VSTEP_2\"><value>0</value></param>\r",
      "\r\n",
      "<param name=\"VSTEP_20\"><value>0</value></param>\r",
      "\r\n",
      "<param name=\"VSTEP_21\"><value>0</value></param>\r",
      "\r\n",
      "<param name=\"VSTEP_22\"><value>0</value></param>\r",
      "\r\n",
      "<param name=\"VSTEP_23\"><value>0</value></param>\r",
      "\r\n",
      "<param name=\"VSTEP_24\"><value>0</value></param>\r",
      "\r\n",
      "<param name=\"VSTEP_25\"><value>0</value></param>\r",
      "\r\n",
      "<param name=\"VSTEP_26\"><value>0</value></param>\r",
      "\r\n",
      "<param name=\"VSTEP_27\"><value>0</value></param>\r",
      "\r\n",
      "<param name=\"VSTEP_28\"><value>0</value></param>\r",
      "\r\n",
      "<param name=\"VSTEP_29\"><value>0</value></param>\r",
      "\r\n",
      "<param name=\"VSTEP_3\"><value>0</value></param>\r",
      "\r\n",
      "<param name=\"VSTEP_30\"><value>0</value></param>\r",
      "\r\n",
      "<param name=\"VSTEP_31\"><value>0</value></param>\r",
      "\r\n",
      "<param name=\"VSTEP_4\"><value>0</value></param>\r",
      "\r\n",
      "<param name=\"VSTEP_5\"><value>0</value></param>\r",
      "\r\n",
      "<param name=\"VSTEP_6\"><value>0</value></param>\r",
      "\r\n",
      "<param name=\"VSTEP_7\"><value>0</value></param>\r",
      "\r\n",
      "<param name=\"VSTEP_8\"><value>0</value></param>\r",
      "\r\n",
      "<param name=\"VSTEP_9\"><value>0</value></param>\r",
      "\r\n",
      "<param name=\"WDW\"><value>3</value></param>\r",
      "\r\n",
      "<param name=\"XBB\"><value>100.0</value></param>\r",
      "\r\n",
      "<param name=\"XFC\"><value>25000.0</value></param>\r",
      "\r\n",
      "<param name=\"XHR\"><value>45.0</value></param>\r",
      "\r\n",
      "<param name=\"Xfer_Bias\"><value>-50.0</value></param>\r",
      "\r\n",
      "<param name=\"Xfer_EntranceLens\"><value>-30.0</value></param>\r",
      "\r\n",
      "<param name=\"Xfer_ExitLens\"><value>-15.0</value></param>\r",
      "\r\n",
      "<param name=\"Xfer_Freq\"><value>2.0</value></param>\r",
      "\r\n",
      "<param name=\"Xfer_Lens_1\"><value>-60.0</value></param>\r",
      "\r\n",
      "<param name=\"Xfer_Lens_2\"><value>-10.0</value></param>\r",
      "\r\n",
      "<param name=\"Xfer_Lens_3\"><value>-50.0</value></param>\r",
      "\r\n",
      "<param name=\"Xfer_RFAmp\"><value>450.0</value></param>\r",
      "\r\n",
      "<param name=\"YMAX_p\"><value>100000000</value></param>\r",
      "\r\n",
      "<param name=\"YMIN_p\"><value>0</value></param>\r",
      "\r\n",
      "</paramlist>\r",
      "\r\n",
      "</method>"
     ]
    }
   ],
   "source": [
    "cat 'files/FTICR-Files/ESI_pos_Ubiquitin_000006.d/ESI_pos_150_3000.m/apexAcquisition.method'"
   ]
  },
  {
   "cell_type": "markdown",
   "metadata": {},
   "source": [
    "# utility\n",
    "parameter are stored in a XML file, we can look through the file and get the parameters manually, but it is also possible to simply build a dictionary from the entries.\n",
    "\n",
    "Here a simple mini parser, using standard python library"
   ]
  },
  {
   "cell_type": "code",
   "execution_count": 25,
   "metadata": {},
   "outputs": [],
   "source": [
    "from xml.dom import minidom\n",
    "def read_param(filename):\n",
    "    \"\"\"\n",
    "        Open the given file and retrieve all parameters from apexAcquisition.method\n",
    "        NC is written when no value for value is found\n",
    "        \n",
    "        structure : <param name = \"AMS_ActiveExclusion\"><value>0</value></param>\n",
    "       \n",
    "        read_param returns  values in a dictionnary\n",
    "    \"\"\"\n",
    "    xmldoc = minidom.parse(filename)\n",
    "    \n",
    "    x = xmldoc.documentElement\n",
    "    pp = {}\n",
    "    children = x.childNodes\n",
    "    for child in children:\n",
    "        if (child.nodeName == 'paramlist'):\n",
    "            params = child.childNodes\n",
    "            for param in params:\n",
    "                if (param.nodeName == 'param'):\n",
    "                    k = str(param.getAttribute('name'))\n",
    "                    for element in param.childNodes:\n",
    "                       if element.nodeName == \"value\":\n",
    "                           try:\n",
    "                               v = str(element.firstChild.toxml())\n",
    "                               #print v\n",
    "                           except: \n",
    "                               v = \"NC\"\n",
    "                    pp[k] = v\n",
    "    return pp"
   ]
  },
  {
   "cell_type": "code",
   "execution_count": 26,
   "metadata": {},
   "outputs": [
    {
     "name": "stdout",
     "output_type": "stream",
     "text": [
      "4194304\n"
     ]
    }
   ],
   "source": [
    "pfile = op.join(BASE, 'ESI_pos_150_3000.m', 'apexAcquisition.method')\n",
    "param = read_param(pfile)\n",
    "print (param['TD'])"
   ]
  },
  {
   "cell_type": "code",
   "execution_count": 27,
   "metadata": {
    "scrolled": true
   },
   "outputs": [
    {
     "data": {
      "text/plain": [
       "781"
      ]
     },
     "execution_count": 27,
     "metadata": {},
     "output_type": "execute_result"
    }
   ],
   "source": [
    "# print the 10 first entries\n",
    "len(list(param.keys()))"
   ]
  },
  {
   "cell_type": "code",
   "execution_count": 28,
   "metadata": {},
   "outputs": [
    {
     "data": {
      "text/plain": [
       "'1.8427001783361462E8'"
      ]
     },
     "execution_count": 28,
     "metadata": {},
     "output_type": "execute_result"
    }
   ],
   "source": [
    "param['ML1']"
   ]
  },
  {
   "cell_type": "code",
   "execution_count": 29,
   "metadata": {},
   "outputs": [
    {
     "name": "stdout",
     "output_type": "stream",
     "text": [
      "Spectral width: 625000.0\n",
      "constant M_1: 184270017.83361462\n",
      "constant M_2: 5.039161102310875\n"
     ]
    }
   ],
   "source": [
    "# we find the parameters in the parameter file\n",
    "sw = float(param['SW_h_Broadband'])\n",
    "ml1 = float(param['ML1'])\n",
    "ml2 = float(param['ML2'])\n",
    "print('Spectral width: {}'.format(sw) )\n",
    "print('constant M_1: {}'.format(ml1))\n",
    "print('constant M_2: {}'.format(ml2))"
   ]
  },
  {
   "cell_type": "code",
   "execution_count": 30,
   "metadata": {},
   "outputs": [],
   "source": [
    "faxis = np.linspace(0, sw, len(spzf))    # the freq axis from 0 to sw"
   ]
  },
  {
   "cell_type": "code",
   "execution_count": 31,
   "metadata": {},
   "outputs": [],
   "source": [
    "mzaxis = ml1/(ml2+faxis)    # and the mzaxis"
   ]
  },
  {
   "cell_type": "code",
   "execution_count": 32,
   "metadata": {},
   "outputs": [
    {
     "data": {
      "image/png": "[encoded data removed]",
      "text/plain": [
       "<Figure size 720x576 with 1 Axes>"
      ]
     },
     "metadata": {},
     "output_type": "display_data"
    }
   ],
   "source": [
    "plt.plot(mzaxis, spzf)\n",
    "plt.xlim(856.5, 858.5)\n",
    "plt.xlabel(\"$m/z$\");"
   ]
  },
  {
   "cell_type": "markdown",
   "metadata": {},
   "source": [
    "we can zoom on the monoisotopic peak, and try to determine precisely its value.\n",
    "\n",
    "We know the theorical mass is 856.969496 (for the $z=10$ state)."
   ]
  },
  {
   "cell_type": "code",
   "execution_count": 33,
   "metadata": {},
   "outputs": [
    {
     "data": {
      "image/png": "[encoded data removed]",
      "text/plain": [
       "<Figure size 720x576 with 1 Axes>"
      ]
     },
     "metadata": {},
     "output_type": "display_data"
    }
   ],
   "source": [
    "plt.plot(mzaxis, spzf)\n",
    "plt.xlim(856.9, 857.0)\n",
    "plt.ylim(0,6E7)\n",
    "plt.xlabel(\"$m/z$\");"
   ]
  },
  {
   "cell_type": "code",
   "execution_count": 34,
   "metadata": {},
   "outputs": [],
   "source": [
    "# these functions convert back and forth from index to m/z\n",
    "def itomz(val, N):\n",
    "    \"\"\"transform index to m/z for N points,\n",
    "    using current ml1 ml2 and sw\n",
    "    \"\"\"\n",
    "    f = sw*val/N\n",
    "    return ml1/(ml2+f)\n",
    "def mztoi(m, N):\n",
    "    \"\"\"transform m/z to index for N points,\n",
    "    using current ml1 ml2 and sw\n",
    "    \"\"\"\n",
    "    f = ml1/m - ml2\n",
    "    return N*f/sw\n",
    "theo = 856.9694962104804\n",
    "def ppm(theorical, measured):\n",
    "    return 1E6*(measured-theorical)/measured"
   ]
  },
  {
   "cell_type": "markdown",
   "metadata": {},
   "source": [
    "we can compute the vector coordinates of the previous zoom window"
   ]
  },
  {
   "cell_type": "code",
   "execution_count": 35,
   "metadata": {},
   "outputs": [
    {
     "name": "stdout",
     "output_type": "stream",
     "text": [
      "start: 1442924  - end: 1443093\n",
      "maximum is at: 1442977, for m/z: 856.9689406761887\n",
      "For an error of -0.648 ppm\n"
     ]
    },
    {
     "data": {
      "image/png": "[encoded data removed]",
      "text/plain": [
       "<Figure size 720x576 with 1 Axes>"
      ]
     },
     "metadata": {},
     "output_type": "display_data"
    }
   ],
   "source": [
    "start = int( mztoi(857.0, len(spzf)))\n",
    "end = int( mztoi(856.9, len(spzf)))\n",
    "print(\"start: {}  - end: {}\".format(start,end))\n",
    "plt.plot(spzf[start:end])\n",
    "top = spzf[start:end].argmax() + start\n",
    "meas1 = itomz(top,len(spzf))\n",
    "print(\"maximum is at: {}, for m/z: {}\".format(top,meas1))\n",
    "print(\"For an error of {:.3f} ppm\".format(ppm(theo, meas1)))"
   ]
  },
  {
   "cell_type": "code",
   "execution_count": 36,
   "metadata": {},
   "outputs": [
    {
     "name": "stdout",
     "output_type": "stream",
     "text": [
      "peak barycenter is at 856.9692194653925\n",
      "For an error of -0.323 ppm\n"
     ]
    }
   ],
   "source": [
    "# peak barycenter\n",
    "bary = 0.0\n",
    "s = 0\n",
    "for i in range(-3, +4):\n",
    "    bary += i*spzf[i+top]\n",
    "    s += spzf[i+top]\n",
    "mbary = itomz(bary/s+top, len(spzf))\n",
    "print (\"peak barycenter is at {}\".format(mbary))\n",
    "print(\"For an error of {:.3f} ppm\".format(ppm(theo, mbary)))"
   ]
  },
  {
   "cell_type": "markdown",
   "metadata": {},
   "source": [
    "# packing it up\n",
    "Now we can simply build a function doing all this at once :"
   ]
  },
  {
   "cell_type": "code",
   "execution_count": 37,
   "metadata": {},
   "outputs": [],
   "source": [
    "import glob\n",
    "def read_fticr(folder):\n",
    "    \"\"\"\n",
    "    load and process the data Solarix Apex FTICR file found in folder\n",
    "    uses the calibration from the parameter file\n",
    "    \n",
    "    eg:\n",
    "    spectrum,axis = read_fticr('FTICR/Files/bruker ubiquitin file/ESI_pos_Ubiquitin_000006.d')\n",
    "    \"\"\"\n",
    "    # find and load parameters\n",
    "    L = glob.glob(op.join(folder,\"*\",\"apexAcquisition.method\"))\n",
    "    if len(L)>1:\n",
    "        raise Exception( \"You have more than 1 apexAcquisition.method file in the %s folder, using the first one\"%folder )\n",
    "    elif len(L) == 0: \n",
    "        raise Exception( \"You don't have any apexAcquisition.method file in the  %s folder, please double check the path\"%folder )\n",
    "    param = read_param(L[0])\n",
    "    \n",
    "    # load data\n",
    "    n = int(param['TD'])\n",
    "    fidzf = np.zeros(2*n)\n",
    "    with  open(  op.join(BASE, 'fid'), 'rb') as F:  # 'with' a better way of reading a file\n",
    "        tbuf = F.read(4*int(param['TD']))\n",
    "        fidzf[:n] = np.array(array.array('i',tbuf)) # [:] is less memory intensive\n",
    "\n",
    "    # process\n",
    "    fidzf[:n] *= np.hamming(n)\n",
    "    spectrum = abs( rfft( fidzf ) )\n",
    "\n",
    "    # calibrate\n",
    "    sw = float(param['SW_h_Broadband'])\n",
    "    ml1 = float(param['ML1'])\n",
    "    ml2 = float(param['ML2'])\n",
    "    faxis = np.linspace(0, sw, len(spectrum))    # the freq axis from 0 to sw\n",
    "    mzaxis = ml1/(ml2+faxis)    # and the mzaxis\n",
    "    return spectrum, mzaxis\n"
   ]
  },
  {
   "cell_type": "code",
   "execution_count": 38,
   "metadata": {},
   "outputs": [],
   "source": [
    "spectrum,axis = read_fticr('files/FTICR-Files/ESI_pos_Ubiquitin_000006.d')"
   ]
  },
  {
   "cell_type": "code",
   "execution_count": 39,
   "metadata": {},
   "outputs": [
    {
     "data": {
      "text/plain": [
       "(200, 2500)"
      ]
     },
     "execution_count": 39,
     "metadata": {},
     "output_type": "execute_result"
    },
    {
     "data": {
      "image/png": "[encoded data removed]",
      "text/plain": [
       "<Figure size 720x576 with 1 Axes>"
      ]
     },
     "metadata": {},
     "output_type": "display_data"
    }
   ],
   "source": [
    "# %matplotlib\n",
    "plt.plot(axis, spectrum)\n",
    "plt.xlabel(\"$m/z$\")\n",
    "plt.xlim(200,2500)"
   ]
  },
  {
   "cell_type": "code",
   "execution_count": 40,
   "metadata": {},
   "outputs": [
    {
     "data": {
      "text/plain": [
       "Text(0.5,1,'Zooming in')"
      ]
     },
     "execution_count": 40,
     "metadata": {},
     "output_type": "execute_result"
    },
    {
     "data": {
      "image/png": "[encoded data removed]",
      "text/plain": [
       "<Figure size 720x576 with 1 Axes>"
      ]
     },
     "metadata": {},
     "output_type": "display_data"
    }
   ],
   "source": [
    "plt.plot(axis, spectrum)\n",
    "plt.xlabel(\"$m/z$\")\n",
    "plt.xlim(650,1300)\n",
    "plt.title(\"Zooming in\")"
   ]
  },
  {
   "cell_type": "code",
   "execution_count": 41,
   "metadata": {},
   "outputs": [
    {
     "data": {
      "image/png": "[encoded data removed]",
      "text/plain": [
       "<Figure size 720x576 with 1 Axes>"
      ]
     },
     "metadata": {},
     "output_type": "display_data"
    }
   ],
   "source": [
    "plt.plot(axis, spectrum)\n",
    "plt.xlabel(\"$m/z$\")\n",
    "plt.xlim(855,865)\n",
    "plt.title(\"Zooming further\");"
   ]
  },
  {
   "cell_type": "markdown",
   "metadata": {},
   "source": [
    "# Doing the same thing with SPIKE\n",
    "\n",
    "SPIKE is a complete software suite we're building to do this, *and much more*\n",
    "\n",
    "It is distributed here : https://bitbucket.org/delsuc/spike\n",
    "\n",
    "However, the program is still in development, stay tuned !"
   ]
  },
  {
   "cell_type": "code",
   "execution_count": 42,
   "metadata": {},
   "outputs": [
    {
     "name": "stdout",
     "output_type": "stream",
     "text": [
      "\n",
      "    ========================\n",
      "          SPIKE\n",
      "    ========================\n",
      "    Version     : 0.99.0\n",
      "    Date        : 06-03-2018\n",
      "    Revision Id : 369\n",
      "    ========================\n",
      "*** Importing  << zoom3D >> Failed ***\n",
      "plugins loaded:\n",
      "Bruker_NMR_FT,  Bucketing,  FTMS_calib,  Fitter,  Linear_prediction,  PALMA,  Peaks,  apmin,  bcorr,  fastclean,  pg_sane,  rem_ridge,  sane,  sg,  test,  urQRd,  wavelet, \n",
      "type spike.plugins.report() for a short description\n",
      "and spike.plugins.report('module_name') for complete documentation on one plugin\n"
     ]
    }
   ],
   "source": [
    "import sys\n",
    "sys.path.append('/Users/mad/')  # adapt this to your own set-up\n",
    "import spike\n",
    "from spike.File import Apex"
   ]
  },
  {
   "cell_type": "code",
   "execution_count": 43,
   "metadata": {},
   "outputs": [],
   "source": [
    "File = 'files/FTICR-Files/080617-insulin_2M_MS_000001.d'\n",
    "dd = Apex.Import_1D(File)"
   ]
  },
  {
   "cell_type": "code",
   "execution_count": 44,
   "metadata": {},
   "outputs": [
    {
     "data": {
      "text/plain": [
       "1D data-set\n",
       "Axis F1 :FT-ICR report axis at 769.230769 kHz,  2097152 real points,  from physical mz =  187.692   to m/z = 5000.000  R max (M=400) = 984074\n",
       "data-set is real"
      ]
     },
     "execution_count": 44,
     "metadata": {},
     "output_type": "execute_result"
    },
    {
     "data": {
      "image/png": "[encoded data removed]",
      "text/plain": [
       "<Figure size 720x576 with 1 Axes>"
      ]
     },
     "metadata": {},
     "output_type": "display_data"
    }
   ],
   "source": [
    "dd.unit = \"sec\"\n",
    "dd.display()"
   ]
  },
  {
   "cell_type": "code",
   "execution_count": 45,
   "metadata": {},
   "outputs": [
    {
     "data": {
      "text/plain": [
       "1D data-set\n",
       "Axis F1 :FT-ICR report axis at 769.230769 kHz,  4194304 real points,  from physical mz =  187.692   to m/z = 5000.000  R max (M=400) = 1968148\n",
       "data-set is real"
      ]
     },
     "execution_count": 45,
     "metadata": {},
     "output_type": "execute_result"
    },
    {
     "data": {
      "image/png": "[encoded data removed]",
      "text/plain": [
       "<Figure size 720x576 with 1 Axes>"
      ]
     },
     "metadata": {},
     "output_type": "display_data"
    }
   ],
   "source": [
    "dd.hamming().zf(4).rfft().modulus()\n",
    "dd.unit = \"m/z\"\n",
    "dd.display(zoom=(500,2000))"
   ]
  },
  {
   "cell_type": "code",
   "execution_count": 46,
   "metadata": {},
   "outputs": [
    {
     "name": "stdout",
     "output_type": "stream",
     "text": [
      "PP Threshold: 10000000.0\n",
      "detected 146 peaks\n"
     ]
    }
   ],
   "source": [
    "dd.pp(threshold=1E7)\n",
    "print (\"detected %d peaks\"%len(dd.peaks))"
   ]
  },
  {
   "cell_type": "code",
   "execution_count": 47,
   "metadata": {},
   "outputs": [
    {
     "data": {
      "image/png": "[encoded data removed]",
      "text/plain": [
       "<Figure size 720x576 with 1 Axes>"
      ]
     },
     "metadata": {},
     "output_type": "display_data"
    }
   ],
   "source": [
    "dd.display(zoom=(1150,1180))\n",
    "dd.display_peaks(zoom=(856.5, 858.5))"
   ]
  },
  {
   "cell_type": "code",
   "execution_count": 48,
   "metadata": {},
   "outputs": [],
   "source": [
    "p = dd.peaks[40]"
   ]
  },
  {
   "cell_type": "code",
   "execution_count": 49,
   "metadata": {},
   "outputs": [
    {
     "data": {
      "text/plain": [
       "'40, 40, 544737.00, 340973582.28'"
      ]
     },
     "execution_count": 49,
     "metadata": {},
     "output_type": "execute_result"
    }
   ],
   "source": [
    "p.report()"
   ]
  },
  {
   "cell_type": "code",
   "execution_count": 50,
   "metadata": {},
   "outputs": [
    {
     "data": {
      "text/plain": [
       "'40, Peak 40, 1444.89, 340973582.28'"
      ]
     },
     "execution_count": 50,
     "metadata": {},
     "output_type": "execute_result"
    }
   ],
   "source": [
    "p.label = \"Peak 40\"\n",
    "p.report()  # in index\n",
    "p.report(f=dd.axis1.itomz)  # provides in m/z\n",
    "# string is :\n",
    "# id, label, m/z, intensity, width (0 if not determined)"
   ]
  },
  {
   "cell_type": "code",
   "execution_count": 51,
   "metadata": {},
   "outputs": [
    {
     "name": "stderr",
     "output_type": "stream",
     "text": [
      "/Users/mad/anaconda3/lib/python3.6/site-packages/scipy/optimize/minpack.py:785: OptimizeWarning: Covariance of the parameters could not be estimated\n",
      "  category=OptimizeWarning)\n"
     ]
    }
   ],
   "source": [
    "dd.centroid()\n",
    "for p in dd.peaks:\n",
    "    p.label = \"%.5f\"%(dd.axis1.itomz(p.pos))"
   ]
  },
  {
   "cell_type": "code",
   "execution_count": 55,
   "metadata": {},
   "outputs": [
    {
     "data": {
      "image/png": "[encoded data removed]",
      "text/plain": [
       "<Figure size 720x576 with 1 Axes>"
      ]
     },
     "metadata": {},
     "output_type": "display_data"
    }
   ],
   "source": [
    "# this switches to a different display mode\n",
    "z = (1155,1158)\n",
    "dd.display(zoom=z)\n",
    "dd.display_peaks(zoom=z) #, peak_label=True)"
   ]
  },
  {
   "cell_type": "code",
   "execution_count": 56,
   "metadata": {},
   "outputs": [
    {
     "data": {
      "image/png": "[encoded data removed]",
      "text/plain": [
       "<Figure size 720x576 with 1 Axes>"
      ]
     },
     "metadata": {},
     "output_type": "display_data"
    }
   ],
   "source": [
    "# this switches to a different display mode\n",
    "z = (1156,1156.5)\n",
    "dd.display(zoom=z)\n",
    "dd.display_peaks(zoom=z) #, peak_label=True)"
   ]
  },
  {
   "cell_type": "code",
   "execution_count": null,
   "metadata": {},
   "outputs": [],
   "source": []
  }
 ],
 "metadata": {
  "kernelspec": {
   "display_name": "Python 3",
   "language": "python",
   "name": "python3"
  },
  "language_info": {
   "codemirror_mode": {
    "name": "ipython",
    "version": 3
   },
   "file_extension": ".py",
   "mimetype": "text/x-python",
   "name": "python",
   "nbconvert_exporter": "python",
   "pygments_lexer": "ipython3",
   "version": "3.6.4"
  }
 },
 "nbformat": 4,
 "nbformat_minor": 1
}
