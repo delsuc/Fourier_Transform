{
 "cells": [
  {
   "cell_type": "markdown",
   "metadata": {},
   "source": [
    "### Fourier transform for Mass Spectrometry course\n",
    "*Marc-André Delsuc - Joensuu August 2018*\n",
    "\n",
    "\n",
    "---\n",
    "# Definitions, basic properties"
   ]
  },
  {
   "cell_type": "markdown",
   "metadata": {},
   "source": [
    "---\n",
    "\n",
    "# Time / Frequency\n",
    "\n",
    "One example of the relation between time and frequencies - as observed in nature\n",
    "\n",
    "![time vs frequency](files/cochlea.png)\n",
    "\n",
    "- The pressure wave (top) is a function of time.\n",
    "- It enters the ear and makes the ear-drum vibrate with the same pattern\n",
    "- this creates a standing wave in the cochlea, this little organ in the inner ear looking like a snail.\n",
    "- pressure nodes are located along the cochlea spiral, with their position depending on the frequency \n",
    "    - $\\Rightarrow$ a mechanical Fourier transform !\n",
    "- hair cells along the cochlea detect these nodes, and transmit the frequency information to the brain which recognizes the frequency patterns which characterize sound formants (the phonetic primitives), and understand the word.\n",
    "\n",
    "The phonetic pattern is somehow the time-dependent **Fourier transform** of the inital pressure wave.\n",
    "\n",
    "They both carry somehow the same information, but in a very different way."
   ]
  },
  {
   "cell_type": "markdown",
   "metadata": {},
   "source": [
    "---\n",
    "# Fourier Transform Definition\n",
    "\n",
    "Fourier Transform is formally defined on continuous functions:\n",
    "\n",
    "for a function $f$ defined from $\\mathbb{R}$ to $\\mathbb{R}$ (or more precisely from $\\mathbb{R}$ to $\\mathbb{C}$), the **Fourier transform** of $f$ is another function $F$ (from $\\mathbb{R}$ to $\\mathbb{C}$) defined as:\n",
    "$$\n",
    "F(X) = \\int_{-\\infty}^{+\\infty} f(x) e^{-2i \\pi x X} dx\n",
    "$$\n",
    "\n",
    "$f(x)$ id Fourier transformed into $F(X)$\n",
    "\n",
    "$x$ and $X$ represent two different quantities.\n",
    "\n",
    "There are called reciproqual quantitites, and can be found in many domains\n",
    "\n",
    "|$x$   |$X$   |\n",
    "| ----- | ----- |\n",
    "| $t$ : time (sec) | $\\omega$ : frequency (Hz) |\n",
    "| $x$ : space (Å) | $k$ : spacial frequency (Å$^{-1}$) |\n",
    "| $\\lambda$ : wavelength ($cm$) | $k$ : spacial frequency ($cm^{-1}$) |\n",
    "| etc... | |\n",
    "\n",
    "## a brief reminder on complex numbers.\n",
    "*complex numbers are central to Fourier analysis, and their understanding is needed to fully comprehend the beauty of Fourier analysis*\n",
    "\n",
    "**Real** numbers are *regular* numbers, going from $-\\infty$ to $+\\infty$ through every number you might want to use. They are said to belong to $\\mathbb{R}$, the set of all real numbers, $\\mathbb{R}$ can be seen as a line, going from $-\\infty$ to $+\\infty$.\n",
    "\n",
    "If Reals are on a line, **Complex** numbers are on a plane. \n",
    "As any plane, the coordinates are defined on two axes, the horizontal axis is the $\\mathbb{R}$ line, the vertical one is the *Imaginary* axis, also holding real numbers, and labeled with $i$.\n",
    "This plane is called $\\mathbb{C}$ the complex plane.\n",
    "\n",
    "\n",
    "A complex number $z$ (a point in this plane) is thus described with two numbers, $a$ and $b$: $$z = a +ib$$\n",
    "$a$ is the real part, and $b$ the imaginary part.\n",
    "\n",
    "The position of the complex point $z$ can also be described by its *module* (the distance to the center)\n",
    "$$ |z| = \\sqrt{a^2 + b^2} $$\n",
    "and the angle with the horizontal axis, called the *argument*, usually noted with a greek letter:\n",
    "$$ arg(z) = \\arctan \\left(\\frac b a \\right) = \\theta$$\n",
    "It is defined only between $[0 .. 2\\pi]$ as any other angle.\n",
    "\n",
    "A complex number is fully determined by $a$ and $b$, as well as by its modulus and argument.\n",
    "This is noted using the *Euler* notation:\n",
    "$$ z = a+ib \\\\\n",
    "z = |z|e^{i \\arg(z)} = |z|e^{i \\theta} $$\n",
    "\n",
    "Complex numbers can be added and multiplied, they form an *algebra*.\n",
    "You have a more detailed (in interactive) presentation in [the complex_reminder](complex_reminder.ipynb) file.\n",
    "\n",
    "*see also: [Wikipedia:Complex_plane](https://en.wikipedia.org/wiki/Complex_plane) *\n",
    "\n",
    "\n",
    "## in the computer\n",
    "Fourier transform (or **FT**) is defined as a transformation of *continuous functions* $f$ from $\\mathbb{R}$ to $\\mathbb{C}$), they have to be integrable over $]-\\infty ... \\infty[$, and can be extended to the limit to *distributions* which somehow drops this later condition.\n",
    "\n",
    "\n",
    "What we're doing in this course is performed on a computer, and computers cannot deal with *continuous functions* they can only handle *series* of numbers.\n",
    "In consequence, the Fourier transform implememted in the computer is very different, it is actually another transform, called digital Fourier transform (or **DFT**), perfectly defined in mathematical terms, but very different in its form, that applies to finite series of values $y_k$.\n",
    "\n",
    "DFT does not deal with continuous functions, but rather with series $x_n$ and $X_k$, instead of $f$ and $F$.\n",
    "The DFT is defined as:\n",
    "$$\n",
    "X_k = \\sum_{n=0}^{N-1} e^{-2i \\pi \\frac{kn}{N}}x_n\n",
    "$$\n",
    "(if you have read [the complex_reminder](complex_reminder.ipynb) you recognize $e^{-2i \\pi \\frac{kn}{N}}$ as the $N$ $n^{th}$ roots of 1 here.)\n",
    "\n",
    "In the implementation of DFT in the computer, where we are going to use a *vector* of values `x[k]` as a representation of the series $x_k$.\n",
    "\n",
    "In the computer, DFT transforms thus a vector into another vector, as it is a linear operation, it can be represented by a (usually square) matrix, and would take a burden proportional to $N^2$ to compute for a vector of length $N$.\n",
    "Thanks to Cooley & Tuckey(1) there is an very efficient algorithm that does it in $N \\log_2(N)$ operations provided $N$ is a power of two ($N=2^k$), and which is called Fast Fourier transform (or **FFT**).\n",
    "FFT and DFT are strictly equivalent, as there are now effecient implementations that work well for nearly all $N$ values, however FFT is **much faster** than the regular matrix operation.\n",
    "\n",
    "DFT and FT share so many properties in common that they will be considered as one same thing in the course*\n",
    "\n",
    "1) Cooley, J., & Tukey, J. (1965). An algorithm for the machine calculation of complex Fourier series. *Mathematics of Computation*, **19** (90), 297–301.\n",
    "\n",
    "*end of remark)*"
   ]
  },
  {
   "cell_type": "markdown",
   "metadata": {},
   "source": [
    "# Fourier transform Properties\n",
    "- FT is linear\n",
    "    - $FT( f + \\lambda g) = FT(f) + \\lambda FT(g)$\n",
    "- FT is inversible\n",
    "    - $FT(f) = F \\quad FT^{-1}(F) = f$\n",
    "    - $FT^{-1} = FT^3 \\quad FT^4 = Id$\n",
    "- has symmetry properties\n",
    "    - even function $\\xrightarrow{FT}$ real function\n",
    "    - real function $\\xrightarrow{FT}$ even function\n",
    "    - odd function $\\xrightarrow{FT}$ imaginary function\n",
    "    - imaginary function $\\xrightarrow{FT}$ odd function\n",
    "    - causal function $\\xrightarrow{FT}$ Bayard-Bode conditions\n",
    "        - causal is such as $f(t) = 0$ if $t \\leq 0$\n",
    "        - real $R$ and imaginary $I$ parts and Hilbert transform of each other\n",
    "        $$ I(X) = \\int_{-\\infty}^{+\\infty} \\frac {R(X')}{X-X'} dX $$\n",
    "- conserves the energy (with $F = FT(f))$:\n",
    "   $$ \\int_{-\\infty}^{+\\infty} |f(x)|^2 dt = \\int_{-\\infty}^{+\\infty} |F(X)|^2 dX $$\n",
    "- conserves the area:\n",
    "    $$ F(0) =  \\int_{-\\infty}^{+\\infty} f(x) dx $$\n",
    "    $$ f(0) =  \\int_{-\\infty}^{+\\infty} F(X) dX $$\n",
    "    "
   ]
  },
  {
   "cell_type": "markdown",
   "metadata": {},
   "source": [
    "# small simulation, to show the efficiency of the FFT algorithm\n",
    "Comparing a regular matrix approach ( **FT** ) to the fast algorithm ( **FFT** )"
   ]
  },
  {
   "cell_type": "code",
   "execution_count": 1,
   "metadata": {},
   "outputs": [
    {
     "name": "stdout",
     "output_type": "stream",
     "text": [
      "Populating the interactive namespace from numpy and matplotlib\n"
     ]
    },
    {
     "data": {
      "image/png": "[encoded data removed]",
      "text/plain": [
       "<Figure size 432x288 with 1 Axes>"
      ]
     },
     "metadata": {},
     "output_type": "display_data"
    }
   ],
   "source": [
    "%pylab inline\n",
    "P = np.arange(1,20)               # power of 2 \n",
    "N = 1024*(2**P)                 # size of vectors, starting at 1k points\n",
    "base = 1e-6/(N[0]**2)           # assume 1µsec processing for 1k vector ( my laptop )\n",
    "plt.loglog(N, base*(N**2), label='DFT')          # draw both\n",
    "plt.loglog(N, 2*1024*base*N*P, label='FFT')\n",
    "# some annotations\n",
    "plt.title('processing time simulation'); plt.xlabel('Size of vector'); plt.legend(loc=4)\n",
    "plt.plot(N, [1E-3]*19, '--k'); plt.text(2*1024, 2E-3, '1 msec')\n",
    "plt.plot(N, [1]*19, '--k');    plt.text(2*1024, 2, '1 sec')\n",
    "plt.plot(N, [60]*19, '--k');   plt.text(2*1024, 120, '1 min')\n",
    "plt.plot(N, [3600]*19, '--k'); plt.text(2*1024, 2*3600, '1 hour');"
   ]
  },
  {
   "cell_type": "code",
   "execution_count": null,
   "metadata": {},
   "outputs": [],
   "source": []
  }
 ],
 "metadata": {
  "anaconda-cloud": {},
  "kernelspec": {
   "display_name": "Python 3",
   "language": "python",
   "name": "python3"
  },
  "language_info": {
   "codemirror_mode": {
    "name": "ipython",
    "version": 3
   },
   "file_extension": ".py",
   "mimetype": "text/x-python",
   "name": "python",
   "nbconvert_exporter": "python",
   "pygments_lexer": "ipython3",
   "version": "3.6.8"
  }
 },
 "nbformat": 4,
 "nbformat_minor": 2
}
