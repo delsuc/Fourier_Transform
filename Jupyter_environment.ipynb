{
 "cells": [
  {
   "cell_type": "markdown",
   "metadata": {},
   "source": [
    "# Discovering the environment\n",
    "\n",
    "The partical lab is based on the following tools :\n",
    " - **python** : a general purpose language\n",
    "   - modern language / very clean / not limited\n",
    "   - gentle learning curve - easy for beginners\n",
    " - python **standard library**\n",
    "   - HUGE\n",
    " - **jupyter notebook** an interactive layer over the python language\n",
    "   - a nice GUI of this stuff, also includes **R** and other environments\n",
    "   - many added convenient utilities added\n",
    "   - check the `%magic` commands\n",
    " - **numpy** a library making numeric vectors first class python objects\n",
    " - **scipy** a library holding *most* standards mathematical and statistical methods\n",
    "   - other library available.\n",
    " - **matplotlib** a library for scientific plots\n",
    "\n",
    "there are also libraries that we will not use, but can be very usefull for data-scientists:\n",
    "   - **pandas** is a very comprehensie data-analysis environment for python - *similar to R*\n",
    "   - **SymPy** is a symbolic environment *similar to Mapple*\n",
    "   - **scikit-learn** a machine-earning envirnment for python\n",
    "\n",
    "---\n",
    "\n",
    "### getting documentation\n",
    "This is a very important part - you'll find yourself spending more time reading doc than writting code !\n",
    "\n",
    "Do not hesitate to go through the different help systems - available from here,\n",
    "( *look at the Help menu of this page, you will recognize the list * )\n",
    "\n"
   ]
  },
  {
   "cell_type": "markdown",
   "metadata": {},
   "source": [
    "## Notebook\n",
    "it is organized in cells, each cell can either contain formatted text ( *this cell!* ), or a python program.\n",
    "\n",
    "When executed, the result is displayed below the program cell"
   ]
  },
  {
   "cell_type": "markdown",
   "metadata": {},
   "source": [
    "### command\n",
    "- shell type"
   ]
  },
  {
   "cell_type": "code",
   "execution_count": 1,
   "metadata": {
    "collapsed": false
   },
   "outputs": [
    {
     "data": {
      "text/plain": [
       "u'/Users/mad/Documents/ mad/cours/FT/Fourier_Transform'"
      ]
     },
     "execution_count": 1,
     "metadata": {},
     "output_type": "execute_result"
    }
   ],
   "source": [
    "pwd"
   ]
  },
  {
   "cell_type": "markdown",
   "metadata": {},
   "source": [
    "there is a slight difficult with python version 2 ane 3 co-exist.\n",
    "In practice, there is very little differences, unless you dig deep into the environment.\n",
    "At our level, the following command insures that both versions will behave in an equivalent manner."
   ]
  },
  {
   "cell_type": "code",
   "execution_count": 1,
   "metadata": {
    "collapsed": true
   },
   "outputs": [],
   "source": [
    "from __future__ import print_function, division    # this insures python 2 / python 3 compatibility"
   ]
  },
  {
   "cell_type": "markdown",
   "metadata": {},
   "source": [
    "- python command"
   ]
  },
  {
   "cell_type": "code",
   "execution_count": 2,
   "metadata": {
    "collapsed": false
   },
   "outputs": [
    {
     "name": "stdout",
     "output_type": "stream",
     "text": [
      "this course will last 1.5 hours\n"
     ]
    }
   ],
   "source": [
    "print( 'this course will last', 1 + 0.5, 'hours')"
   ]
  },
  {
   "cell_type": "markdown",
   "metadata": {},
   "source": [
    "- python programs"
   ]
  },
  {
   "cell_type": "code",
   "execution_count": 3,
   "metadata": {
    "collapsed": false
   },
   "outputs": [
    {
     "name": "stdout",
     "output_type": "stream",
     "text": [
      "1 : 1\n",
      "2 : 2\n",
      "3 : 3\n",
      "4 : 5\n",
      "5 : 8\n",
      "6 : 13\n",
      "7 : 21\n",
      "8 : 34\n",
      "9 : 55\n",
      "10 : 89\n"
     ]
    }
   ],
   "source": [
    "def fibonacci(n):\n",
    "    \"the simplest (and inefficient) definition of the fibonacci series\"\n",
    "    if n == 0 or n == 1:\n",
    "        f = 1\n",
    "    else:\n",
    "        f = fibonacci(n-1) + fibonacci(n-2)\n",
    "    return f\n",
    "\n",
    "for i in range(10):\n",
    "    print (i+1, ':', fibonacci(i+1))"
   ]
  },
  {
   "cell_type": "markdown",
   "metadata": {},
   "source": [
    "---\n",
    "## the python language\n",
    "python is a simple program, one of its strength lies in all the libraries available - in particular scientific ones (see above)\n",
    "\n",
    "Some are directly a part of the standard language (web interface, cryptogrphy, data-base, etc.)\n",
    "Others are developped independently, with the standard scientific stack : **numpy, scipy, sympy, matplotlib, pandas** (look at the help menu) and others more specific to a particular domain."
   ]
  },
  {
   "cell_type": "code",
   "execution_count": 4,
   "metadata": {
    "collapsed": true
   },
   "outputs": [],
   "source": [
    "# numpy provides a fast computation of large numerical arrays\n",
    "import numpy as np     # (here we just give numpy the (standard) nick name np for easing the source code)\n",
    "\n",
    "# matplotlib is the graphic library\n",
    "# matplotlib.pylab is an easy to use utility, a bit reminiscent to matlab graphics\n",
    "import matplotlib as mpl\n",
    "import matplotlib.pylab as plt\n",
    "\n",
    "# %matplotlib is a \"magic\" command to insert directly the graphics in the web page\n",
    "%matplotlib inline"
   ]
  },
  {
   "cell_type": "markdown",
   "metadata": {},
   "source": [
    "with these tools we can easily build and display complex functions"
   ]
  },
  {
   "cell_type": "code",
   "execution_count": 5,
   "metadata": {
    "collapsed": false
   },
   "outputs": [
    {
     "name": "stdout",
     "output_type": "stream",
     "text": [
      "length of vectors, x: 1000 y: 1000\n",
      "433th value: 4.32432432432 -0.378397687089\n"
     ]
    }
   ],
   "source": [
    "x = np.linspace(0,10,1000)    # 1000 points equi distant from 0.0 to 10.0\n",
    "y = np.cos(x)                 # takes the cos() values of all points in x\n",
    "print('length of vectors, x:',len(x), 'y:',len(y))\n",
    "print('433th value:', x[432], y[432])    # !!! array indices are from 0 to 999 !!"
   ]
  },
  {
   "cell_type": "code",
   "execution_count": 6,
   "metadata": {
    "collapsed": false
   },
   "outputs": [
    {
     "data": {
      "text/plain": [
       "[<matplotlib.lines.Line2D at 0x109dfbf90>]"
      ]
     },
     "execution_count": 6,
     "metadata": {},
     "output_type": "execute_result"
    },
    {
     "data": {
      "image/png": "[encoded data removed]",
      "text/plain": [
       "<matplotlib.figure.Figure at 0x109dfbf50>"
      ]
     },
     "metadata": {},
     "output_type": "display_data"
    }
   ],
   "source": [
    "# and plot it - like in Excel !\n",
    "plt.plot(x,y)\n",
    "plt.plot(x[432],y[432], 'ro')   # r is for red   o is for round points"
   ]
  }
 ],
 "metadata": {
  "anaconda-cloud": {},
  "kernelspec": {
   "display_name": "Python 2",
   "language": "python",
   "name": "python2"
  },
  "language_info": {
   "codemirror_mode": {
    "name": "ipython",
    "version": 2
   },
   "file_extension": ".py",
   "mimetype": "text/x-python",
   "name": "python",
   "nbconvert_exporter": "python",
   "pygments_lexer": "ipython2",
   "version": "2.7.12"
  }
 },
 "nbformat": 4,
 "nbformat_minor": 2
}
