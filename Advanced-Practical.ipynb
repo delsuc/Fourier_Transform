{
 "cells": [
  {
   "cell_type": "markdown",
   "metadata": {
    "slideshow": {
     "slide_type": "slide"
    }
   },
   "source": [
    "# SPIKE\n",
    "## presentation\n",
    "### *SPIKE* a collaborative development for a FT-spectroscopy processing program.\n",
    "- FT: NMR FTICR-MS Orbitrap-MS\n",
    "- collaborative effort\n",
    "    - open source\n",
    "    - CASC4DE is part of the effort\n",
    "- many high end features required for FTICR - in particular 2D-FTICR\n",
    "    - denoising\n",
    "    - hierarchical data-sets, internally compressed\n",
    "    - fast processing, using multiprocessor set-up (either desktop or mainframe)\n",
    "    - GPU enhanced computation\n",
    "\n",
    "### more a \"library\" than a interactive program\n",
    "- natural interface is python, GUI is jupyter\n",
    "- mostly developper documentation, still few examples but we're working on it\n",
    "\n",
    "## installation\n",
    "- pip install spike-py\n",
    "- https://bitbucket.org/delsuc/spike\n",
    "\n",
    "## Documentation\n",
    "is a *work in progress*  - many possible progresses indeed !\n",
    "\n",
    "try: [software.casc4de.eu/spike/spikedoc](http://software.casc4de.eu/spike/spikedoc/index.html)\n",
    "\n",
    "## Organisation"
   ]
  },
  {
   "cell_type": "code",
   "execution_count": 33,
   "metadata": {},
   "outputs": [
    {
     "name": "stdout",
     "output_type": "stream",
     "text": [
      "\u001b[34mAlgo\u001b[m\u001b[m/               \u001b[34mMiscellaneous\u001b[m\u001b[m/      __init__.py         \u001b[34mv1\u001b[m\u001b[m/\r\n",
      "\u001b[34mDisplay\u001b[m\u001b[m/            NPKConfigParser.py  \u001b[34m__pycache__\u001b[m\u001b[m/        version.py\r\n",
      "FTICR.py            NPKData.py          dev_setup.py        version_rev.py\r\n",
      "FTMS.py             NPKError.py         \u001b[34mplugins\u001b[m\u001b[m/\r\n",
      "\u001b[34mFile\u001b[m\u001b[m/               Orbitrap.py         processing.py\r\n",
      "\u001b[34mInteractive\u001b[m\u001b[m/        Tests.py            \u001b[34mutil\u001b[m\u001b[m/\r\n"
     ]
    }
   ],
   "source": [
    "ls /Users/mad/spike/spike"
   ]
  },
  {
   "cell_type": "markdown",
   "metadata": {},
   "source": [
    "main files:\n",
    "\n",
    "- NPKData.py : where the `NPKData` object is defined (see below)\n",
    "- FTMS.py, Orbitrap.py , FTICR.py : files defining MS spectrometry\n",
    "- Files : file formats and importer\n",
    "- plugins : use it to write your own\n",
    "- Interactive : set of jupyter interactive tools\n",
    "- Algo : main mathematial algorithm\n",
    "- processing.py : for the processing of 2D FTICR data-sets\n"
   ]
  },
  {
   "cell_type": "markdown",
   "metadata": {},
   "source": [
    "# Running the program\n",
    "\n",
    "simply `import spike`\n",
    "\n",
    "`%matplotlib notebook` allows a very convenient graphic environment"
   ]
  },
  {
   "cell_type": "code",
   "execution_count": 1,
   "metadata": {
    "slideshow": {
     "slide_type": "slide"
    }
   },
   "outputs": [
    {
     "name": "stdout",
     "output_type": "stream",
     "text": [
      "\n",
      "    ========================\n",
      "          SPIKE\n",
      "    ========================\n",
      "    Version     : 0.99.6\n",
      "    Date        : 12-04-2019\n",
      "    Revision Id : 405\n",
      "    ========================\n",
      "*** Importing  << zoom3D >> Failed ***\n",
      "plugins loaded:\n",
      "Bruker_NMR_FT,  Bucketing,  FTMS_calib,  Fitter,  Linear_prediction,  PALMA,  Peaks,  apmin,  bcorr,  bokeh_display,  fastclean,  gaussenh,  pg_sane,  rem_ridge,  sane,  sg,  test,  urQRd,  wavelet, \n",
      "\n",
      "spike.plugins.report() for a short description of each plugins\n",
      "spike.plugins.report('module_name') for complete documentation on one plugin\n"
     ]
    }
   ],
   "source": [
    "%matplotlib inline\n",
    "import spike"
   ]
  },
  {
   "cell_type": "code",
   "execution_count": 2,
   "metadata": {
    "slideshow": {
     "slide_type": "slide"
    }
   },
   "outputs": [
    {
     "name": "stdout",
     "output_type": "stream",
     "text": [
      "Bruker_NMR_FT : This plugin implement the set of Fourier Transform used for NMR\n",
      "    implements: ft_sim(),  ft_seq(),  ft_tppi(),  ft_sh(),  ft_sh_tppi(),  ft_phase_modu(),  ft_n_p(),  bruker_corr(),  bk_corr(),  bruker_proc_phase(),  bk_xf2p(),  bk_pk(),  conv_n_p(),  bk_wdw(),  bk_ftF2(),  bk_ftF1(),  bk_xf2(),  bk_xf1(),  bk_xfb(), \n",
      "Bucketing : A set of tools for computing bucketing for 1D and 2D NMR spectra\n",
      "    implements: bucket1d(),  bucket2d(), \n",
      "FTMS_calib : A utility for calibration of MS experiments\n",
      "    implements: set_calib(),  calib(),  display_calib(), \n",
      "Fitter : set of function for Peak fitter\n",
      "    implements: simulate(),  fit(),  display_fit(), \n",
      "Linear_prediction : plugin for the Linear Prediction algos into NPKDATA\n",
      "    implements: lpext(), \n",
      "PALMA : complete DOSY processing, using the PALMA algorithm\n",
      "    implements: palma(),  do_palma(),  prepare_palma(),  calibdosy(), \n",
      "Peaks : set of function for Peak detections and display - 1D and 2D\n",
      "    implements: pp(),  peakpick(),  centroid(),  report_peaks(),  display_peaks(),  peaks2d(), \n",
      "apmin : Autmomatic phase correction for 1D NMR spectra\n",
      "    implements: apmin(), \n",
      "bcorr : set of function for the baseline correction\n",
      "    implements: bcorr_lin(),  bcorr_spline(),  bcorr_auto(),  bcorr(), \n",
      "bokeh_display : \n",
      "    implements: bokeh(), \n",
      "fastclean : A utility to set to zero all points below a ratio\n",
      "    implements: fastclean(), \n",
      "gaussenh : Gaussian enhancement apodisation \n",
      "    implements: gaussenh(), \n",
      "pg_sane : plugin for PG_Sane algorithm,  used for NUS processing\n",
      "    implements: pg_sane(), \n",
      "rem_ridge : removes ridges in 2D\n",
      "    implements: rem_ridge(), \n",
      "sane : plugin for Sane denoising\n",
      "    implements: sane(), \n",
      "sg : set of function Savitsky-Golay smoothing\n",
      "    implements: sg(),  sg2D(), \n",
      "test : Test procedure for plugins\n",
      "    implements: fake(), \n",
      "urQRd : plugin for the urQRd denoising method\n",
      "    implements: urqrd(), \n",
      "wavelet : A plugin which install wavelet denoising\n",
      "    implements: wavelet(), \n",
      "spike.plugins.report('module_name') for complete documentation on one plugin\n"
     ]
    }
   ],
   "source": [
    "spike.plugins.report()"
   ]
  },
  {
   "cell_type": "markdown",
   "metadata": {
    "slideshow": {
     "slide_type": "slide"
    }
   },
   "source": [
    "# organisation\n",
    "every thing is organized around the `NPKData` object\n",
    "\n",
    "It contains\n",
    "- binary\n",
    "- 1 (or more) axis\n",
    "- parameters\n",
    "- peaks\n",
    "\n",
    "actually `import spike` does not do much, it simply starts the environment, you need to import selectively the needed tools:"
   ]
  },
  {
   "cell_type": "code",
   "execution_count": 3,
   "metadata": {},
   "outputs": [],
   "source": [
    "from spike.NPKData import NPKData"
   ]
  },
  {
   "cell_type": "markdown",
   "metadata": {},
   "source": [
    "## Importers\n",
    "importers allow to directly create a NPKData from a manufacturer file"
   ]
  },
  {
   "cell_type": "code",
   "execution_count": 4,
   "metadata": {},
   "outputs": [],
   "source": [
    "from spike.File import Solarix\n",
    "from spike.File import Apex"
   ]
  },
  {
   "cell_type": "code",
   "execution_count": 5,
   "metadata": {
    "slideshow": {
     "slide_type": "slide"
    }
   },
   "outputs": [
    {
     "name": "stdout",
     "output_type": "stream",
     "text": [
      "\u001b[34m080617-insulin_2M_IRMPD_MSMS_000001.d\u001b[m\u001b[m/ \u001b[34mESI_pos_Ubiquitin_000006.d\u001b[m\u001b[m/\r\n",
      "\u001b[34m080617-insulin_2M_MS_000001.d\u001b[m\u001b[m/         README.txt\r\n"
     ]
    }
   ],
   "source": [
    "ls files/FTICR-Files/"
   ]
  },
  {
   "cell_type": "markdown",
   "metadata": {},
   "source": [
    "we can directly import the Bruker transient"
   ]
  },
  {
   "cell_type": "code",
   "execution_count": 6,
   "metadata": {},
   "outputs": [],
   "source": [
    "d = Apex.Import_1D('files/FTICR-Files/ESI_pos_Ubiquitin_000006.d/')"
   ]
  },
  {
   "cell_type": "markdown",
   "metadata": {},
   "source": [
    "`d` is a `NPKData` object - it has *many* methods attached:"
   ]
  },
  {
   "cell_type": "code",
   "execution_count": 7,
   "metadata": {},
   "outputs": [
    {
     "data": {
      "text/plain": [
       "['__add__',\n",
       " '__class__',\n",
       " '__delattr__',\n",
       " '__dict__',\n",
       " '__dir__',\n",
       " '__doc__',\n",
       " '__eq__',\n",
       " '__format__',\n",
       " '__ge__',\n",
       " '__getattribute__',\n",
       " '__getitem__',\n",
       " '__gt__',\n",
       " '__hash__',\n",
       " '__iadd__',\n",
       " '__imul__',\n",
       " '__init__',\n",
       " '__init_subclass__',\n",
       " '__isub__',\n",
       " '__le__',\n",
       " '__lt__',\n",
       " '__module__',\n",
       " '__mul__',\n",
       " '__ne__',\n",
       " '__neg__',\n",
       " '__new__',\n",
       " '__pos__',\n",
       " '__radd__',\n",
       " '__reduce__',\n",
       " '__reduce_ex__',\n",
       " '__repr__',\n",
       " '__rmul__',\n",
       " '__setattr__',\n",
       " '__setitem__',\n",
       " '__sizeof__',\n",
       " '__str__',\n",
       " '__sub__',\n",
       " '__subclasshook__',\n",
       " '__weakref__',\n",
       " '_absmax',\n",
       " '_chsize1d',\n",
       " '_chsize2d',\n",
       " '_chsize3d',\n",
       " '_extract1d',\n",
       " '_extract2d',\n",
       " '_extract3d',\n",
       " '_fft_nD',\n",
       " '_ghm',\n",
       " '_grfreq',\n",
       " '_grmass',\n",
       " '_gspecwidth',\n",
       " '_gunits',\n",
       " '_phase_old',\n",
       " '_report',\n",
       " '_shm',\n",
       " '_srfreq',\n",
       " '_srmass',\n",
       " '_sspecwidth',\n",
       " '_sunits',\n",
       " 'abs',\n",
       " 'absmax',\n",
       " 'adapt_size',\n",
       " 'add',\n",
       " 'addbase',\n",
       " 'addfreq',\n",
       " 'addnoise',\n",
       " 'apmin',\n",
       " 'apod_apply',\n",
       " 'apod_em',\n",
       " 'apod_gm',\n",
       " 'apod_sin',\n",
       " 'apod_sq_sin',\n",
       " 'apod_tm',\n",
       " 'apply_process',\n",
       " 'axes',\n",
       " 'axis1',\n",
       " 'bcorr',\n",
       " 'bcorr_auto',\n",
       " 'bcorr_lin',\n",
       " 'bcorr_spline',\n",
       " 'bk_corr',\n",
       " 'bk_ftF1',\n",
       " 'bk_ftF2',\n",
       " 'bk_pk',\n",
       " 'bk_wdw',\n",
       " 'bk_xf1',\n",
       " 'bk_xf2',\n",
       " 'bk_xf2p',\n",
       " 'bk_xfb',\n",
       " 'bokeh',\n",
       " 'bruker_corr',\n",
       " 'bruker_proc_phase',\n",
       " 'bucket1d',\n",
       " 'bucket2d',\n",
       " 'buffer',\n",
       " 'calib',\n",
       " 'calibdosy',\n",
       " 'center',\n",
       " 'centroid',\n",
       " 'check',\n",
       " 'check1D',\n",
       " 'check2D',\n",
       " 'check3D',\n",
       " 'check_zoom',\n",
       " 'checknD',\n",
       " 'chsize',\n",
       " 'col',\n",
       " 'conjg',\n",
       " 'conv_n_p',\n",
       " 'copy',\n",
       " 'cpxsize1',\n",
       " 'cpxsize2',\n",
       " 'cpxsize3',\n",
       " 'debug',\n",
       " 'diag',\n",
       " 'diag2D',\n",
       " 'diag3D',\n",
       " 'dim',\n",
       " 'display',\n",
       " 'display_calib',\n",
       " 'display_fit',\n",
       " 'display_peaks',\n",
       " 'do_palma',\n",
       " 'extract',\n",
       " 'f',\n",
       " 'f1demodu',\n",
       " 'fake',\n",
       " 'fastclean',\n",
       " 'fft',\n",
       " 'fftr',\n",
       " 'fill',\n",
       " 'fit',\n",
       " 'flip',\n",
       " 'flipphase',\n",
       " 'flop',\n",
       " 'frequency',\n",
       " 'ft_n_p',\n",
       " 'ft_phase_modu',\n",
       " 'ft_seq',\n",
       " 'ft_sh',\n",
       " 'ft_sh_tppi',\n",
       " 'ft_sim',\n",
       " 'ft_tppi',\n",
       " 'gaussenh',\n",
       " 'get_buffer',\n",
       " 'hamming',\n",
       " 'hanning',\n",
       " 'highmass',\n",
       " 'htoi',\n",
       " 'htop',\n",
       " 'ifft',\n",
       " 'ifftr',\n",
       " 'irfft',\n",
       " 'itoh',\n",
       " 'itop',\n",
       " 'itype',\n",
       " 'kaiser',\n",
       " 'level',\n",
       " 'load',\n",
       " 'load_sampling',\n",
       " 'load_txt',\n",
       " 'lpext',\n",
       " 'mean',\n",
       " 'median',\n",
       " 'minus',\n",
       " 'modulus',\n",
       " 'mult',\n",
       " 'mult_by_vector',\n",
       " 'name',\n",
       " 'noise',\n",
       " 'palma',\n",
       " 'params',\n",
       " 'peakpick',\n",
       " 'peaks2d',\n",
       " 'pg_sane',\n",
       " 'phase',\n",
       " 'plane',\n",
       " 'plus',\n",
       " 'pp',\n",
       " 'prepare_palma',\n",
       " 'proj',\n",
       " 'ptoh',\n",
       " 'ptoi',\n",
       " 'real',\n",
       " 'ref_freq',\n",
       " 'ref_mass',\n",
       " 'rem_ridge',\n",
       " 'report',\n",
       " 'report_peaks',\n",
       " 'reverse',\n",
       " 'revf',\n",
       " 'rfft',\n",
       " 'row',\n",
       " 'sane',\n",
       " 'save',\n",
       " 'save_csv',\n",
       " 'save_msh5',\n",
       " 'save_txt',\n",
       " 'set_buffer',\n",
       " 'set_calib',\n",
       " 'set_col',\n",
       " 'set_plane',\n",
       " 'set_row',\n",
       " 'set_unit',\n",
       " 'sg',\n",
       " 'sg2D',\n",
       " 'simulate',\n",
       " 'size1',\n",
       " 'size2',\n",
       " 'size3',\n",
       " 'specwidth',\n",
       " 'std',\n",
       " 'swap',\n",
       " 'test_axis',\n",
       " 'transpose',\n",
       " 'trimz',\n",
       " 'typestr',\n",
       " 'unit',\n",
       " 'unswap',\n",
       " 'urqrd',\n",
       " 'wavelet',\n",
       " 'xcol',\n",
       " 'xplane',\n",
       " 'xrow',\n",
       " 'zeroing',\n",
       " 'zf']"
      ]
     },
     "execution_count": 7,
     "metadata": {},
     "output_type": "execute_result"
    }
   ],
   "source": [
    "dir(d)"
   ]
  },
  {
   "cell_type": "markdown",
   "metadata": {},
   "source": [
    "many have documentation attached\n",
    "\n",
    "try"
   ]
  },
  {
   "cell_type": "code",
   "execution_count": 8,
   "metadata": {},
   "outputs": [],
   "source": [
    "d.apod_sin?"
   ]
  },
  {
   "cell_type": "markdown",
   "metadata": {},
   "source": [
    "or"
   ]
  },
  {
   "cell_type": "code",
   "execution_count": 9,
   "metadata": {},
   "outputs": [
    {
     "ename": "SyntaxError",
     "evalue": "invalid syntax (<ipython-input-9-2385a2b621bd>, line 1)",
     "output_type": "error",
     "traceback": [
      "\u001b[0;36m  File \u001b[0;32m\"<ipython-input-9-2385a2b621bd>\"\u001b[0;36m, line \u001b[0;32m1\u001b[0m\n\u001b[0;31m    d.apod_sin(->tab_key)\u001b[0m\n\u001b[0m                ^\u001b[0m\n\u001b[0;31mSyntaxError\u001b[0m\u001b[0;31m:\u001b[0m invalid syntax\n"
     ]
    }
   ],
   "source": [
    "d.apod_sin(->tab_key)"
   ]
  },
  {
   "cell_type": "markdown",
   "metadata": {},
   "source": [
    "many objects have a `report()` method attached"
   ]
  },
  {
   "cell_type": "code",
   "execution_count": 10,
   "metadata": {},
   "outputs": [
    {
     "data": {
      "text/plain": [
       "'1D data-set\\nAxis F1 :FT-ICR report axis at 625.000000 kHz,  4194304 real points,  from physical mz =  294.830   to m/z = 3000.000  R max (M=400) = 3091537\\ndata-set is real'"
      ]
     },
     "execution_count": 10,
     "metadata": {},
     "output_type": "execute_result"
    }
   ],
   "source": [
    "d.report()"
   ]
  },
  {
   "cell_type": "markdown",
   "metadata": {},
   "source": [
    "show by default within jupyter:"
   ]
  },
  {
   "cell_type": "code",
   "execution_count": 11,
   "metadata": {},
   "outputs": [
    {
     "data": {
      "text/plain": [
       "1D data-set\n",
       "Axis F1 :FT-ICR report axis at 625.000000 kHz,  4194304 real points,  from physical mz =  294.830   to m/z = 3000.000  R max (M=400) = 3091537\n",
       "data-set is real"
      ]
     },
     "execution_count": 11,
     "metadata": {},
     "output_type": "execute_result"
    }
   ],
   "source": [
    "d"
   ]
  },
  {
   "cell_type": "markdown",
   "metadata": {},
   "source": [
    "we can display it:"
   ]
  },
  {
   "cell_type": "code",
   "execution_count": 12,
   "metadata": {},
   "outputs": [
    {
     "data": {
      "text/plain": [
       "1D data-set\n",
       "Axis F1 :FT-ICR report axis at 625.000000 kHz,  4194304 real points,  from physical mz =  294.830   to m/z = 3000.000  R max (M=400) = 3091537\n",
       "data-set is real"
      ]
     },
     "execution_count": 12,
     "metadata": {},
     "output_type": "execute_result"
    },
    {
     "data": {
      "image/png": "[encoded data removed]",
      "text/plain": [
       "<Figure size 432x288 with 1 Axes>"
      ]
     },
     "metadata": {},
     "output_type": "display_data"
    }
   ],
   "source": [
    "d.display()"
   ]
  },
  {
   "cell_type": "markdown",
   "metadata": {},
   "source": [
    "we can process it - every processing command actually modifies the data"
   ]
  },
  {
   "cell_type": "code",
   "execution_count": null,
   "metadata": {},
   "outputs": [],
   "source": [
    "d.rfft()\n",
    "d.display()"
   ]
  },
  {
   "cell_type": "markdown",
   "metadata": {},
   "source": [
    "# chained operations\n",
    "all actions on `NPKData` can be chained, and all return a  `NPKData`\n",
    "\n",
    "so you can write:"
   ]
  },
  {
   "cell_type": "code",
   "execution_count": 13,
   "metadata": {},
   "outputs": [
    {
     "data": {
      "text/plain": [
       "1D data-set\n",
       "Axis F1 :FT-ICR report axis at 625.000000 kHz,  8388608 real points,  from physical mz =  294.830   to m/z = 3000.000  R max (M=400) = 6183075\n",
       "data-set is real"
      ]
     },
     "execution_count": 13,
     "metadata": {},
     "output_type": "execute_result"
    },
    {
     "data": {
      "image/png": "[encoded data removed]",
      "text/plain": [
       "<Figure size 432x288 with 1 Axes>"
      ]
     },
     "metadata": {},
     "output_type": "display_data"
    }
   ],
   "source": [
    "d = Apex.Import_1D('files/FTICR-Files/ESI_pos_Ubiquitin_000006.d/')  # import and create\n",
    "d.hamming()   # apodisation\n",
    "d.zf(4)       #\n",
    "d.rfft()      # Real Fourier Transform\n",
    "d.modulus()   # take the modulus\n",
    "d.display()   # and display"
   ]
  },
  {
   "cell_type": "markdown",
   "metadata": {},
   "source": [
    "or equivalently:"
   ]
  },
  {
   "cell_type": "code",
   "execution_count": 14,
   "metadata": {},
   "outputs": [
    {
     "data": {
      "image/png": "[encoded data removed]",
      "text/plain": [
       "<Figure size 432x288 with 1 Axes>"
      ]
     },
     "metadata": {},
     "output_type": "display_data"
    }
   ],
   "source": [
    "d = Apex.Import_1D('files/FTICR-Files/ESI_pos_Ubiquitin_000006.d/').kaiser(3).zf(4).rfft().modulus().display()"
   ]
  },
  {
   "cell_type": "markdown",
   "metadata": {},
   "source": [
    "here above, the data set is created and displayed"
   ]
  },
  {
   "cell_type": "markdown",
   "metadata": {},
   "source": [
    "# unit\n",
    "a data-set as a unit which is used for display and selecting zones"
   ]
  },
  {
   "cell_type": "code",
   "execution_count": 15,
   "metadata": {},
   "outputs": [
    {
     "data": {
      "text/plain": [
       "1D data-set\n",
       "Axis F1 :FT-ICR report axis at 625.000000 kHz,  8388608 real points,  from physical mz =  294.830   to m/z = 3000.000  R max (M=400) = 6183075\n",
       "data-set is real"
      ]
     },
     "execution_count": 15,
     "metadata": {},
     "output_type": "execute_result"
    },
    {
     "data": {
      "image/png": "[encoded data removed]",
      "text/plain": [
       "<Figure size 432x288 with 1 Axes>"
      ]
     },
     "metadata": {},
     "output_type": "display_data"
    }
   ],
   "source": [
    "d.set_unit('m/z').display()"
   ]
  },
  {
   "cell_type": "code",
   "execution_count": 16,
   "metadata": {},
   "outputs": [
    {
     "data": {
      "text/plain": [
       "1D data-set\n",
       "Axis F1 :FT-ICR report axis at 625.000000 kHz,  8388608 real points,  from physical mz =  294.830   to m/z = 3000.000  R max (M=400) = 6183075\n",
       "data-set is real"
      ]
     },
     "execution_count": 16,
     "metadata": {},
     "output_type": "execute_result"
    },
    {
     "data": {
      "image/png": "[encoded data removed]",
      "text/plain": [
       "<Figure size 432x288 with 1 Axes>"
      ]
     },
     "metadata": {},
     "output_type": "display_data"
    }
   ],
   "source": [
    "d.set_unit('Hz').display()"
   ]
  },
  {
   "cell_type": "markdown",
   "metadata": {},
   "source": [
    "# objects\n",
    "\n",
    "Spectral objects are organized around 3 main blocks\n",
    "\n",
    "- the `buffer` a numpy array that contains the data\n",
    "- the axis - here `axis1` (`axis1` and `axis2`in 2D) that contains all relevent information on the organisation of the binary data\n",
    "- the `params`: a dictionay that hold the information gathered on the experiment while importing - depends on the importer"
   ]
  },
  {
   "cell_type": "code",
   "execution_count": 17,
   "metadata": {},
   "outputs": [
    {
     "data": {
      "text/plain": [
       "array([594555.13458623, 967182.39771525, 381022.96160441, ...,\n",
       "       250568.84396881, 206916.97203318, 126478.0549788 ])"
      ]
     },
     "execution_count": 17,
     "metadata": {},
     "output_type": "execute_result"
    }
   ],
   "source": [
    "d.buffer"
   ]
  },
  {
   "cell_type": "code",
   "execution_count": 18,
   "metadata": {},
   "outputs": [
    {
     "data": {
      "text/plain": [
       "<spike.FTICR.FTICRAxis at 0x1c6cb0a630>"
      ]
     },
     "execution_count": 18,
     "metadata": {},
     "output_type": "execute_result"
    }
   ],
   "source": [
    "d.axis1"
   ]
  },
  {
   "cell_type": "code",
   "execution_count": 19,
   "metadata": {},
   "outputs": [
    {
     "data": {
      "text/plain": [
       "'FT-ICR report axis at 625.000000 kHz,  8388608 real points,  from physical mz =  294.830   to m/z = 3000.000  R max (M=400) = 6183075'"
      ]
     },
     "execution_count": 19,
     "metadata": {},
     "output_type": "execute_result"
    }
   ],
   "source": [
    "d.axis1.report()"
   ]
  },
  {
   "cell_type": "code",
   "execution_count": 20,
   "metadata": {},
   "outputs": [
    {
     "data": {
      "text/plain": [
       "{'AMS_ActiveExclusion': '0',\n",
       " 'AMS_BasePeak': '0',\n",
       " 'AMS_ChargeStateTolerance': '0.0',\n",
       " 'AMS_CollisionalActivationEnabled': '1',\n",
       " 'AMS_DynamicExclusion': '0',\n",
       " 'AMS_EXCL_Masses': '&lt;masslistarray&gt;&lt;masslist starttime=&quot;0.0&quot;&gt;&lt;/masslist&gt;&lt;/masslistarray&gt;',\n",
       " 'AMS_EnergyFile': '\\t\\t1: 0.027   17.044\\t\\t2: 0.0386  -3.5576\\t\\t3: 0.0291  -1.0453\\t\\t4: 0.0291  -1.0453\\t\\t5: 0.0291  -1.0453\\t\\t6: 0.0291  -1.0453\\t\\t',\n",
       " 'AMS_ExcludeAfter': '1',\n",
       " 'AMS_FixedCollisionVoltage': '-16.0',\n",
       " 'AMS_FixedCollisionVoltageEnabled': '1',\n",
       " 'AMS_FractionatedFIA': '0',\n",
       " 'AMS_FragmentationMode': '0',\n",
       " 'AMS_INCL_Masses': '&lt;masslistarray&gt;&lt;masslist starttime=&quot;0.0&quot;&gt;&lt;/masslist&gt;&lt;/masslistarray&gt;',\n",
       " 'AMS_IsolationEnabled': '0',\n",
       " 'AMS_MSMSBoostEnabled': '0',\n",
       " 'AMS_MSMSDuration': '4.0',\n",
       " 'AMS_MassAccuracy': '20.0',\n",
       " 'AMS_MaxNumParentIons': '1',\n",
       " 'AMS_MaxThreshold': '1.0E38',\n",
       " 'AMS_MinThreshold': '0.0',\n",
       " 'AMS_PreferMultiplyCharged': '1',\n",
       " 'AMS_Priority_Masses': '&lt;masslistarray&gt;&lt;masslist starttime=&quot;0.0&quot;&gt;&lt;/masslist&gt;&lt;/masslistarray&gt;',\n",
       " 'AMS_ReleaseAfter': '1.0',\n",
       " 'AMS_SourceQuench': '1',\n",
       " 'AMS_ThresholdSelectionMode': '0',\n",
       " 'AMS_UI_FragmentationType_Selection': '0',\n",
       " 'API_APCI_HVSW': '0',\n",
       " 'API_CapillaryEntrance': '4500.0',\n",
       " 'API_CoronadNeedle': '0.0',\n",
       " 'API_DivertVale_Position': '1',\n",
       " 'API_DivertVale_Type': '1',\n",
       " 'API_DryGasFlow': '4.0',\n",
       " 'API_DryGasSW': '1',\n",
       " 'API_DryGasTemp': '220.0',\n",
       " 'API_DryGasTempSW': '1',\n",
       " 'API_ESI_HVSW': '1',\n",
       " 'API_NebGasFlow': '1.2',\n",
       " 'API_NebGasTemp': '0.0',\n",
       " 'API_NebSW': '1',\n",
       " 'API_NebTempSW': '0',\n",
       " 'API_Polarity': '0',\n",
       " 'API_SourceType': '1',\n",
       " 'API_SprayShield': '-500.0',\n",
       " 'API_SyringeFlowRate': '120.0',\n",
       " 'API_SyringeRateUnit': '1',\n",
       " 'AQSmode': '0',\n",
       " 'AQ_mod': '0',\n",
       " 'AZURA_Enable': '0',\n",
       " 'Add_Lock_Mass': '0',\n",
       " 'Aperture_State': '0',\n",
       " 'AqDSize': '1048576',\n",
       " 'BC_mod': '1',\n",
       " 'BF1': '0.0',\n",
       " 'BYTORDA': '0',\n",
       " 'BYTORDP': '0',\n",
       " 'CC_EntranceBiasT': '0.0',\n",
       " 'CC_EntranceBiasX': '0.5',\n",
       " 'CC_EntranceLensT': '3.8',\n",
       " 'CC_EntranceLensX': '20.0',\n",
       " 'CC_ExitLensT': '15.0',\n",
       " 'CC_ExitLensX': '-20.0',\n",
       " 'CC_FocusLens': '-15.0',\n",
       " 'CC_GasBypass': '0',\n",
       " 'CC_GasFlow': '32.0',\n",
       " 'CC_GasFlushSW': '0',\n",
       " 'CC_GasFlushTime': '1.1',\n",
       " 'CC_GasSW': '1',\n",
       " 'CC_RFAmp': '1400.0',\n",
       " 'CC_RF_Freq': '1.0',\n",
       " 'CFDGTYP': '0',\n",
       " 'CFRGTYP': '7',\n",
       " 'CLDATE': 'Tue Jun 29 11:06:44 2010',\n",
       " 'CLPTS': '7',\n",
       " 'CLSTAT': '2',\n",
       " 'CLUPA_0': '25.0',\n",
       " 'CLUPA_1': '25.0',\n",
       " 'CLUPA_2': '25.0',\n",
       " 'CLUPA_3': '25.0',\n",
       " 'CNST_0': '1.0',\n",
       " 'CNST_1': '1.0',\n",
       " 'CNST_10': '1.0',\n",
       " 'CNST_11': '1.0',\n",
       " 'CNST_12': '1.0',\n",
       " 'CNST_13': '1.0',\n",
       " 'CNST_14': '1.0',\n",
       " 'CNST_15': '1.0',\n",
       " 'CNST_16': '1.0',\n",
       " 'CNST_17': '1.0',\n",
       " 'CNST_18': '1.0',\n",
       " 'CNST_19': '1.0',\n",
       " 'CNST_2': '1.0',\n",
       " 'CNST_20': '1.0',\n",
       " 'CNST_21': '1.0',\n",
       " 'CNST_22': '1.0',\n",
       " 'CNST_23': '1.0',\n",
       " 'CNST_24': '1.0',\n",
       " 'CNST_25': '1.0',\n",
       " 'CNST_26': '1.0',\n",
       " 'CNST_27': '1.0',\n",
       " 'CNST_28': '1.0',\n",
       " 'CNST_29': '1.0',\n",
       " 'CNST_3': '1.0',\n",
       " 'CNST_30': '1.0',\n",
       " 'CNST_31': '1.0',\n",
       " 'CNST_4': '1.0',\n",
       " 'CNST_5': '1.0',\n",
       " 'CNST_6': '1.0',\n",
       " 'CNST_7': '1.0',\n",
       " 'CNST_8': '1.0',\n",
       " 'CNST_9': '1.0',\n",
       " 'COROFFS': '0.0',\n",
       " 'C_MsmsE': '0.0',\n",
       " 'Calibration': 'ubiq12/714.726700/714.726713/714.726772/0.101220/343678,ubiq11/779.610300/779.610268/779.610267/0.041713/440147,ubiq10/857.470600/857.470619/857.470534/0.077533/425161,ubiq9/952.633200/952.633371/952.633160/0.042390/393951,ubiq8/1071.586400/1071.586753/1071.586353/0.044266/351134,ubiq7/1224.526300/1224.526991/1224.526294/0.005143/303320,null/null/null/null/null/null',\n",
       " 'Calmet': '4',\n",
       " 'CorrLst_0': '-1.0',\n",
       " 'CorrLst_1': '-1.0',\n",
       " 'CorrLst_10': '-1.0',\n",
       " 'CorrLst_11': '-1.0',\n",
       " 'CorrLst_12': '-1.0',\n",
       " 'CorrLst_13': '-1.0',\n",
       " 'CorrLst_14': '-1.0',\n",
       " 'CorrLst_15': '-1.0',\n",
       " 'CorrLst_2': '-1.0',\n",
       " 'CorrLst_3': '-1.0',\n",
       " 'CorrLst_4': '-1.0',\n",
       " 'CorrLst_5': '-1.0',\n",
       " 'CorrLst_6': '-1.0',\n",
       " 'CorrLst_7': '-1.0',\n",
       " 'CorrLst_8': '-1.0',\n",
       " 'CorrLst_9': '-1.0',\n",
       " 'CorrLst_MS3_0': '-1.0',\n",
       " 'CorrLst_MS3_1': '-1.0',\n",
       " 'CorrLst_MS3_10': '-1.0',\n",
       " 'CorrLst_MS3_11': '-1.0',\n",
       " 'CorrLst_MS3_12': '-1.0',\n",
       " 'CorrLst_MS3_13': '-1.0',\n",
       " 'CorrLst_MS3_14': '-1.0',\n",
       " 'CorrLst_MS3_15': '-1.0',\n",
       " 'CorrLst_MS3_2': '-1.0',\n",
       " 'CorrLst_MS3_3': '-1.0',\n",
       " 'CorrLst_MS3_4': '-1.0',\n",
       " 'CorrLst_MS3_5': '-1.0',\n",
       " 'CorrLst_MS3_6': '-1.0',\n",
       " 'CorrLst_MS3_7': '-1.0',\n",
       " 'CorrLst_MS3_8': '-1.0',\n",
       " 'CorrLst_MS3_9': '-1.0',\n",
       " 'CorrLst_MS4_0': '-1.0',\n",
       " 'CorrLst_MS4_1': '-1.0',\n",
       " 'CorrLst_MS4_10': '-1.0',\n",
       " 'CorrLst_MS4_11': '-1.0',\n",
       " 'CorrLst_MS4_12': '-1.0',\n",
       " 'CorrLst_MS4_13': '-1.0',\n",
       " 'CorrLst_MS4_14': '-1.0',\n",
       " 'CorrLst_MS4_15': '-1.0',\n",
       " 'CorrLst_MS4_2': '-1.0',\n",
       " 'CorrLst_MS4_3': '-1.0',\n",
       " 'CorrLst_MS4_4': '-1.0',\n",
       " 'CorrLst_MS4_5': '-1.0',\n",
       " 'CorrLst_MS4_6': '-1.0',\n",
       " 'CorrLst_MS4_7': '-1.0',\n",
       " 'CorrLst_MS4_8': '-1.0',\n",
       " 'CorrLst_MS4_9': '-1.0',\n",
       " 'DE': '3500.0',\n",
       " 'DECIM': '32',\n",
       " 'DEV2': '10.0',\n",
       " 'DIGMOD': '1',\n",
       " 'DIGTYP': '12',\n",
       " 'DM': '1',\n",
       " 'DR': '19',\n",
       " 'DRU_DataMode': '0',\n",
       " 'DS': '0',\n",
       " 'DSPFIRM': '3',\n",
       " 'DSPFVS': '0',\n",
       " 'DW': '0.1',\n",
       " 'D_0': '0.0010',\n",
       " 'D_1': '0.0050',\n",
       " 'D_10': '0.1',\n",
       " 'D_11': '0.01',\n",
       " 'D_12': '0.01',\n",
       " 'D_13': '0.0010',\n",
       " 'D_14': '0.01',\n",
       " 'D_15': '0.0010',\n",
       " 'D_16': '0.01',\n",
       " 'D_17': '0.01',\n",
       " 'D_18': '0.01',\n",
       " 'D_19': '0.02',\n",
       " 'D_2': '8.0000004E-4',\n",
       " 'D_20': '0.05',\n",
       " 'D_21': '0.01',\n",
       " 'D_22': '0.02',\n",
       " 'D_23': '0.05',\n",
       " 'D_24': '1.0E-7',\n",
       " 'D_25': '0.0050',\n",
       " 'D_26': '1.0E-7',\n",
       " 'D_27': '0.0010',\n",
       " 'D_28': '0.0050',\n",
       " 'D_29': '0.0010',\n",
       " 'D_3': '0.01',\n",
       " 'D_30': '0.0020',\n",
       " 'D_31': '0.0020',\n",
       " 'D_4': '0.01',\n",
       " 'D_5': '0.0010',\n",
       " 'D_6': '0.05',\n",
       " 'D_7': '1.0E-4',\n",
       " 'D_8': '0.01',\n",
       " 'D_9': '0.05',\n",
       " 'DataDep': '0',\n",
       " 'ECD': '0',\n",
       " 'ECDLens': '10.0',\n",
       " 'ECD_EC': '0.0',\n",
       " 'ECD_MS3': '0',\n",
       " 'ECD_MS4': '0',\n",
       " 'EM': '1',\n",
       " 'ETD_OnOffSW': '0',\n",
       " 'EV1': '-8.0',\n",
       " 'EV2': '-1.0',\n",
       " 'EXC_AMP': '100.0',\n",
       " 'EXC_CTL': '1',\n",
       " 'EXC_RAD': '100.0',\n",
       " 'EXC_hi': '3000.0',\n",
       " 'EXC_low': '294.82916',\n",
       " 'Experiment_Table_Index': '0',\n",
       " 'FQ1LIST': 'freqlist1',\n",
       " 'FQ2LIST': 'freqlist2',\n",
       " 'FQ3LIST': 'freqlist3',\n",
       " 'FQ4LIST': 'freqlist4',\n",
       " 'FQ5LIST': 'freqlist5',\n",
       " 'FQ6LIST': 'freqlist6',\n",
       " 'FQ7LIST': 'freqlist7',\n",
       " 'FQ8LIST': 'freqlist8',\n",
       " 'FR_low': '61417.34443538279',\n",
       " 'FW': '1.0E8',\n",
       " 'FidSum': '8192',\n",
       " 'GB': '0.7',\n",
       " 'HEC': '0.0',\n",
       " 'HES': '0.0',\n",
       " 'HexCenterFreq': '5000.0',\n",
       " 'Hy_path': 'no',\n",
       " 'ICC_LowerPeakSumLimit': '5.0E8',\n",
       " 'ICC_StartReactionLevel': '85.0',\n",
       " 'ICC_UpperPeakSumLimit': '5.0E9',\n",
       " 'IHEF': '0.0',\n",
       " 'IHEF_toggle': '0',\n",
       " 'IIE': '1.0',\n",
       " 'IM': '1',\n",
       " 'INP_0': '0.0',\n",
       " 'INP_1': '0.0',\n",
       " 'INP_10': '0.0',\n",
       " 'INP_11': '0.0',\n",
       " 'INP_12': '0.0',\n",
       " 'INP_13': '0.0',\n",
       " 'INP_14': '0.0',\n",
       " 'INP_15': '0.0',\n",
       " 'INP_16': '0.0',\n",
       " 'INP_17': '0.0',\n",
       " 'INP_18': '0.0',\n",
       " 'INP_19': '0.0',\n",
       " 'INP_2': '0.0',\n",
       " 'INP_20': '0.0',\n",
       " 'INP_21': '0.0',\n",
       " 'INP_22': '0.0',\n",
       " 'INP_23': '0.0',\n",
       " 'INP_24': '0.0',\n",
       " 'INP_25': '0.0',\n",
       " 'INP_26': '0.0',\n",
       " 'INP_27': '0.0',\n",
       " 'INP_28': '0.0',\n",
       " 'INP_29': '0.0',\n",
       " 'INP_3': '0.0',\n",
       " 'INP_30': '0.0',\n",
       " 'INP_31': '0.0',\n",
       " 'INP_4': '0.0',\n",
       " 'INP_5': '0.0',\n",
       " 'INP_6': '0.0',\n",
       " 'INP_7': '0.0',\n",
       " 'INP_8': '0.0',\n",
       " 'INP_9': '0.0',\n",
       " 'INSTRUM': 'NC',\n",
       " 'IN_0': '0.0010',\n",
       " 'IN_1': '0.0010',\n",
       " 'IN_10': '0.0010',\n",
       " 'IN_11': '0.0010',\n",
       " 'IN_12': '0.0010',\n",
       " 'IN_13': '0.0010',\n",
       " 'IN_14': '0.0010',\n",
       " 'IN_15': '0.0010',\n",
       " 'IN_16': '0.0010',\n",
       " 'IN_17': '0.0010',\n",
       " 'IN_18': '0.0010',\n",
       " 'IN_19': '0.0010',\n",
       " 'IN_2': '0.0010',\n",
       " 'IN_20': '0.0010',\n",
       " 'IN_21': '0.0010',\n",
       " 'IN_22': '0.0010',\n",
       " 'IN_23': '0.0010',\n",
       " 'IN_24': '0.0010',\n",
       " 'IN_25': '0.0010',\n",
       " 'IN_26': '0.0010',\n",
       " 'IN_27': '0.0010',\n",
       " 'IN_28': '0.0010',\n",
       " 'IN_29': '0.0010',\n",
       " 'IN_3': '0.0010',\n",
       " 'IN_30': '0.0010',\n",
       " 'IN_31': '0.0010',\n",
       " 'IN_4': '0.0010',\n",
       " 'IN_5': '0.0010',\n",
       " 'IN_6': '0.0010',\n",
       " 'IN_7': '0.0010',\n",
       " 'IN_8': '0.0010',\n",
       " 'IN_9': '0.0010',\n",
       " 'IN_CELL_ISOLATION': '0',\n",
       " 'IN_CELL_ISOLATION_MODE': '0',\n",
       " 'IN_CELL_ISOLATION_MODE_MS3': '0',\n",
       " 'IN_CELL_ISOLATION_MODE_MS4': '0',\n",
       " 'IN_CELL_ISOLATION_MS3': '0',\n",
       " 'IN_CELL_ISOLATION_MS4': '0',\n",
       " 'IN_CELL_MSN_STATE': '0',\n",
       " 'IRMPD': '0',\n",
       " 'IRMPD_MS3': '0',\n",
       " 'IRMPD_MS4': '0',\n",
       " 'IRMPD_Power': '0.0',\n",
       " 'IccAux1': '0.0',\n",
       " 'IccAux2': '0.0',\n",
       " 'IccAux3': '0.0',\n",
       " 'IccAux4': '0.0',\n",
       " 'InSource_Frag_Energy': '90.0',\n",
       " 'IonChargeControl': '0',\n",
       " 'Ion_Mirror_RFAmp': '170.0',\n",
       " 'IsCID': '0',\n",
       " 'IsolationNotch_0': '4.0',\n",
       " 'IsolationNotch_1': '5.0',\n",
       " 'IsolationNotch_2': '5.03',\n",
       " 'IsolationNotch_3': '-1.0',\n",
       " 'JHIGH_0': '3000.0',\n",
       " 'JHIGH_1': '3000.0',\n",
       " 'JHIGH_2': '3000.0',\n",
       " 'JHIGH_3': '1800.0',\n",
       " 'JLOW_0': '100.0',\n",
       " 'JLOW_1': '100.0',\n",
       " 'JLOW_2': '100.0',\n",
       " 'JLOW_3': '90.0',\n",
       " 'JRAD': '250.0',\n",
       " 'JSB_0': '2000.0625',\n",
       " 'JSB_1': '3000.0',\n",
       " 'JSB_2': '2000.0',\n",
       " 'JSB_3': '2000.0',\n",
       " 'JSHA_0': '20.0',\n",
       " 'JSHA_1': '20.0',\n",
       " 'JSHA_2': '20.0',\n",
       " 'JSHA_3': '20.0',\n",
       " 'JSWA_0': '100.0',\n",
       " 'JSWA_1': '100.0',\n",
       " 'JSWA_2': '100.0',\n",
       " 'JSWA_3': '100.0',\n",
       " 'LB': '-0.2',\n",
       " 'LCRunTime': '15.0',\n",
       " 'LC_mode': '0',\n",
       " 'L_0': '313',\n",
       " 'L_1': '1348',\n",
       " 'L_10': '1',\n",
       " 'L_11': '1',\n",
       " 'L_12': '311',\n",
       " 'L_13': '1',\n",
       " 'L_14': '1',\n",
       " 'L_15': '1',\n",
       " 'L_16': '1',\n",
       " 'L_17': '1',\n",
       " 'L_18': '332',\n",
       " 'L_19': '1',\n",
       " 'L_2': '399',\n",
       " 'L_20': '1',\n",
       " 'L_21': '1',\n",
       " 'L_22': '1',\n",
       " 'L_23': '1',\n",
       " 'L_24': '1',\n",
       " 'L_25': '1',\n",
       " 'L_26': '1',\n",
       " 'L_27': '1',\n",
       " 'L_28': '200',\n",
       " 'L_29': '20',\n",
       " 'L_3': '1',\n",
       " 'L_30': '1',\n",
       " 'L_31': '1585',\n",
       " 'L_4': '1',\n",
       " 'L_5': '1',\n",
       " 'L_6': '311',\n",
       " 'L_7': '1',\n",
       " 'L_8': '1',\n",
       " 'L_9': '1',\n",
       " 'LaserAttn': '46.0',\n",
       " 'M1LIST': 'se__curr_m1',\n",
       " 'MAXI': '1.12',\n",
       " 'MAXPKS': '2000',\n",
       " 'MI': '0.0010',\n",
       " 'ML1': '1.8427001783361462E8',\n",
       " 'ML2': '5.039161102310875',\n",
       " 'ML3': '0.0',\n",
       " 'MTP_LaserPowerOffset': '40',\n",
       " 'MTP_LaserPowerRange': '30',\n",
       " 'MTP_RANDOM_WALK_ENABLE': '0',\n",
       " 'MTP_SCAN_PER_GRID': '1',\n",
       " 'MTP_SPOT_DIAMETER': '2000.0',\n",
       " 'MW_cent': '857.0',\n",
       " 'MW_high': '3000.0',\n",
       " 'MW_low': '294.8291748735983',\n",
       " 'MW_range': '40.04728798105975',\n",
       " 'Mass_Tolerance': '1.0',\n",
       " 'Min_Intensity_Absolute': '100000.0',\n",
       " 'Min_Intensity_Relative': '0.0',\n",
       " 'NBL': '1',\n",
       " 'NCI_Chamber': '-4.0',\n",
       " 'NCI_Emission_Current': '3.0',\n",
       " 'NCI_Filament_Selection': '0',\n",
       " 'NCI_FocusLens': '-6.7',\n",
       " 'NCI_GateLensBlock': '-20.0',\n",
       " 'NCI_GateLensPass': '85.0',\n",
       " 'NCI_Ionization_Energy': '70.0',\n",
       " 'NCI_Max_Emission': '10.0',\n",
       " 'NCI_MethaneFlow': '17.0',\n",
       " 'NCI_MethaneFlushSW': '0',\n",
       " 'NCI_ReagentTuneSW': '0',\n",
       " 'NCI_Source_Temp': '60.0',\n",
       " 'NCI_TransferLens': '5.3',\n",
       " 'NC_proc': '0',\n",
       " 'NOISE': '0.0',\n",
       " 'NS': '16',\n",
       " 'NS_status': '5',\n",
       " 'NTB_actExclusionResolution': '5.0',\n",
       " 'NTB_exclSingleChargedIons': '0',\n",
       " 'NTB_exclUnknownAndSingleChargedIons': '0',\n",
       " 'NTB_fillUpPrecursorsFromDynExclusion': '0',\n",
       " 'NTB_maxChargeState': '30',\n",
       " 'NTB_preferDoubleChargedIons': '0',\n",
       " 'NTB_relThreshold': '0.01',\n",
       " 'NTB_strictActExclTime': '0',\n",
       " 'NoisPct': '1.3',\n",
       " 'O1': '373917.3444353828',\n",
       " 'Oct1_Bias2': '2.5',\n",
       " 'Oct1_Bias2_Delta': '0.0',\n",
       " 'Oct1_Bias_H': '2.5',\n",
       " 'Oct1_Bias_L': '3.0',\n",
       " 'Oct1_Extract': '0.0',\n",
       " 'Oct1_PartitionLens': '2.5',\n",
       " 'Oct1_RFAmp': '350.0',\n",
       " 'Oct1_RF_Freq': '0.0',\n",
       " 'Oct1_Trap': '0.0',\n",
       " 'PAPS': '1',\n",
       " 'PATCHNO': 'A7',\n",
       " 'PC': '2.0',\n",
       " 'PHC0': '0.0',\n",
       " 'PHC1': '0.0',\n",
       " 'PH_mod': '2',\n",
       " 'PI_0': '749.4',\n",
       " 'PI_1': '429.0',\n",
       " 'PI_2': '401.0',\n",
       " 'PI_3': '424.219',\n",
       " 'PIoff_0': '-500.0',\n",
       " 'PIoff_1': '-1000.0',\n",
       " 'PIoff_2': '-1000.0',\n",
       " 'PIoff_3': '500.0',\n",
       " 'PL_0': '90.0',\n",
       " 'PL_1': '120.0',\n",
       " 'PL_10': '120.0',\n",
       " 'PL_11': '120.0',\n",
       " 'PL_12': '26.9',\n",
       " 'PL_13': '29.794708',\n",
       " 'PL_14': '27.863136',\n",
       " 'PL_15': '120.0',\n",
       " 'PL_16': '120.0',\n",
       " 'PL_17': '120.0',\n",
       " 'PL_18': '34.307144',\n",
       " 'PL_19': '9.5',\n",
       " 'PL_2': '120.0',\n",
       " 'PL_20': '120.0',\n",
       " 'PL_21': '120.0',\n",
       " 'PL_22': '120.0',\n",
       " 'PL_23': '35.0',\n",
       " 'PL_24': '120.0',\n",
       " 'PL_25': '120.0',\n",
       " 'PL_26': '120.0',\n",
       " 'PL_27': '120.0',\n",
       " 'PL_28': '120.0',\n",
       " 'PL_29': '120.0',\n",
       " 'PL_3': '9.863137',\n",
       " 'PL_30': '120.0',\n",
       " 'PL_31': '120.0',\n",
       " 'PL_4': '19.931568',\n",
       " 'PL_5': '120.0',\n",
       " 'PL_6': '120.0',\n",
       " 'PL_7': '19.931568',\n",
       " 'PL_8': '33.038116',\n",
       " 'PL_9': '21.950132',\n",
       " 'PP_meth': '0',\n",
       " 'PULPROG': 'BASIC',\n",
       " 'PULSED_VALVE_1_MS3': '0',\n",
       " 'PULSED_VALVE_1_MS4': '0',\n",
       " 'PULSED_VALVE_1_ON': '0',\n",
       " 'PULSED_VALVE_2_MS3': '0',\n",
       " 'PULSED_VALVE_2_MS4': '0',\n",
       " 'PULSED_VALVE_2_ON': '0',\n",
       " 'PV1': '0.55',\n",
       " 'PV2': '0.45',\n",
       " 'P_0': '3000.0',\n",
       " 'P_1': '5000.0',\n",
       " 'P_10': '0.1',\n",
       " 'P_11': '0.1',\n",
       " 'P_12': '5000.0',\n",
       " 'P_13': '200000.0',\n",
       " 'P_14': '300.0',\n",
       " 'P_15': '0.1',\n",
       " 'P_16': '0.1',\n",
       " 'P_17': '0.1',\n",
       " 'P_18': '250000.0',\n",
       " 'P_19': '300.0',\n",
       " 'P_2': '1750.0',\n",
       " 'P_20': '0.1',\n",
       " 'P_21': '0.1',\n",
       " 'P_22': '0.1',\n",
       " 'P_23': '250000.0',\n",
       " 'P_24': '0.1',\n",
       " 'P_25': '5.0',\n",
       " 'P_26': '20000.0',\n",
       " 'P_27': '0.1',\n",
       " 'P_28': '0.1',\n",
       " 'P_29': '20000.0',\n",
       " 'P_3': '20.0',\n",
       " 'P_30': '61422.630616765826',\n",
       " 'P_31': '0.1',\n",
       " 'P_4': '300.0',\n",
       " 'P_5': '600000.0',\n",
       " 'P_6': '120.0',\n",
       " 'P_7': '158465.0',\n",
       " 'P_8': '200000.0',\n",
       " 'P_9': '300.0',\n",
       " 'Polarity': '0',\n",
       " 'Polarity_Alternate': '0',\n",
       " 'Q1CID': '0',\n",
       " 'Q1DC': '0',\n",
       " 'Q1Mass': '857.0',\n",
       " 'Q1Res': '0.0',\n",
       " 'Q1Res_TimeSlice01': '10.0',\n",
       " 'Q1Res_TimeSlice25': '0.0',\n",
       " 'Q1_Bias': '0.0',\n",
       " 'Q1_EntranceLens': '-1.0',\n",
       " 'Q1_ExitLens': '4.0',\n",
       " 'Q1_Focus': '-120.0',\n",
       " 'Q1_FocusOffset': '0.0',\n",
       " 'Q1_Frag_Energy': '0.0',\n",
       " 'Q1_PostFilter': '0.0',\n",
       " 'Q1_PreFilter': '0.0',\n",
       " 'Q1_Shell': '0.0',\n",
       " 'QFSCU_OPMODE': 'NC',\n",
       " 'QFSCU_OVERWRITE': '294.90/3.00/294.70/2.70/502.352/43.000,294.90/5.00/295.10/5.10/501.280/42.626,294.90/10.00/295.00/10.30/497.878/41.711,294.90/20.00/294.40/21.80/490.543/39.767,566.90/3.00/566.80/3.40/962.161/83.288,566.90/5.00/567.00/4.90/961.259/82.955,566.90/10.00/567.00/9.80/958.326/82.067,566.90/20.00/566.90/20.70/951.346/80.211,838.80/3.00/838.70/3.20/1421.698/123.551,838.80/5.00/838.70/5.10/1420.390/123.164,838.80/10.00/838.90/9.70/1417.254/122.246,838.80/20.00/838.90/20.10/1411.636/120.615,1110.80/3.00/1110.60/2.50/1881.598/163.989,1110.80/5.00/1110.90/5.00/1880.142/163.454,1110.80/10.00/1110.80/9.70/1876.835/162.527,1110.80/20.00/1110.90/20.50/1870.267/160.642,1382.70/3.00/1382.50/3.40/2340.487/204.071,1382.70/5.00/1382.50/5.30/2339.203/203.638,1382.70/10.00/1382.80/9.70/2336.847/202.809,1382.70/20.00/1382.50/21.00/2329.115/200.674,1654.70/3.00/1654.60/3.10/2800.082/244.365,1654.70/5.00/1654.80/4.50/2799.101/243.967,1654.70/10.00/1654.90/9.80/2795.902/242.965,1654.70/20.00/1654.70/19.80/2789.455/241.151,1926.60/3.00/1926.70/2.70/3259.756/284.607,1926.60/5.00/1926.70/4.70/3258.533/284.099,1926.60/10.00/1926.80/9.90/3255.647/282.844,1926.60/20.00/1926.50/19.70/3249.031/281.286',\n",
       " 'QFSCU_STORE': 'NC',\n",
       " 'QFSCU_TABLE': 'NC',\n",
       " 'REVERSE': '1',\n",
       " 'RGAIN': '0',\n",
       " 'Reservoir_1_Pressure': '10.0',\n",
       " 'Reservoir_2_Pressure': '1.0E-4',\n",
       " 'Reverse_ETDSW': '0',\n",
       " 'RxFilter': '2',\n",
       " 'RxGain': '1',\n",
       " 'RxMode': '1',\n",
       " 'SEL_0': '0.5',\n",
       " 'SEL_1': '0.5',\n",
       " 'SEL_2': '0.5',\n",
       " 'SEL_3': '0.5',\n",
       " 'SFO1': '0.37391734443538277',\n",
       " 'SI': '8388608',\n",
       " 'SN_Fact': '0.5',\n",
       " 'SORI': '0',\n",
       " 'SORI_MS3': '0',\n",
       " 'SORI_MS4': '0',\n",
       " 'SPNAM0': 'FTMS_Excite',\n",
       " 'SPNAM1': 'FTMS_Excite',\n",
       " 'SPNAM10': 'gauss',\n",
       " 'SPNAM11': 'gauss',\n",
       " 'SPNAM12': 'gauss',\n",
       " 'SPNAM13': 'gauss',\n",
       " 'SPNAM14': 'gauss',\n",
       " 'SPNAM15': 'gauss',\n",
       " 'SPNAM2': 'gauss',\n",
       " 'SPNAM3': 'gauss',\n",
       " 'SPNAM4': 'gauss',\n",
       " 'SPNAM5': 'gauss',\n",
       " 'SPNAM6': 'gauss',\n",
       " 'SPNAM7': 'gauss',\n",
       " 'SPNAM8': 'gauss',\n",
       " 'SPNAM9': 'gauss',\n",
       " 'SPOFFS_0': '0.0',\n",
       " 'SPOFFS_1': '0.0',\n",
       " 'SPOFFS_10': '0.0',\n",
       " 'SPOFFS_11': '0.0',\n",
       " 'SPOFFS_12': '0.0',\n",
       " 'SPOFFS_13': '0.0',\n",
       " 'SPOFFS_14': '0.0',\n",
       " 'SPOFFS_15': '0.0',\n",
       " 'SPOFFS_2': '0.0',\n",
       " 'SPOFFS_3': '0.0',\n",
       " 'SPOFFS_4': '0.0',\n",
       " 'SPOFFS_5': '0.0',\n",
       " 'SPOFFS_6': '0.0',\n",
       " 'SPOFFS_7': '0.0',\n",
       " 'SPOFFS_8': '0.0',\n",
       " 'SPOFFS_9': '0.0',\n",
       " 'SP_0': '120.0',\n",
       " 'SP_1': '150.0',\n",
       " 'SP_10': '150.0',\n",
       " 'SP_11': '150.0',\n",
       " 'SP_12': '150.0',\n",
       " 'SP_13': '150.0',\n",
       " 'SP_14': '150.0',\n",
       " 'SP_15': '150.0',\n",
       " 'SP_2': '150.0',\n",
       " 'SP_3': '150.0',\n",
       " 'SP_4': '150.0',\n",
       " 'SP_5': '150.0',\n",
       " 'SP_6': '150.0',\n",
       " 'SP_7': '150.0',\n",
       " 'SP_8': '150.0',\n",
       " 'SP_9': '150.0',\n",
       " 'SSB': '0.0',\n",
       " 'SW': '1671492.4014657661',\n",
       " 'SW_h': '625000.0',\n",
       " 'SW_h_Broadband': '625000.0',\n",
       " 'SW_h_Narrowband': '10288.065843621398',\n",
       " 'S_CapillaryExit_H': '200.0',\n",
       " 'S_CapillaryExit_L': '200.0',\n",
       " 'S_Deflector_L': '220.0',\n",
       " 'S_Funnel1_DC': '150.0',\n",
       " 'S_Funnel2_DC': '6.0',\n",
       " 'S_Funnel_RF': '200.0',\n",
       " 'S_MaldiPlate_L': '0.0',\n",
       " 'S_Skimmer1': '10.0',\n",
       " 'S_Skimmer2_H': '5.0',\n",
       " 'S_Skimmer2_L': '5.0',\n",
       " 'SaveFid': '1',\n",
       " 'SaveScanSpectrum': '1',\n",
       " 'SwpDir': '0',\n",
       " 'SwpEnabled_0': '0',\n",
       " 'SwpEnabled_1': '0',\n",
       " 'SwpEnabled_2': '0',\n",
       " 'SwpEnabled_3': '0',\n",
       " 'SwpHigh_0': '10.0',\n",
       " 'SwpHigh_1': '10.0',\n",
       " 'SwpHigh_2': '10.0',\n",
       " 'SwpHigh_3': '10.0',\n",
       " 'SwpLow_0': '10.0',\n",
       " 'SwpLow_1': '10.0',\n",
       " 'SwpLow_2': '10.0',\n",
       " 'SwpLow_3': '10.0',\n",
       " 'SwpRate_0': '500.0',\n",
       " 'SwpRate_1': '500.0',\n",
       " 'SwpRate_2': '500.0',\n",
       " 'SwpRate_3': '500.0',\n",
       " 'SwpTime_0': '0.01',\n",
       " 'SwpTime_1': '0.01',\n",
       " 'SwpTime_2': '0.01',\n",
       " 'SwpTime_3': '0.01',\n",
       " 'TD': '4194304',\n",
       " 'TD_Broadband': '4194304',\n",
       " 'TD_Narrowband': '65536',\n",
       " 'TDeff': '0',\n",
       " 'TDoff': '0',\n",
       " 'TILT': '1',\n",
       " 'TgTyp': 'MSP 96',\n",
       " 'VCLIST': 'se__curr_vc',\n",
       " 'VD': '0.0',\n",
       " 'VDLIST': 'reagent_1',\n",
       " 'VP': '0.0',\n",
       " 'VPLIST': 'PPPPPPPPPPPPPPP',\n",
       " 'VPV1_0': '1.0',\n",
       " 'VPV1_1': '1.0',\n",
       " 'VPV1_10': '0.0',\n",
       " 'VPV1_11': '0.0',\n",
       " 'VPV1_12': '0.0',\n",
       " 'VPV1_13': '0.0',\n",
       " 'VPV1_14': '0.0',\n",
       " 'VPV1_15': '0.0',\n",
       " 'VPV1_16': '0.0',\n",
       " 'VPV1_17': '0.0',\n",
       " 'VPV1_18': '0.0',\n",
       " 'VPV1_19': '0.0',\n",
       " 'VPV1_2': '0.0',\n",
       " 'VPV1_20': '0.0',\n",
       " 'VPV1_21': '0.0',\n",
       " 'VPV1_22': '0.0',\n",
       " 'VPV1_23': '0.0',\n",
       " 'VPV1_24': '0.0',\n",
       " 'VPV1_25': '0.0',\n",
       " 'VPV1_26': '0.0',\n",
       " 'VPV1_27': '0.0',\n",
       " 'VPV1_28': '0.0',\n",
       " 'VPV1_29': '0.0',\n",
       " 'VPV1_3': '0.0',\n",
       " 'VPV1_30': '0.0',\n",
       " 'VPV1_31': '0.0',\n",
       " 'VPV1_4': '0.0',\n",
       " 'VPV1_5': '0.0',\n",
       " 'VPV1_6': '0.0',\n",
       " 'VPV1_7': '0.0',\n",
       " 'VPV1_8': '0.0',\n",
       " 'VPV1_9': '0.0',\n",
       " 'VPV2_0': '1.0',\n",
       " 'VPV2_1': '1.0',\n",
       " 'VPV2_10': '0.0',\n",
       " 'VPV2_11': '0.0',\n",
       " 'VPV2_12': '0.0',\n",
       " 'VPV2_13': '0.0',\n",
       " 'VPV2_14': '0.0',\n",
       " 'VPV2_15': '0.0',\n",
       " 'VPV2_16': '0.0',\n",
       " 'VPV2_17': '0.0',\n",
       " 'VPV2_18': '0.0',\n",
       " 'VPV2_19': '0.0',\n",
       " 'VPV2_2': '0.0',\n",
       " 'VPV2_20': '0.0',\n",
       " 'VPV2_21': '0.0',\n",
       " 'VPV2_22': '0.0',\n",
       " 'VPV2_23': '0.0',\n",
       " 'VPV2_24': '0.0',\n",
       " 'VPV2_25': '0.0',\n",
       " 'VPV2_26': '0.0',\n",
       " 'VPV2_27': '0.0',\n",
       " 'VPV2_28': '0.0',\n",
       " 'VPV2_29': '0.0',\n",
       " 'VPV2_3': '0.0',\n",
       " 'VPV2_30': '0.0',\n",
       " 'VPV2_31': '0.0',\n",
       " 'VPV2_4': '0.0',\n",
       " 'VPV2_5': '0.0',\n",
       " 'VPV2_6': '0.0',\n",
       " 'VPV2_7': '0.0',\n",
       " 'VPV2_8': '0.0',\n",
       " 'VPV2_9': '0.0',\n",
       " 'VSTEP_0': '0',\n",
       " 'VSTEP_1': '0',\n",
       " 'VSTEP_10': '0',\n",
       " 'VSTEP_11': '0',\n",
       " 'VSTEP_12': '0',\n",
       " 'VSTEP_13': '0',\n",
       " 'VSTEP_14': '0',\n",
       " 'VSTEP_15': '0',\n",
       " 'VSTEP_16': '0',\n",
       " 'VSTEP_17': '0',\n",
       " 'VSTEP_18': '0',\n",
       " 'VSTEP_19': '0',\n",
       " 'VSTEP_2': '0',\n",
       " 'VSTEP_20': '0',\n",
       " 'VSTEP_21': '0',\n",
       " 'VSTEP_22': '0',\n",
       " 'VSTEP_23': '0',\n",
       " 'VSTEP_24': '0',\n",
       " 'VSTEP_25': '0',\n",
       " 'VSTEP_26': '0',\n",
       " 'VSTEP_27': '0',\n",
       " 'VSTEP_28': '0',\n",
       " 'VSTEP_29': '0',\n",
       " 'VSTEP_3': '0',\n",
       " 'VSTEP_30': '0',\n",
       " 'VSTEP_31': '0',\n",
       " 'VSTEP_4': '0',\n",
       " 'VSTEP_5': '0',\n",
       " 'VSTEP_6': '0',\n",
       " 'VSTEP_7': '0',\n",
       " 'VSTEP_8': '0',\n",
       " 'VSTEP_9': '0',\n",
       " 'WDW': '3',\n",
       " 'XBB': '100.0',\n",
       " 'XFC': '25000.0',\n",
       " 'XHR': '45.0',\n",
       " 'Xfer_Bias': '-50.0',\n",
       " 'Xfer_EntranceLens': '-30.0',\n",
       " 'Xfer_ExitLens': '-15.0',\n",
       " 'Xfer_Freq': '2.0',\n",
       " 'Xfer_Lens_1': '-60.0',\n",
       " 'Xfer_Lens_2': '-10.0',\n",
       " 'Xfer_Lens_3': '-50.0',\n",
       " 'Xfer_RFAmp': '450.0',\n",
       " 'YMAX_p': '100000000',\n",
       " 'YMIN_p': '0'}"
      ]
     },
     "execution_count": 20,
     "metadata": {},
     "output_type": "execute_result"
    }
   ],
   "source": [
    "d.params"
   ]
  },
  {
   "cell_type": "code",
   "execution_count": 21,
   "metadata": {},
   "outputs": [
    {
     "data": {
      "text/plain": [
       "'294.82916'"
      ]
     },
     "execution_count": 21,
     "metadata": {},
     "output_type": "execute_result"
    }
   ],
   "source": [
    "d.params['EXC_low']   # note that the content is a string !"
   ]
  },
  {
   "cell_type": "markdown",
   "metadata": {},
   "source": [
    "# Conversion\n",
    "among other things, the axis object knows how to convert units.\n",
    "\n",
    "For instance a FTICR axis unit can be chosen among `points` `Hz` and `m/z`. The transient knows also `sec`.\n",
    "\n",
    "there is a set of transformation functions, all called `x_to_y` where `x_` and `_y` are chosen from the possible units\n",
    "\n",
    "`i h mz s` for points, Hz m/z and sec respectively."
   ]
  },
  {
   "cell_type": "code",
   "execution_count": 22,
   "metadata": {},
   "outputs": [
    {
     "name": "stdout",
     "output_type": "stream",
     "text": [
      "24715.58393028199\n",
      "2003358.8688803117\n",
      "426447.21224740177\n",
      "1656998.1852672\n"
     ]
    }
   ],
   "source": [
    "print(d.axis1.itomz(100000))\n",
    "print(d.axis1.mztoi(1234.5))\n",
    "print(d.axis1.mztoh(432.1))\n",
    "print(d.axis1.htoi(123456))"
   ]
  },
  {
   "cell_type": "markdown",
   "metadata": {},
   "source": [
    "the *current* unit can be set:\n",
    "\n",
    "and there are function to convert to and from current unit, using the letter c,\n",
    "but only `ctoi()` and `itoc()` are defined for the moment"
   ]
  },
  {
   "cell_type": "code",
   "execution_count": 28,
   "metadata": {},
   "outputs": [
    {
     "name": "stdout",
     "output_type": "stream",
     "text": [
      "2003.2080336460783\n",
      "2003.2080336460783\n",
      "1234571.951386626\n"
     ]
    }
   ],
   "source": [
    "# either\n",
    "d.set_unit('Hz')  # can be chained\n",
    "#\n",
    "d.unit = 'm/z'    # can not be chained\n",
    "print(d.axis1.itomz(1234567))\n",
    "print(d.axis1.itoc(1234567))\n",
    "print(d.axis1.ctoi(2003.2))"
   ]
  },
  {
   "cell_type": "markdown",
   "metadata": {},
   "source": [
    "## complex vs real\n",
    "The axis object also knows about the complex/real state of the dataset.\n",
    "\n",
    "In fact the buffer that contains the binary data is always a real numpy buffer.\n",
    "A flag called `itype` (for historical reasons) tels whether the data is real (`itype=0`) or complex (`itype=1`), and the program handles every thing accordingly.\n",
    "\n",
    "so the size of the axis (the number of points along that axis) is either given as the number of values ( `.size`) or as the number of *numbers* (`.cpxsize`) which will be halved in the case of a coplex axis:"
   ]
  },
  {
   "cell_type": "code",
   "execution_count": 48,
   "metadata": {},
   "outputs": [
    {
     "name": "stdout",
     "output_type": "stream",
     "text": [
      "0 8388608 8388608\n"
     ]
    },
    {
     "data": {
      "text/plain": [
       "'FT-ICR report axis at 625.000000 kHz,  8388608 real points,  from physical mz =  294.830   to m/z = 3000.000  R max (M=400) = 6183075'"
      ]
     },
     "execution_count": 48,
     "metadata": {},
     "output_type": "execute_result"
    }
   ],
   "source": [
    "print(d.axis1.itype, d.axis1.cpxsize, d.axis1.size)\n",
    "d.axis1.report()"
   ]
  },
  {
   "cell_type": "code",
   "execution_count": 49,
   "metadata": {},
   "outputs": [
    {
     "name": "stdout",
     "output_type": "stream",
     "text": [
      "1 4194304 8388608\n"
     ]
    },
    {
     "data": {
      "text/plain": [
       "'FT-ICR report axis at 625.000000 kHz,  4194304 complex pairs,  from physical mz =  294.830   to m/z = 3000.000  R max (M=400) = 6183075'"
      ]
     },
     "execution_count": 49,
     "metadata": {},
     "output_type": "execute_result"
    }
   ],
   "source": [
    "d.axis1.itype = 1   # can actually be forced - BE CAREFULL -\n",
    "print(d.axis1.itype, d.axis1.cpxsize, d.axis1.size)\n",
    "d.axis1.report()"
   ]
  },
  {
   "cell_type": "markdown",
   "metadata": {},
   "source": [
    "# Calibration\n",
    "conversion from points to Hz, and from Hz to m/z requires calibration\n",
    "\n",
    "from points to Hz is fully determined by the sampling of the axis\n",
    "\n",
    "from Hz to m/z depends on the calibration constants $A$ $B$ and $C$\n",
    "\n",
    "with the following law:\n",
    "\n",
    "$$\n",
    "Hz = \\frac{A}{m/z} - B + \\frac{C}{(m/z)^2}\n",
    "$$\n",
    "\n",
    "A, B, and C are estimated from the acquisition files at import time."
   ]
  },
  {
   "cell_type": "code",
   "execution_count": 29,
   "metadata": {},
   "outputs": [
    {
     "name": "stdout",
     "output_type": "stream",
     "text": [
      "184270017.83361462 5.039161102310875 0.0\n"
     ]
    }
   ],
   "source": [
    "print(d.axis1.calibA, d.axis1.calibB, d.axis1.calibC)"
   ]
  },
  {
   "cell_type": "markdown",
   "metadata": {},
   "source": [
    "an interactive tool is proposed to recalibrate from a set of reference peaks."
   ]
  },
  {
   "cell_type": "markdown",
   "metadata": {},
   "source": [
    "# 2D\n",
    "\n",
    "## Datasets\n",
    "2D datasets are not so different,\n",
    "\n",
    "- the buffer is a 2D numpy array\n",
    "- there are 2 axes: `axis1` for the $F1$ (vertical) axis and `axis2` for the $F2$ (horizontal) axis\n",
    "\n",
    "However, the tools for handling them are quite different\n",
    "\n",
    "The files are store in a `HDF5` format (a standard format for scientific hierarchical large data-sets), and are called `*.msh5`\n",
    "These files contains all the data, the definition of the axes, the parameters, etc...\n",
    "The spectrum are internally compressed (this is not possible for the transient files).\n",
    "\n",
    "After processing, the spectrum is stored in a multiresolution, hierarchical manner. These files are usually called `*_mr.msh5` with `mr`for multiresolution"
   ]
  },
  {
   "cell_type": "markdown",
   "metadata": {},
   "source": [
    "## Processing 2D\n",
    "This is performed with the `processing` program, which is standalone, and steered from a configuration file called `*.mscf` \n",
    "\n",
    "It is called by typing:\n",
    "```\n",
    "python -m spike.processing configuration.mscf\n",
    "```\n",
    "\n",
    "The program is able to use all the core of a multiprocessor machine, and also to be deployed on a cluster running `MPI`\n"
   ]
  },
  {
   "cell_type": "code",
   "execution_count": 36,
   "metadata": {},
   "outputs": [
    {
     "name": "stdout",
     "output_type": "stream",
     "text": [
      "# configuration file used for testing\r\n",
      "\r\n",
      "[import]\r\n",
      "# __DATA_test__ is a symlink created by the test procedure, pointing to the real dir.\r\n",
      "apex = __DATA_test__/ubiquitine_2D_000002.d\r\n",
      "format = Apex\r\n",
      "F1_specwidth = 500000\r\n",
      "F2_specwidth = 500000\r\n",
      "highmass = 2500\r\n",
      "\r\n",
      "[processing]\r\n",
      "# input file, if not present, will be created from apex above\r\n",
      "infile = __DATA_test__/ubiquitine_2D_000002.msh5\r\n",
      "# optionnal intermediate file name\r\n",
      "# be careful, this one can be larger than both in and out files.\r\n",
      "# if interfile absent, the temporary file will created in the designed temp directory and deleted at the end\r\n",
      "#interfile = __DATA_test__/ubiquitine_temp.msh5\r\n",
      "tempdir = __DATA_test__\r\n",
      "# output file\r\n",
      "outfile =  __DATA_test__/ubiquitine_2D_000002_mr.msh5\r\n",
      "\r\n",
      "# file can be internally compressed by removing the weakest value lost in the noise\r\n",
      "compress_outfile = True\r\n",
      "# compress_level is the ratio of noise level that will be discarded, up to 3.0 (3 x sigma) it should be ok.\r\n",
      "# the highest compress_level, the better the compression, but expect some distortions\r\n",
      "compress_level = 3.0\r\n",
      "\r\n",
      "#zerofilling = -1 -3\r\n",
      "sizemultipliers = 0.5 0.5\r\n",
      "\r\n",
      "largest_file = 64G      # largest autorized file - in bytes\r\n",
      "\r\n",
      "# do_F2 : if false, processing along F2 (horizontal) is not performed\r\n",
      "do_F2 = True\r\n",
      "# do_F1 : if false, processing along F1 (vertical) is not performed\r\n",
      "do_F1 = True\r\n",
      "\r\n",
      "# special flags\r\n",
      "# use_multiprocessing : if True, will use the python/multiprocessing to speed-up F1 computation\r\n",
      "# will deploy on nb_proc core. - seems to be buggy on certain dstribution of python\r\n",
      "# note that for large data-files   MPI   should be favored when available.\r\n",
      "# in which case, use_multiprocessing and nb_proc are ignored\r\n",
      "# This test set multiprocessing to True - DOES NOT WORK ON ALL DISTRIBUTION -\r\n",
      "# if processing fails (core dump !), set this to False\r\n",
      "use_multiprocessing = False\r\n",
      "nb_proc = 2\r\n",
      "# do_urqrd : if True, the urQRd denoising is applied in F1\r\n",
      "do_urqrd = False\r\n",
      "# rank used for urqrd - 2 to 3 times the number of lines expected in columns\r\n",
      "# urQRd processing time is proportionnal to this\r\n",
      "urqrd_rank = 100\r\n",
      "# urQRd iterations improve the signal, but somehow \r\n",
      "# urQRd processing time is proportionnal to this one as well\r\n",
      "urqrd_iterations = 2\r\n",
      "\r\n",
      "# do_f1demodu : if True, the F1 offset correction will be applied\r\n",
      "do_f1demodu = True\r\n",
      "# if freq_f1demodu is defined, it will be used by do_f1demodu\r\n",
      "# should be set to the last freq value of the excitation pulse\r\n",
      "# if not set, highmass is used (assuming a lowmass to highmass pulse)\r\n",
      "# freq_f1demodu = 123456.789 \r\n",
      "\r\n",
      "# do_modulus : if True, a modulus will be applied at the end of the processing\r\n",
      "do_modulus = True\r\n",
      "# do_rem_ridge : if True, vertical ridges will be applied\r\n",
      "do_rem_ridge = True\r\n",
      "\r\n",
      "[visu2d]\r\n",
      "# file to display\r\n",
      "multresfile = __DATA_test__/ubiquitine_2D_000002_mr.msh5\r\n",
      "#multresfile = __DATA_test__/seq.msh5\r\n",
      "\r\n",
      "\r\n"
     ]
    }
   ],
   "source": [
    "cat /Users/mad/NPKV2/DATA_test/test.mscf"
   ]
  },
  {
   "cell_type": "markdown",
   "metadata": {},
   "source": [
    "## another example for NUS processing"
   ]
  },
  {
   "cell_type": "code",
   "execution_count": 37,
   "metadata": {},
   "outputs": [
    {
     "name": "stdout",
     "output_type": "stream",
     "text": [
      "# configuration file used for testing\r\n",
      "\r\n",
      "[import]\r\n",
      "apex = SubP_NUS/220615_2DFT_VD_2k_NUS16_2048_128k_000001.d\r\n",
      "\r\n",
      "F1_specwidth = 1000000\r\n",
      "#F2_specwidth = 1000000\r\n",
      "\r\n",
      "format = Solarix\r\n",
      "\r\n",
      "[processing]\r\n",
      "# input file, if not present, will be created from apex above\r\n",
      "infile = SubP_NUS/220615_2DFT_VD_2k_NUS16_2048_128k_000001.d/NUS16.msh5\r\n",
      "\r\n",
      "# optionnal intermediate file name\r\n",
      "# be careful, this one can be larger than both in and out files.\r\n",
      "# if interfile absent, the temporary file will created in the standard temp directory and deleted at the end\r\n",
      "#interfile = /Echange/NUS/temp.msh5\r\n",
      "tempdir = /scratch\r\n",
      "\r\n",
      "# output file\r\n",
      "outfile = SubP_NUS/220615_2DFT_VD_2k_NUS16_2048_128k_000001.d/NUS16_f1.msh5\r\n",
      "compress_outfile = True\r\n",
      "compress_level = 2.0\r\n",
      "\r\n",
      "# if samplingfile is defined, means we have a NUS acquisition\r\n",
      "# NUS requires either do_urQRd or do_recital\r\n",
      "samplingfile =  SubP_NUS/2_k_list/Sampling_file_ACQ_SIZE_2k_NUS_factor_16.list\r\n",
      "\r\n",
      "#zerofilling = 2 0\r\n",
      "sizemultipliers = 32 1\r\n",
      "largest_file=400G\r\n",
      "\r\n",
      "# do_F2 : if false, processing along F2 (horizontal) is not performed\r\n",
      "do_F2 = True\r\n",
      "# do_F1 : if false, processing along F1 (vertical) is not performed\r\n",
      "do_F1 = True\r\n",
      "\r\n",
      "# special flags\r\n",
      "# use_multiprocessing : if True, will use the python/multiprocessing to speed-up F1 computation\r\n",
      "# will deploy on nb_proc core.\r\n",
      "# not, this might be heavy for large data-files - MPI should be favored when available.\r\n",
      "use_multiprocessing = False\r\n",
      "#nb_proc = 8\r\n",
      "# do_urqrd : if True, the urQRd denoising is applied in F1\r\n",
      "do_urqrd = False\r\n",
      "# rank used for urqrd - 2 to 3 times the number of lines expected in columns\r\n",
      "# urQRd processing time is proportionnal to this\r\n",
      "#urqrd_rank = 10\r\n",
      "\r\n",
      "# do_recital : if True, uses Recital instead of FT\r\n",
      "do_recital = False\r\n",
      "#recital_miniterations = 300\r\n",
      "#recital_iterations = 4 \r\n",
      "#recital_scale_noise = 0.05\r\n",
      "\r\n",
      "do_pgsane = True\r\n",
      "pgsane_iterations = 30\r\n",
      "pgsane_rank = 10\r\n",
      "\r\n",
      "# do_flip : if True, the F1 offset correction will be applied\r\n",
      "do_flip = True\r\n",
      "# do_modulus : if True, a modulus will be applied at the end of the processing\r\n",
      "do_modulus = True\r\n",
      "# do_rem_ridge : if True, vertical ridges will be applied\r\n",
      "do_rem_ridge = False\r\n",
      "\r\n",
      "\r\n"
     ]
    }
   ],
   "source": [
    "cat  /DATA/FT-ICR/SubP/processing/proc_pg_16_f1.mscf"
   ]
  },
  {
   "cell_type": "code",
   "execution_count": null,
   "metadata": {},
   "outputs": [],
   "source": []
  },
  {
   "cell_type": "markdown",
   "metadata": {},
   "source": [
    "## Displaying 2D\n",
    "Because of the size of the data-sets, the experiment cannot be simply loaded in memory. \n",
    "A special jupyter interactive tool is provided to visualize and interact with 2 experiments."
   ]
  },
  {
   "cell_type": "code",
   "execution_count": null,
   "metadata": {},
   "outputs": [],
   "source": []
  }
 ],
 "metadata": {
  "kernelspec": {
   "display_name": "Python 3",
   "language": "python",
   "name": "python3"
  },
  "language_info": {
   "codemirror_mode": {
    "name": "ipython",
    "version": 3
   },
   "file_extension": ".py",
   "mimetype": "text/x-python",
   "name": "python",
   "nbconvert_exporter": "python",
   "pygments_lexer": "ipython3",
   "version": "3.6.8"
  },
  "varInspector": {
   "cols": {
    "lenName": 16,
    "lenType": 16,
    "lenVar": 40
   },
   "kernels_config": {
    "python": {
     "delete_cmd_postfix": "",
     "delete_cmd_prefix": "del ",
     "library": "var_list.py",
     "varRefreshCmd": "print(var_dic_list())"
    },
    "r": {
     "delete_cmd_postfix": ") ",
     "delete_cmd_prefix": "rm(",
     "library": "var_list.r",
     "varRefreshCmd": "cat(var_dic_list()) "
    }
   },
   "types_to_exclude": [
    "module",
    "function",
    "builtin_function_or_method",
    "instance",
    "_Feature"
   ],
   "window_display": false
  }
 },
 "nbformat": 4,
 "nbformat_minor": 2
}
